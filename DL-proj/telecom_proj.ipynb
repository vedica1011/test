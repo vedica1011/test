{
 "cells": [
  {
   "cell_type": "markdown",
   "metadata": {},
   "source": [
    "# Deep Neural Network"
   ]
  },
  {
   "cell_type": "code",
   "execution_count": 104,
   "metadata": {},
   "outputs": [],
   "source": [
    "import numpy as np\n",
    "import pandas as pd\n",
    "from keras.models import Sequential\n",
    "from keras.layers import Dense\n",
    "from keras.wrappers.scikit_learn import KerasClassifier\n",
    "from keras.utils import np_utils\n",
    "from sklearn.model_selection import cross_val_score\n",
    "from sklearn.model_selection import KFold\n",
    "from sklearn.preprocessing import LabelEncoder\n",
    "from sklearn.pipeline import Pipeline\n",
    "from keras.callbacks import EarlyStopping\n",
    "from keras.callbacks import ModelCheckpoint\n",
    "from matplotlib import pyplot\n",
    "from keras.models import load_model\n",
    "from sklearn.datasets import make_moons\n",
    "from keras.layers import Dropout"
   ]
  },
  {
   "cell_type": "code",
   "execution_count": 106,
   "metadata": {
    "scrolled": true
   },
   "outputs": [
    {
     "data": {
      "text/html": [
       "<div>\n",
       "<style scoped>\n",
       "    .dataframe tbody tr th:only-of-type {\n",
       "        vertical-align: middle;\n",
       "    }\n",
       "\n",
       "    .dataframe tbody tr th {\n",
       "        vertical-align: top;\n",
       "    }\n",
       "\n",
       "    .dataframe thead th {\n",
       "        text-align: right;\n",
       "    }\n",
       "</style>\n",
       "<table border=\"1\" class=\"dataframe\">\n",
       "  <thead>\n",
       "    <tr style=\"text-align: right;\">\n",
       "      <th></th>\n",
       "      <th>wifi_1</th>\n",
       "      <th>wifi_2</th>\n",
       "      <th>wifi_3</th>\n",
       "      <th>wifi_4</th>\n",
       "      <th>wifi_5</th>\n",
       "      <th>wifi_6</th>\n",
       "      <th>wifi_7</th>\n",
       "      <th>Room</th>\n",
       "    </tr>\n",
       "  </thead>\n",
       "  <tbody>\n",
       "    <tr>\n",
       "      <th>0</th>\n",
       "      <td>-64</td>\n",
       "      <td>-56</td>\n",
       "      <td>-61</td>\n",
       "      <td>-66</td>\n",
       "      <td>-71</td>\n",
       "      <td>-82</td>\n",
       "      <td>-81</td>\n",
       "      <td>1</td>\n",
       "    </tr>\n",
       "    <tr>\n",
       "      <th>1</th>\n",
       "      <td>-68</td>\n",
       "      <td>-57</td>\n",
       "      <td>-61</td>\n",
       "      <td>-65</td>\n",
       "      <td>-71</td>\n",
       "      <td>-85</td>\n",
       "      <td>-85</td>\n",
       "      <td>1</td>\n",
       "    </tr>\n",
       "    <tr>\n",
       "      <th>2</th>\n",
       "      <td>-63</td>\n",
       "      <td>-60</td>\n",
       "      <td>-60</td>\n",
       "      <td>-67</td>\n",
       "      <td>-76</td>\n",
       "      <td>-85</td>\n",
       "      <td>-84</td>\n",
       "      <td>1</td>\n",
       "    </tr>\n",
       "    <tr>\n",
       "      <th>3</th>\n",
       "      <td>-61</td>\n",
       "      <td>-60</td>\n",
       "      <td>-68</td>\n",
       "      <td>-62</td>\n",
       "      <td>-77</td>\n",
       "      <td>-90</td>\n",
       "      <td>-80</td>\n",
       "      <td>1</td>\n",
       "    </tr>\n",
       "    <tr>\n",
       "      <th>4</th>\n",
       "      <td>-63</td>\n",
       "      <td>-65</td>\n",
       "      <td>-60</td>\n",
       "      <td>-63</td>\n",
       "      <td>-77</td>\n",
       "      <td>-81</td>\n",
       "      <td>-87</td>\n",
       "      <td>1</td>\n",
       "    </tr>\n",
       "  </tbody>\n",
       "</table>\n",
       "</div>"
      ],
      "text/plain": [
       "   wifi_1  wifi_2  wifi_3  wifi_4  wifi_5  wifi_6  wifi_7  Room\n",
       "0     -64     -56     -61     -66     -71     -82     -81     1\n",
       "1     -68     -57     -61     -65     -71     -85     -85     1\n",
       "2     -63     -60     -60     -67     -76     -85     -84     1\n",
       "3     -61     -60     -68     -62     -77     -90     -80     1\n",
       "4     -63     -65     -60     -63     -77     -81     -87     1"
      ]
     },
     "execution_count": 106,
     "metadata": {},
     "output_type": "execute_result"
    }
   ],
   "source": [
    "dataframe1 = pd.read_table('wifi_localization.txt', delim_whitespace=True, names=('wifi_1','wifi_2','wifi_3','wifi_4','wifi_5','wifi_6','wifi_7','Room'))\n",
    "dataframe1.head()"
   ]
  },
  {
   "cell_type": "code",
   "execution_count": 107,
   "metadata": {
    "scrolled": true
   },
   "outputs": [
    {
     "name": "stdout",
     "output_type": "stream",
     "text": [
      "<class 'pandas.core.frame.DataFrame'>\n",
      "RangeIndex: 2000 entries, 0 to 1999\n",
      "Data columns (total 8 columns):\n",
      "wifi_1    2000 non-null int64\n",
      "wifi_2    2000 non-null int64\n",
      "wifi_3    2000 non-null int64\n",
      "wifi_4    2000 non-null int64\n",
      "wifi_5    2000 non-null int64\n",
      "wifi_6    2000 non-null int64\n",
      "wifi_7    2000 non-null int64\n",
      "Room      2000 non-null int64\n",
      "dtypes: int64(8)\n",
      "memory usage: 125.1 KB\n"
     ]
    }
   ],
   "source": [
    "dataframe1.info()"
   ]
  },
  {
   "cell_type": "code",
   "execution_count": 108,
   "metadata": {},
   "outputs": [
    {
     "data": {
      "text/plain": [
       "array([1, 2, 3, 4], dtype=int64)"
      ]
     },
     "execution_count": 108,
     "metadata": {},
     "output_type": "execute_result"
    }
   ],
   "source": [
    "dataframe1['Room'].unique()"
   ]
  },
  {
   "cell_type": "code",
   "execution_count": 109,
   "metadata": {},
   "outputs": [],
   "source": [
    "dataframe1['Room']=dataframe1['Room'].astype('object')"
   ]
  },
  {
   "cell_type": "code",
   "execution_count": 110,
   "metadata": {},
   "outputs": [],
   "source": [
    "#split Training and Testing\n",
    "from sklearn.model_selection import train_test_split\n",
    "\n",
    "# We specify this so that the train and test data set always have the same rows, respectively\n",
    "np.random.seed(0)\n",
    "\n",
    "X , y = dataframe1.loc[:, dataframe1.columns != 'Room'] ,dataframe1.loc[:, dataframe1.columns == 'Room']\n",
    "trainX, testX, trainy, testy = train_test_split(X, y, random_state = 0,train_size = 0.7, test_size = 0.3)\n"
   ]
  },
  {
   "cell_type": "code",
   "execution_count": 111,
   "metadata": {},
   "outputs": [
    {
     "data": {
      "text/plain": [
       "{1, 2, 3, 4}"
      ]
     },
     "execution_count": 111,
     "metadata": {},
     "output_type": "execute_result"
    }
   ],
   "source": [
    "set(y.Room)"
   ]
  },
  {
   "cell_type": "code",
   "execution_count": 112,
   "metadata": {},
   "outputs": [],
   "source": [
    "trainX=np.array(trainX)\n",
    "trainy=np.array(trainy)\n",
    "testy=np.array(testy)\n",
    "testX=np.array(testX)"
   ]
  },
  {
   "cell_type": "code",
   "execution_count": 113,
   "metadata": {},
   "outputs": [
    {
     "name": "stdout",
     "output_type": "stream",
     "text": [
      "(1400, 7) (600, 7)\n"
     ]
    }
   ],
   "source": [
    "print(trainX.shape,testX.shape)"
   ]
  },
  {
   "cell_type": "code",
   "execution_count": 114,
   "metadata": {},
   "outputs": [
    {
     "name": "stderr",
     "output_type": "stream",
     "text": [
      "C:\\Users\\ved deo\\Anaconda3\\envs\\deep\\lib\\site-packages\\sklearn\\preprocessing\\_label.py:235: DataConversionWarning: A column-vector y was passed when a 1d array was expected. Please change the shape of y to (n_samples, ), for example using ravel().\n",
      "  y = column_or_1d(y, warn=True)\n",
      "C:\\Users\\ved deo\\Anaconda3\\envs\\deep\\lib\\site-packages\\sklearn\\preprocessing\\_label.py:268: DataConversionWarning: A column-vector y was passed when a 1d array was expected. Please change the shape of y to (n_samples, ), for example using ravel().\n",
      "  y = column_or_1d(y, warn=True)\n"
     ]
    }
   ],
   "source": [
    "# encode class values as integers\n",
    "encoder = LabelEncoder()\n",
    "encoder.fit(trainy)\n",
    "trainy = encoder.transform(trainy)\n",
    "# convert integers to dummy variables (i.e. one hot encoded)\n",
    "trainy = np_utils.to_categorical(trainy)"
   ]
  },
  {
   "cell_type": "code",
   "execution_count": 115,
   "metadata": {},
   "outputs": [],
   "source": [
    "# encode class values as integers\n",
    "encoder = LabelEncoder()\n",
    "encoder.fit(testy)\n",
    "testy = encoder.transform(testy)\n",
    "# convert integers to dummy variables (i.e. one hot encoded)\n",
    "testy = np_utils.to_categorical(testy)"
   ]
  },
  {
   "cell_type": "code",
   "execution_count": 116,
   "metadata": {},
   "outputs": [
    {
     "data": {
      "text/plain": [
       "array([[1., 0., 0., 0.],\n",
       "       [0., 0., 1., 0.],\n",
       "       [0., 0., 1., 0.],\n",
       "       ...,\n",
       "       [0., 1., 0., 0.],\n",
       "       [0., 0., 1., 0.],\n",
       "       [1., 0., 0., 0.]], dtype=float32)"
      ]
     },
     "execution_count": 116,
     "metadata": {},
     "output_type": "execute_result"
    }
   ],
   "source": [
    "testy"
   ]
  },
  {
   "cell_type": "code",
   "execution_count": 117,
   "metadata": {},
   "outputs": [],
   "source": [
    "# define model\n",
    "model = Sequential()\n",
    "model.add(Dense(340, activation='relu'))\n",
    "model.add(Dense(200, activation='relu'))\n",
    "model.add(Dense(10, activation='relu'))\n",
    "model.add(Dense(4, activation='softmax'))"
   ]
  },
  {
   "cell_type": "code",
   "execution_count": 118,
   "metadata": {},
   "outputs": [],
   "source": [
    "#compile model with SGD\n",
    "from keras.optimizers import SGD\n",
    "sgd = SGD(lr=0.01, momentum=0.9, decay=0.0, nesterov=False)\n",
    "model.compile(loss='categorical_crossentropy', optimizer=sgd, metrics=['accuracy'])"
   ]
  },
  {
   "cell_type": "code",
   "execution_count": 119,
   "metadata": {},
   "outputs": [],
   "source": [
    "# simple early stopping\n",
    "es = EarlyStopping(monitor='val_loss', mode='min', verbose=1, patience=15)\n",
    "mc = ModelCheckpoint('best_model_mlp.h5', monitor='val_acc', mode='max', verbose=1, save_best_only=True)\n"
   ]
  },
  {
   "cell_type": "code",
   "execution_count": 120,
   "metadata": {},
   "outputs": [
    {
     "name": "stdout",
     "output_type": "stream",
     "text": [
      "Train on 1400 samples, validate on 600 samples\n",
      "Epoch 1/200\n",
      "1400/1400 [==============================] - 0s 320us/step - loss: 2.5381 - accuracy: 0.2571 - val_loss: 1.3873 - val_accuracy: 0.2317\n",
      "Epoch 2/200\n",
      "1400/1400 [==============================] - 0s 89us/step - loss: 1.3866 - accuracy: 0.2579 - val_loss: 1.3879 - val_accuracy: 0.2317\n",
      "Epoch 3/200\n",
      " 640/1400 [============>.................] - ETA: 0s - loss: 1.3885 - accuracy: 0.2234"
     ]
    },
    {
     "name": "stderr",
     "output_type": "stream",
     "text": [
      "C:\\Users\\ved deo\\Anaconda3\\envs\\deep\\lib\\site-packages\\keras\\callbacks\\callbacks.py:707: RuntimeWarning: Can save best model only with val_acc available, skipping.\n",
      "  'skipping.' % (self.monitor), RuntimeWarning)\n"
     ]
    },
    {
     "name": "stdout",
     "output_type": "stream",
     "text": [
      "1400/1400 [==============================] - 0s 114us/step - loss: 1.3874 - accuracy: 0.2393 - val_loss: 1.3880 - val_accuracy: 0.2317\n",
      "Epoch 4/200\n",
      "1400/1400 [==============================] - 0s 122us/step - loss: 1.3874 - accuracy: 0.2579 - val_loss: 1.3883 - val_accuracy: 0.2317\n",
      "Epoch 5/200\n",
      "1400/1400 [==============================] - 0s 121us/step - loss: 1.3868 - accuracy: 0.2450 - val_loss: 1.3864 - val_accuracy: 0.2517\n",
      "Epoch 6/200\n",
      "1400/1400 [==============================] - 0s 120us/step - loss: 1.3867 - accuracy: 0.2557 - val_loss: 1.3873 - val_accuracy: 0.2317\n",
      "Epoch 7/200\n",
      "1400/1400 [==============================] - 0s 131us/step - loss: 1.3868 - accuracy: 0.2579 - val_loss: 1.3880 - val_accuracy: 0.2317\n",
      "Epoch 8/200\n",
      "1400/1400 [==============================] - 0s 116us/step - loss: 1.3865 - accuracy: 0.2579 - val_loss: 1.3876 - val_accuracy: 0.2317\n",
      "Epoch 9/200\n",
      "1400/1400 [==============================] - 0s 119us/step - loss: 1.3869 - accuracy: 0.2357 - val_loss: 1.3870 - val_accuracy: 0.2317\n",
      "Epoch 10/200\n",
      "1400/1400 [==============================] - 0s 113us/step - loss: 1.3871 - accuracy: 0.2579 - val_loss: 1.3875 - val_accuracy: 0.2317\n",
      "Epoch 11/200\n",
      "1400/1400 [==============================] - 0s 88us/step - loss: 1.3870 - accuracy: 0.2350 - val_loss: 1.3868 - val_accuracy: 0.2317\n",
      "Epoch 12/200\n",
      "1400/1400 [==============================] - 0s 113us/step - loss: 1.3871 - accuracy: 0.2579 - val_loss: 1.3878 - val_accuracy: 0.2317\n",
      "Epoch 13/200\n",
      "1400/1400 [==============================] - 0s 110us/step - loss: 1.3870 - accuracy: 0.2579 - val_loss: 1.3874 - val_accuracy: 0.2317\n",
      "Epoch 14/200\n",
      "1400/1400 [==============================] - 0s 104us/step - loss: 1.3866 - accuracy: 0.2579 - val_loss: 1.3871 - val_accuracy: 0.2317\n",
      "Epoch 15/200\n",
      "1400/1400 [==============================] - 0s 117us/step - loss: 1.3869 - accuracy: 0.2579 - val_loss: 1.3882 - val_accuracy: 0.2317\n",
      "Epoch 16/200\n",
      "1400/1400 [==============================] - 0s 119us/step - loss: 1.3871 - accuracy: 0.2429 - val_loss: 1.3873 - val_accuracy: 0.2317\n",
      "Epoch 17/200\n",
      "1400/1400 [==============================] - 0s 123us/step - loss: 1.3870 - accuracy: 0.2579 - val_loss: 1.3878 - val_accuracy: 0.2317\n",
      "Epoch 18/200\n",
      "1400/1400 [==============================] - 0s 117us/step - loss: 1.3870 - accuracy: 0.2471 - val_loss: 1.3871 - val_accuracy: 0.2317\n",
      "Epoch 19/200\n",
      "1400/1400 [==============================] - 0s 119us/step - loss: 1.3872 - accuracy: 0.2579 - val_loss: 1.3877 - val_accuracy: 0.2317\n",
      "Epoch 20/200\n",
      "1400/1400 [==============================] - 0s 126us/step - loss: 1.3874 - accuracy: 0.2321 - val_loss: 1.3871 - val_accuracy: 0.2317\n",
      "Epoch 00020: early stopping\n"
     ]
    }
   ],
   "source": [
    "# fit model\n",
    "history = model.fit(trainX, trainy, validation_data=(testX, testy), epochs=200, verbose=1, callbacks=[es, mc])"
   ]
  },
  {
   "cell_type": "code",
   "execution_count": 121,
   "metadata": {},
   "outputs": [],
   "source": [
    "# load the saved model\n",
    "#saved_model = load_model('best_model_mlp.h5')\n",
    "saved_model = model"
   ]
  },
  {
   "cell_type": "code",
   "execution_count": 122,
   "metadata": {},
   "outputs": [
    {
     "name": "stdout",
     "output_type": "stream",
     "text": [
      "Train: 0.258, Test: 0.232\n"
     ]
    }
   ],
   "source": [
    "# evaluate the model\n",
    "_, train_acc = saved_model.evaluate(trainX, trainy, verbose=0)\n",
    "_, test_acc = saved_model.evaluate(testX, testy, verbose=0)\n",
    "print('Train: %.3f, Test: %.3f' % (train_acc, test_acc))"
   ]
  },
  {
   "cell_type": "code",
   "execution_count": 123,
   "metadata": {},
   "outputs": [
    {
     "data": {
      "image/png": "[encoded data removed]",
      "text/plain": [
       "<Figure size 432x288 with 1 Axes>"
      ]
     },
     "metadata": {
      "needs_background": "light"
     },
     "output_type": "display_data"
    }
   ],
   "source": [
    "# plot training history\n",
    "pyplot.plot(history.history['loss'], label='train')\n",
    "pyplot.plot(history.history['val_loss'], label='test')\n",
    "pyplot.legend()\n",
    "pyplot.show()"
   ]
  },
  {
   "cell_type": "code",
   "execution_count": 124,
   "metadata": {},
   "outputs": [
    {
     "data": {
      "text/plain": [
       "array([[0.24455766, 0.2503374 , 0.24961333, 0.25549158],\n",
       "       [0.24455766, 0.2503374 , 0.24961333, 0.25549158],\n",
       "       [0.24455766, 0.2503374 , 0.24961333, 0.25549158],\n",
       "       ...,\n",
       "       [0.24455766, 0.2503374 , 0.24961333, 0.25549158],\n",
       "       [0.24455766, 0.2503374 , 0.24961333, 0.25549158],\n",
       "       [0.24455766, 0.2503374 , 0.24961333, 0.25549158]], dtype=float32)"
      ]
     },
     "execution_count": 124,
     "metadata": {},
     "output_type": "execute_result"
    }
   ],
   "source": [
    "train_predicted=saved_model.predict(trainX)\n",
    "train_predicted"
   ]
  },
  {
   "cell_type": "code",
   "execution_count": 125,
   "metadata": {},
   "outputs": [
    {
     "data": {
      "text/plain": [
       "array([[0., 0., 0., 1.],\n",
       "       [0., 0., 0., 1.],\n",
       "       [0., 0., 1., 0.],\n",
       "       ...,\n",
       "       [0., 0., 0., 1.],\n",
       "       [0., 1., 0., 0.],\n",
       "       [0., 1., 0., 0.]], dtype=float32)"
      ]
     },
     "execution_count": 125,
     "metadata": {},
     "output_type": "execute_result"
    }
   ],
   "source": [
    "trainy"
   ]
  },
  {
   "cell_type": "code",
   "execution_count": 126,
   "metadata": {},
   "outputs": [
    {
     "data": {
      "text/plain": [
       "array([[0.24455766, 0.2503374 , 0.24961333, 0.25549158],\n",
       "       [0.24455766, 0.2503374 , 0.24961333, 0.25549158],\n",
       "       [0.24455766, 0.2503374 , 0.24961333, 0.25549158],\n",
       "       ...,\n",
       "       [0.24455766, 0.2503374 , 0.24961333, 0.25549158],\n",
       "       [0.24455766, 0.2503374 , 0.24961333, 0.25549158],\n",
       "       [0.24455766, 0.2503374 , 0.24961333, 0.25549158]], dtype=float32)"
      ]
     },
     "execution_count": 126,
     "metadata": {},
     "output_type": "execute_result"
    }
   ],
   "source": [
    "test_predicted=saved_model.predict(testX)\n",
    "test_predicted"
   ]
  },
  {
   "cell_type": "code",
   "execution_count": 127,
   "metadata": {},
   "outputs": [
    {
     "data": {
      "text/plain": [
       "array([[1., 0., 0., 0.],\n",
       "       [0., 0., 1., 0.],\n",
       "       [0., 0., 1., 0.],\n",
       "       ...,\n",
       "       [0., 1., 0., 0.],\n",
       "       [0., 0., 1., 0.],\n",
       "       [1., 0., 0., 0.]], dtype=float32)"
      ]
     },
     "execution_count": 127,
     "metadata": {},
     "output_type": "execute_result"
    }
   ],
   "source": [
    "testy"
   ]
  },
  {
   "cell_type": "code",
   "execution_count": 128,
   "metadata": {},
   "outputs": [
    {
     "name": "stdout",
     "output_type": "stream",
     "text": [
      "[[  0   0   0 343]\n",
      " [  0   0   0 349]\n",
      " [  0   0   0 347]\n",
      " [  0   0   0 361]]\n"
     ]
    }
   ],
   "source": [
    "#Confusion Matrix for Training\n",
    "from sklearn import metrics\n",
    "confusion = metrics.confusion_matrix(trainy.argmax(axis=1), train_predicted.argmax(axis=1))\n",
    "print(confusion)"
   ]
  },
  {
   "cell_type": "code",
   "execution_count": 129,
   "metadata": {},
   "outputs": [
    {
     "name": "stdout",
     "output_type": "stream",
     "text": [
      "0.25785714285714284\n"
     ]
    }
   ],
   "source": [
    "# Let's check the overall accuracy.\n",
    "print(metrics.accuracy_score(trainy.argmax(axis=1), train_predicted.argmax(axis=1)))"
   ]
  },
  {
   "cell_type": "code",
   "execution_count": 130,
   "metadata": {},
   "outputs": [
    {
     "name": "stdout",
     "output_type": "stream",
     "text": [
      "[[  0   0   0 157]\n",
      " [  0   0   0 151]\n",
      " [  0   0   0 153]\n",
      " [  0   0   0 139]]\n"
     ]
    }
   ],
   "source": [
    "#Confusion Matrix for Testing\n",
    "from sklearn import metrics\n",
    "confusion1 = metrics.confusion_matrix(testy.argmax(axis=1), test_predicted.argmax(axis=1))\n",
    "print(confusion1)"
   ]
  },
  {
   "cell_type": "code",
   "execution_count": 131,
   "metadata": {},
   "outputs": [
    {
     "name": "stdout",
     "output_type": "stream",
     "text": [
      "0.23166666666666666\n"
     ]
    }
   ],
   "source": [
    "# Let's check the overall accuracy.\n",
    "print(metrics.accuracy_score(testy.argmax(axis=1), test_predicted.argmax(axis=1)))"
   ]
  },
  {
   "cell_type": "markdown",
   "metadata": {},
   "source": [
    "#### We can also use pycm for the confusion matrix"
   ]
  },
  {
   "cell_type": "code",
   "execution_count": 132,
   "metadata": {},
   "outputs": [
    {
     "name": "stdout",
     "output_type": "stream",
     "text": [
      "[0. 0. 0. 1.]\n",
      "[1. 1. 1. 0.]\n",
      "[0.73833333 0.74833333 0.745      0.23166667]\n"
     ]
    },
    {
     "name": "stderr",
     "output_type": "stream",
     "text": [
      "C:\\Users\\ved deo\\AppData\\Roaming\\Python\\Python37\\site-packages\\ipykernel_launcher.py:18: RuntimeWarning: invalid value encountered in true_divide\n",
      "C:\\Users\\ved deo\\AppData\\Roaming\\Python\\Python37\\site-packages\\ipykernel_launcher.py:20: RuntimeWarning: invalid value encountered in true_divide\n",
      "C:\\Users\\ved deo\\AppData\\Roaming\\Python\\Python37\\site-packages\\ipykernel_launcher.py:26: RuntimeWarning: invalid value encountered in true_divide\n"
     ]
    }
   ],
   "source": [
    "FP = confusion1.sum(axis=0) - np.diag(confusion1)  \n",
    "FN = confusion1.sum(axis=1) - np.diag(confusion1)\n",
    "TP = np.diag(confusion1)\n",
    "TN = confusion1.sum() - (FP + FN + TP)\n",
    "\n",
    "FP = FP.astype(float)\n",
    "FN = FN.astype(float)\n",
    "TP = TP.astype(float)\n",
    "TN = TN.astype(float)\n",
    "\n",
    "# Sensitivity, hit rate, recall, or true positive rate\n",
    "TPR = TP/(TP+FN)\n",
    "print(TPR)\n",
    "# Specificity or true negative rate\n",
    "TNR = TN/(TN+FP) \n",
    "print(TNR)\n",
    "# Precision or positive predictive value\n",
    "PPV = TP/(TP+FP)\n",
    "# Negative predictive value\n",
    "NPV = TN/(TN+FN)\n",
    "# Fall out or false positive rate\n",
    "FPR = FP/(FP+TN)\n",
    "# False negative rate\n",
    "FNR = FN/(TP+FN)\n",
    "# False discovery rate\n",
    "FDR = FP/(TP+FP)\n",
    "# Overall accuracy\n",
    "ACC = (TP+TN)/(TP+FP+FN+TN)\n",
    "print(ACC)"
   ]
  },
  {
   "cell_type": "markdown",
   "metadata": {},
   "source": [
    "## With Regularization Parameter + Drop Out + ADAM"
   ]
  },
  {
   "cell_type": "code",
   "execution_count": 27,
   "metadata": {},
   "outputs": [],
   "source": [
    "# define model with Regularization and drop out for stopping Overfitting\n",
    "from keras import regularizers\n",
    "model_adam = Sequential()\n",
    "model_adam.add(Dense(300,activation='relu',kernel_regularizer=regularizers.l1(0.01)))\n",
    "model_adam.add(Dropout(0.6, noise_shape=None, seed=None))\n",
    "model_adam.add(Dense(200, activation='relu',kernel_regularizer=regularizers.l1(0.01)))\n",
    "model_adam.add(Dense(50, activation='relu'))\n",
    "model_adam.add(Dense(4, activation='softmax'))\n"
   ]
  },
  {
   "cell_type": "code",
   "execution_count": 28,
   "metadata": {},
   "outputs": [],
   "source": [
    "# Compiling Model with adam\n",
    "model_adam.compile(loss='categorical_crossentropy', optimizer='adam', metrics=['accuracy'])\n"
   ]
  },
  {
   "cell_type": "code",
   "execution_count": 29,
   "metadata": {},
   "outputs": [],
   "source": [
    "# simple early stopping\n",
    "es = EarlyStopping(monitor='val_loss', mode='min', verbose=1, patience=15)\n",
    "mc = ModelCheckpoint('best_model_mlp_reg.h5', monitor='val_acc', mode='max', verbose=1, save_best_only=True)\n"
   ]
  },
  {
   "cell_type": "code",
   "execution_count": 30,
   "metadata": {},
   "outputs": [
    {
     "name": "stdout",
     "output_type": "stream",
     "text": [
      "WARNING:tensorflow:Large dropout rate: 0.6 (>0.5). In TensorFlow 2.x, dropout() uses dropout rate instead of keep_prob. Please ensure that this is intended.\n",
      "Train on 1400 samples, validate on 600 samples\n",
      "Epoch 1/200\n",
      "1400/1400 [==============================] - 0s 248us/step - loss: 42.5630 - accuracy: 0.2800 - val_loss: 36.1958 - val_accuracy: 0.3450\n",
      "Epoch 2/200\n",
      "1400/1400 [==============================] - 0s 53us/step - loss: 33.2981 - accuracy: 0.3486 - val_loss: 30.1154 - val_accuracy: 0.2517\n",
      "Epoch 3/200\n",
      "1400/1400 [==============================] - 0s 42us/step - loss: 28.3948 - accuracy: 0.3771 - val_loss: 25.3428 - val_accuracy: 0.5367\n",
      "Epoch 4/200\n",
      " 128/1400 [=>............................] - ETA: 0s - loss: 26.1516 - accuracy: 0.4766"
     ]
    },
    {
     "name": "stderr",
     "output_type": "stream",
     "text": [
      "C:\\Users\\ved deo\\Anaconda3\\envs\\deep\\lib\\site-packages\\keras\\callbacks\\callbacks.py:707: RuntimeWarning: Can save best model only with val_acc available, skipping.\n",
      "  'skipping.' % (self.monitor), RuntimeWarning)\n"
     ]
    },
    {
     "name": "stdout",
     "output_type": "stream",
     "text": [
      "1400/1400 [==============================] - 0s 43us/step - loss: 24.7030 - accuracy: 0.4507 - val_loss: 22.3478 - val_accuracy: 0.6583\n",
      "Epoch 5/200\n",
      "1400/1400 [==============================] - 0s 34us/step - loss: 21.6568 - accuracy: 0.4686 - val_loss: 19.6482 - val_accuracy: 0.9383\n",
      "Epoch 6/200\n",
      "1400/1400 [==============================] - 0s 70us/step - loss: 19.0722 - accuracy: 0.5414 - val_loss: 17.4913 - val_accuracy: 0.7950\n",
      "Epoch 7/200\n",
      "1400/1400 [==============================] - 0s 44us/step - loss: 16.8981 - accuracy: 0.5764 - val_loss: 15.5149 - val_accuracy: 0.9200\n",
      "Epoch 8/200\n",
      "1400/1400 [==============================] - 0s 40us/step - loss: 15.1482 - accuracy: 0.6071 - val_loss: 13.9287 - val_accuracy: 0.9483\n",
      "Epoch 9/200\n",
      "1400/1400 [==============================] - 0s 44us/step - loss: 13.6638 - accuracy: 0.6386 - val_loss: 12.6510 - val_accuracy: 0.9717\n",
      "Epoch 10/200\n",
      "1400/1400 [==============================] - 0s 38us/step - loss: 12.5894 - accuracy: 0.6729 - val_loss: 11.8000 - val_accuracy: 0.9567\n",
      "Epoch 11/200\n",
      "1400/1400 [==============================] - 0s 43us/step - loss: 11.8006 - accuracy: 0.6857 - val_loss: 11.0899 - val_accuracy: 0.9567\n",
      "Epoch 12/200\n",
      "1400/1400 [==============================] - 0s 41us/step - loss: 11.0554 - accuracy: 0.7264 - val_loss: 10.4549 - val_accuracy: 0.9500\n",
      "Epoch 13/200\n",
      "1400/1400 [==============================] - 0s 48us/step - loss: 10.4298 - accuracy: 0.7521 - val_loss: 9.8976 - val_accuracy: 0.9317\n",
      "Epoch 14/200\n",
      "1400/1400 [==============================] - 0s 48us/step - loss: 9.8673 - accuracy: 0.7657 - val_loss: 9.3699 - val_accuracy: 0.9300\n",
      "Epoch 15/200\n",
      "1400/1400 [==============================] - 0s 68us/step - loss: 9.3658 - accuracy: 0.7686 - val_loss: 8.8549 - val_accuracy: 0.9517\n",
      "Epoch 16/200\n",
      "1400/1400 [==============================] - 0s 32us/step - loss: 8.8536 - accuracy: 0.7857 - val_loss: 8.4209 - val_accuracy: 0.9183\n",
      "Epoch 17/200\n",
      "1400/1400 [==============================] - 0s 46us/step - loss: 8.3632 - accuracy: 0.8393 - val_loss: 7.9747 - val_accuracy: 0.9400\n",
      "Epoch 18/200\n",
      "1400/1400 [==============================] - 0s 58us/step - loss: 7.9455 - accuracy: 0.8171 - val_loss: 7.5468 - val_accuracy: 0.9583\n",
      "Epoch 19/200\n",
      "1400/1400 [==============================] - 0s 44us/step - loss: 7.5299 - accuracy: 0.8471 - val_loss: 7.1534 - val_accuracy: 0.9683\n",
      "Epoch 20/200\n",
      "1400/1400 [==============================] - 0s 36us/step - loss: 7.1536 - accuracy: 0.8500 - val_loss: 6.8276 - val_accuracy: 0.9333\n",
      "Epoch 21/200\n",
      "1400/1400 [==============================] - 0s 35us/step - loss: 6.7941 - accuracy: 0.8643 - val_loss: 6.4591 - val_accuracy: 0.9600\n",
      "Epoch 22/200\n",
      "1400/1400 [==============================] - 0s 34us/step - loss: 6.4325 - accuracy: 0.8764 - val_loss: 6.1342 - val_accuracy: 0.9633\n",
      "Epoch 23/200\n",
      "1400/1400 [==============================] - 0s 35us/step - loss: 6.1250 - accuracy: 0.8729 - val_loss: 5.8327 - val_accuracy: 0.9633\n",
      "Epoch 24/200\n",
      "1400/1400 [==============================] - 0s 42us/step - loss: 5.8278 - accuracy: 0.8886 - val_loss: 5.5602 - val_accuracy: 0.9517\n",
      "Epoch 25/200\n",
      "1400/1400 [==============================] - 0s 48us/step - loss: 5.5547 - accuracy: 0.8829 - val_loss: 5.2936 - val_accuracy: 0.9533\n",
      "Epoch 26/200\n",
      "1400/1400 [==============================] - 0s 31us/step - loss: 5.3100 - accuracy: 0.8786 - val_loss: 5.0335 - val_accuracy: 0.9683\n",
      "Epoch 27/200\n",
      "1400/1400 [==============================] - 0s 41us/step - loss: 5.0344 - accuracy: 0.8964 - val_loss: 4.7921 - val_accuracy: 0.9800\n",
      "Epoch 28/200\n",
      "1400/1400 [==============================] - 0s 31us/step - loss: 4.7800 - accuracy: 0.9157 - val_loss: 4.5542 - val_accuracy: 0.9667\n",
      "Epoch 29/200\n",
      "1400/1400 [==============================] - 0s 38us/step - loss: 4.5831 - accuracy: 0.8900 - val_loss: 4.3456 - val_accuracy: 0.9783\n",
      "Epoch 30/200\n",
      "1400/1400 [==============================] - 0s 33us/step - loss: 4.3561 - accuracy: 0.9093 - val_loss: 4.1556 - val_accuracy: 0.9783\n",
      "Epoch 31/200\n",
      "1400/1400 [==============================] - 0s 48us/step - loss: 4.1655 - accuracy: 0.9100 - val_loss: 3.9635 - val_accuracy: 0.9700\n",
      "Epoch 32/200\n",
      "1400/1400 [==============================] - 0s 73us/step - loss: 3.9845 - accuracy: 0.9229 - val_loss: 3.7929 - val_accuracy: 0.9700\n",
      "Epoch 33/200\n",
      "1400/1400 [==============================] - 0s 45us/step - loss: 3.8134 - accuracy: 0.9207 - val_loss: 3.6247 - val_accuracy: 0.9833\n",
      "Epoch 34/200\n",
      "1400/1400 [==============================] - 0s 43us/step - loss: 3.6565 - accuracy: 0.9121 - val_loss: 3.4656 - val_accuracy: 0.9800\n",
      "Epoch 35/200\n",
      "1400/1400 [==============================] - 0s 43us/step - loss: 3.5027 - accuracy: 0.9186 - val_loss: 3.3284 - val_accuracy: 0.9650\n",
      "Epoch 36/200\n",
      "1400/1400 [==============================] - 0s 71us/step - loss: 3.3638 - accuracy: 0.9121 - val_loss: 3.1835 - val_accuracy: 0.9783\n",
      "Epoch 37/200\n",
      "1400/1400 [==============================] - 0s 72us/step - loss: 3.2181 - accuracy: 0.9221 - val_loss: 3.0535 - val_accuracy: 0.9750\n",
      "Epoch 38/200\n",
      "1400/1400 [==============================] - 0s 52us/step - loss: 3.0943 - accuracy: 0.9171 - val_loss: 2.9324 - val_accuracy: 0.9817\n",
      "Epoch 39/200\n",
      "1400/1400 [==============================] - 0s 58us/step - loss: 2.9753 - accuracy: 0.9164 - val_loss: 2.8311 - val_accuracy: 0.9650\n",
      "Epoch 40/200\n",
      "1400/1400 [==============================] - 0s 63us/step - loss: 2.8642 - accuracy: 0.9143 - val_loss: 2.7106 - val_accuracy: 0.9767\n",
      "Epoch 41/200\n",
      "1400/1400 [==============================] - 0s 55us/step - loss: 2.7567 - accuracy: 0.9143 - val_loss: 2.6195 - val_accuracy: 0.9617\n",
      "Epoch 42/200\n",
      "1400/1400 [==============================] - 0s 36us/step - loss: 2.6405 - accuracy: 0.9300 - val_loss: 2.5053 - val_accuracy: 0.9733\n",
      "Epoch 43/200\n",
      "1400/1400 [==============================] - 0s 56us/step - loss: 2.5530 - accuracy: 0.9243 - val_loss: 2.4109 - val_accuracy: 0.9783\n",
      "Epoch 44/200\n",
      "1400/1400 [==============================] - 0s 48us/step - loss: 2.4700 - accuracy: 0.9214 - val_loss: 2.3237 - val_accuracy: 0.9683\n",
      "Epoch 45/200\n",
      "1400/1400 [==============================] - 0s 46us/step - loss: 2.3634 - accuracy: 0.9300 - val_loss: 2.2646 - val_accuracy: 0.9533\n",
      "Epoch 46/200\n",
      "1400/1400 [==============================] - 0s 36us/step - loss: 2.2875 - accuracy: 0.9314 - val_loss: 2.1662 - val_accuracy: 0.9717\n",
      "Epoch 47/200\n",
      "1400/1400 [==============================] - 0s 70us/step - loss: 2.2106 - accuracy: 0.9200 - val_loss: 2.0774 - val_accuracy: 0.9817\n",
      "Epoch 48/200\n",
      "1400/1400 [==============================] - 0s 39us/step - loss: 2.1234 - accuracy: 0.9307 - val_loss: 2.0002 - val_accuracy: 0.9767\n",
      "Epoch 49/200\n",
      "1400/1400 [==============================] - 0s 33us/step - loss: 2.0491 - accuracy: 0.9336 - val_loss: 1.9251 - val_accuracy: 0.9767\n",
      "Epoch 50/200\n",
      "1400/1400 [==============================] - 0s 58us/step - loss: 1.9757 - accuracy: 0.9314 - val_loss: 1.8593 - val_accuracy: 0.9800\n",
      "Epoch 51/200\n",
      "1400/1400 [==============================] - 0s 59us/step - loss: 1.9009 - accuracy: 0.9393 - val_loss: 1.7956 - val_accuracy: 0.9700\n",
      "Epoch 52/200\n",
      "1400/1400 [==============================] - 0s 34us/step - loss: 1.8526 - accuracy: 0.9293 - val_loss: 1.7422 - val_accuracy: 0.9717\n",
      "Epoch 53/200\n",
      "1400/1400 [==============================] - 0s 29us/step - loss: 1.7703 - accuracy: 0.9464 - val_loss: 1.6749 - val_accuracy: 0.9733\n",
      "Epoch 54/200\n",
      "1400/1400 [==============================] - 0s 64us/step - loss: 1.7297 - accuracy: 0.9364 - val_loss: 1.6267 - val_accuracy: 0.9667\n",
      "Epoch 55/200\n",
      "1400/1400 [==============================] - 0s 46us/step - loss: 1.6847 - accuracy: 0.9293 - val_loss: 1.5773 - val_accuracy: 0.9750\n",
      "Epoch 56/200\n",
      "1400/1400 [==============================] - 0s 33us/step - loss: 1.6281 - accuracy: 0.9293 - val_loss: 1.5196 - val_accuracy: 0.9717\n",
      "Epoch 57/200\n",
      "1400/1400 [==============================] - 0s 52us/step - loss: 1.5676 - accuracy: 0.9443 - val_loss: 1.4674 - val_accuracy: 0.9750\n",
      "Epoch 58/200\n",
      "1400/1400 [==============================] - 0s 48us/step - loss: 1.5274 - accuracy: 0.9329 - val_loss: 1.4268 - val_accuracy: 0.9750\n",
      "Epoch 59/200\n",
      "1400/1400 [==============================] - 0s 46us/step - loss: 1.4889 - accuracy: 0.9329 - val_loss: 1.3883 - val_accuracy: 0.9767\n"
     ]
    },
    {
     "name": "stdout",
     "output_type": "stream",
     "text": [
      "Epoch 60/200\n",
      "1400/1400 [==============================] - 0s 42us/step - loss: 1.4481 - accuracy: 0.9429 - val_loss: 1.3702 - val_accuracy: 0.9683\n",
      "Epoch 61/200\n",
      "1400/1400 [==============================] - 0s 32us/step - loss: 1.4196 - accuracy: 0.9264 - val_loss: 1.3114 - val_accuracy: 0.9750\n",
      "Epoch 62/200\n",
      "1400/1400 [==============================] - 0s 48us/step - loss: 1.3589 - accuracy: 0.9486 - val_loss: 1.2754 - val_accuracy: 0.9733\n",
      "Epoch 63/200\n",
      "1400/1400 [==============================] - 0s 62us/step - loss: 1.3325 - accuracy: 0.9429 - val_loss: 1.2334 - val_accuracy: 0.9767\n",
      "Epoch 64/200\n",
      "1400/1400 [==============================] - 0s 38us/step - loss: 1.2838 - accuracy: 0.9464 - val_loss: 1.2094 - val_accuracy: 0.9733\n",
      "Epoch 65/200\n",
      "1400/1400 [==============================] - 0s 63us/step - loss: 1.2758 - accuracy: 0.9393 - val_loss: 1.1917 - val_accuracy: 0.9683\n",
      "Epoch 66/200\n",
      "1400/1400 [==============================] - 0s 48us/step - loss: 1.2405 - accuracy: 0.9350 - val_loss: 1.1621 - val_accuracy: 0.9567\n",
      "Epoch 67/200\n",
      "1400/1400 [==============================] - 0s 56us/step - loss: 1.1964 - accuracy: 0.9421 - val_loss: 1.1109 - val_accuracy: 0.9767\n",
      "Epoch 68/200\n",
      "1400/1400 [==============================] - 0s 31us/step - loss: 1.1796 - accuracy: 0.9371 - val_loss: 1.0994 - val_accuracy: 0.9683\n",
      "Epoch 69/200\n",
      "1400/1400 [==============================] - 0s 49us/step - loss: 1.1694 - accuracy: 0.9286 - val_loss: 1.0794 - val_accuracy: 0.9617\n",
      "Epoch 70/200\n",
      "1400/1400 [==============================] - 0s 37us/step - loss: 1.1420 - accuracy: 0.9286 - val_loss: 1.0506 - val_accuracy: 0.9683\n",
      "Epoch 71/200\n",
      "1400/1400 [==============================] - 0s 33us/step - loss: 1.0921 - accuracy: 0.9436 - val_loss: 1.0059 - val_accuracy: 0.9733\n",
      "Epoch 72/200\n",
      "1400/1400 [==============================] - 0s 32us/step - loss: 1.0540 - accuracy: 0.9493 - val_loss: 0.9890 - val_accuracy: 0.9733\n",
      "Epoch 73/200\n",
      "1400/1400 [==============================] - 0s 66us/step - loss: 1.0448 - accuracy: 0.9429 - val_loss: 0.9673 - val_accuracy: 0.9717\n",
      "Epoch 74/200\n",
      "1400/1400 [==============================] - 0s 43us/step - loss: 1.0371 - accuracy: 0.9407 - val_loss: 0.9433 - val_accuracy: 0.9717\n",
      "Epoch 75/200\n",
      "1400/1400 [==============================] - 0s 34us/step - loss: 0.9981 - accuracy: 0.9500 - val_loss: 0.9244 - val_accuracy: 0.9767\n",
      "Epoch 76/200\n",
      "1400/1400 [==============================] - 0s 46us/step - loss: 0.9636 - accuracy: 0.9600 - val_loss: 0.8942 - val_accuracy: 0.9767\n",
      "Epoch 77/200\n",
      "1400/1400 [==============================] - 0s 40us/step - loss: 0.9659 - accuracy: 0.9400 - val_loss: 0.8823 - val_accuracy: 0.9750\n",
      "Epoch 78/200\n",
      "1400/1400 [==============================] - 0s 50us/step - loss: 0.9352 - accuracy: 0.9471 - val_loss: 0.8616 - val_accuracy: 0.9767\n",
      "Epoch 79/200\n",
      "1400/1400 [==============================] - 0s 35us/step - loss: 0.9313 - accuracy: 0.9393 - val_loss: 0.8426 - val_accuracy: 0.9750\n",
      "Epoch 80/200\n",
      "1400/1400 [==============================] - 0s 45us/step - loss: 0.9008 - accuracy: 0.9479 - val_loss: 0.8345 - val_accuracy: 0.9767\n",
      "Epoch 81/200\n",
      "1400/1400 [==============================] - 0s 44us/step - loss: 0.8860 - accuracy: 0.9500 - val_loss: 0.8110 - val_accuracy: 0.9800\n",
      "Epoch 82/200\n",
      "1400/1400 [==============================] - 0s 66us/step - loss: 0.8760 - accuracy: 0.9457 - val_loss: 0.8058 - val_accuracy: 0.9733\n",
      "Epoch 83/200\n",
      "1400/1400 [==============================] - 0s 52us/step - loss: 0.8584 - accuracy: 0.9493 - val_loss: 0.7944 - val_accuracy: 0.9717\n",
      "Epoch 84/200\n",
      "1400/1400 [==============================] - 0s 62us/step - loss: 0.8686 - accuracy: 0.9471 - val_loss: 0.7744 - val_accuracy: 0.9767\n",
      "Epoch 85/200\n",
      "1400/1400 [==============================] - 0s 81us/step - loss: 0.8395 - accuracy: 0.9514 - val_loss: 0.7679 - val_accuracy: 0.9800\n",
      "Epoch 86/200\n",
      "1400/1400 [==============================] - 0s 56us/step - loss: 0.8432 - accuracy: 0.9357 - val_loss: 0.7695 - val_accuracy: 0.9700\n",
      "Epoch 87/200\n",
      "1400/1400 [==============================] - 0s 47us/step - loss: 0.8138 - accuracy: 0.9414 - val_loss: 0.7397 - val_accuracy: 0.9767\n",
      "Epoch 88/200\n",
      "1400/1400 [==============================] - 0s 38us/step - loss: 0.7978 - accuracy: 0.9436 - val_loss: 0.7278 - val_accuracy: 0.9783\n",
      "Epoch 89/200\n",
      "1400/1400 [==============================] - 0s 65us/step - loss: 0.7893 - accuracy: 0.9493 - val_loss: 0.7257 - val_accuracy: 0.9750\n",
      "Epoch 90/200\n",
      "1400/1400 [==============================] - 0s 33us/step - loss: 0.7854 - accuracy: 0.9521 - val_loss: 0.7121 - val_accuracy: 0.9733\n",
      "Epoch 91/200\n",
      "1400/1400 [==============================] - 0s 74us/step - loss: 0.7798 - accuracy: 0.9493 - val_loss: 0.6930 - val_accuracy: 0.9783\n",
      "Epoch 92/200\n",
      "1400/1400 [==============================] - 0s 43us/step - loss: 0.7535 - accuracy: 0.9493 - val_loss: 0.6985 - val_accuracy: 0.9650\n",
      "Epoch 93/200\n",
      "1400/1400 [==============================] - 0s 38us/step - loss: 0.7474 - accuracy: 0.9450 - val_loss: 0.6831 - val_accuracy: 0.9683\n",
      "Epoch 94/200\n",
      "1400/1400 [==============================] - 0s 56us/step - loss: 0.7504 - accuracy: 0.9500 - val_loss: 0.6670 - val_accuracy: 0.9767\n",
      "Epoch 95/200\n",
      "1400/1400 [==============================] - 0s 56us/step - loss: 0.7545 - accuracy: 0.9457 - val_loss: 0.6692 - val_accuracy: 0.9733\n",
      "Epoch 96/200\n",
      "1400/1400 [==============================] - 0s 33us/step - loss: 0.7181 - accuracy: 0.9493 - val_loss: 0.6451 - val_accuracy: 0.9817\n",
      "Epoch 97/200\n",
      "1400/1400 [==============================] - 0s 51us/step - loss: 0.7109 - accuracy: 0.9450 - val_loss: 0.6365 - val_accuracy: 0.9750\n",
      "Epoch 98/200\n",
      "1400/1400 [==============================] - 0s 47us/step - loss: 0.7128 - accuracy: 0.9393 - val_loss: 0.6291 - val_accuracy: 0.9783\n",
      "Epoch 99/200\n",
      "1400/1400 [==============================] - 0s 51us/step - loss: 0.6918 - accuracy: 0.9500 - val_loss: 0.6240 - val_accuracy: 0.9783\n",
      "Epoch 100/200\n",
      "1400/1400 [==============================] - 0s 61us/step - loss: 0.6862 - accuracy: 0.9443 - val_loss: 0.6141 - val_accuracy: 0.9767\n",
      "Epoch 101/200\n",
      "1400/1400 [==============================] - 0s 43us/step - loss: 0.6703 - accuracy: 0.9521 - val_loss: 0.6026 - val_accuracy: 0.9800\n",
      "Epoch 102/200\n",
      "1400/1400 [==============================] - 0s 36us/step - loss: 0.6679 - accuracy: 0.9486 - val_loss: 0.5988 - val_accuracy: 0.9767\n",
      "Epoch 103/200\n",
      "1400/1400 [==============================] - 0s 78us/step - loss: 0.6584 - accuracy: 0.9514 - val_loss: 0.5932 - val_accuracy: 0.9783\n",
      "Epoch 104/200\n",
      "1400/1400 [==============================] - 0s 49us/step - loss: 0.6469 - accuracy: 0.9464 - val_loss: 0.5943 - val_accuracy: 0.9783\n",
      "Epoch 105/200\n",
      "1400/1400 [==============================] - 0s 31us/step - loss: 0.6489 - accuracy: 0.9486 - val_loss: 0.5789 - val_accuracy: 0.9767\n",
      "Epoch 106/200\n",
      "1400/1400 [==============================] - 0s 45us/step - loss: 0.6453 - accuracy: 0.9493 - val_loss: 0.5707 - val_accuracy: 0.9783\n",
      "Epoch 107/200\n",
      "1400/1400 [==============================] - 0s 46us/step - loss: 0.6422 - accuracy: 0.9486 - val_loss: 0.5816 - val_accuracy: 0.9683\n",
      "Epoch 108/200\n",
      "1400/1400 [==============================] - 0s 69us/step - loss: 0.6167 - accuracy: 0.9536 - val_loss: 0.5618 - val_accuracy: 0.9783\n",
      "Epoch 109/200\n",
      "1400/1400 [==============================] - 0s 42us/step - loss: 0.6250 - accuracy: 0.9479 - val_loss: 0.5616 - val_accuracy: 0.9750\n",
      "Epoch 110/200\n",
      "1400/1400 [==============================] - 0s 37us/step - loss: 0.6157 - accuracy: 0.9493 - val_loss: 0.5568 - val_accuracy: 0.9733\n",
      "Epoch 111/200\n",
      "1400/1400 [==============================] - 0s 32us/step - loss: 0.6185 - accuracy: 0.9507 - val_loss: 0.5552 - val_accuracy: 0.9717\n",
      "Epoch 112/200\n",
      "1400/1400 [==============================] - 0s 37us/step - loss: 0.6012 - accuracy: 0.9493 - val_loss: 0.5556 - val_accuracy: 0.9667\n",
      "Epoch 113/200\n",
      "1400/1400 [==============================] - 0s 58us/step - loss: 0.6060 - accuracy: 0.9464 - val_loss: 0.5341 - val_accuracy: 0.9767\n",
      "Epoch 114/200\n",
      "1400/1400 [==============================] - 0s 58us/step - loss: 0.6016 - accuracy: 0.9500 - val_loss: 0.5271 - val_accuracy: 0.9850\n",
      "Epoch 115/200\n",
      "1400/1400 [==============================] - 0s 58us/step - loss: 0.5785 - accuracy: 0.9529 - val_loss: 0.5360 - val_accuracy: 0.9717\n",
      "Epoch 116/200\n",
      "1400/1400 [==============================] - 0s 43us/step - loss: 0.5667 - accuracy: 0.9571 - val_loss: 0.5388 - val_accuracy: 0.9650\n",
      "Epoch 117/200\n",
      "1400/1400 [==============================] - 0s 34us/step - loss: 0.5772 - accuracy: 0.9493 - val_loss: 0.5080 - val_accuracy: 0.9800\n",
      "Epoch 118/200\n",
      "1400/1400 [==============================] - 0s 61us/step - loss: 0.5612 - accuracy: 0.9571 - val_loss: 0.5003 - val_accuracy: 0.9800\n",
      "Epoch 119/200\n",
      "1400/1400 [==============================] - 0s 36us/step - loss: 0.5648 - accuracy: 0.9493 - val_loss: 0.5128 - val_accuracy: 0.9733\n",
      "Epoch 120/200\n",
      "1400/1400 [==============================] - 0s 38us/step - loss: 0.5729 - accuracy: 0.9443 - val_loss: 0.4973 - val_accuracy: 0.9783\n",
      "Epoch 121/200\n",
      "1400/1400 [==============================] - 0s 49us/step - loss: 0.5610 - accuracy: 0.9429 - val_loss: 0.4950 - val_accuracy: 0.9783\n",
      "Epoch 122/200\n",
      "1400/1400 [==============================] - 0s 48us/step - loss: 0.5448 - accuracy: 0.9536 - val_loss: 0.4895 - val_accuracy: 0.9767\n",
      "Epoch 123/200\n",
      "1400/1400 [==============================] - 0s 50us/step - loss: 0.5517 - accuracy: 0.9500 - val_loss: 0.4826 - val_accuracy: 0.9783\n",
      "Epoch 124/200\n",
      "1400/1400 [==============================] - 0s 63us/step - loss: 0.5282 - accuracy: 0.9571 - val_loss: 0.4763 - val_accuracy: 0.9783\n",
      "Epoch 125/200\n",
      "1400/1400 [==============================] - 0s 71us/step - loss: 0.5397 - accuracy: 0.9493 - val_loss: 0.4749 - val_accuracy: 0.9783\n",
      "Epoch 126/200\n",
      "1400/1400 [==============================] - 0s 115us/step - loss: 0.5408 - accuracy: 0.9529 - val_loss: 0.4707 - val_accuracy: 0.9817\n",
      "Epoch 127/200\n",
      "1400/1400 [==============================] - 0s 54us/step - loss: 0.5492 - accuracy: 0.9493 - val_loss: 0.4725 - val_accuracy: 0.9800\n",
      "Epoch 128/200\n",
      "1400/1400 [==============================] - 0s 37us/step - loss: 0.5193 - accuracy: 0.9550 - val_loss: 0.4690 - val_accuracy: 0.9767\n",
      "Epoch 129/200\n",
      "1400/1400 [==============================] - 0s 75us/step - loss: 0.5388 - accuracy: 0.9493 - val_loss: 0.4738 - val_accuracy: 0.9733\n",
      "Epoch 130/200\n",
      "1400/1400 [==============================] - 0s 55us/step - loss: 0.5223 - accuracy: 0.9521 - val_loss: 0.4579 - val_accuracy: 0.9767\n",
      "Epoch 131/200\n",
      "1400/1400 [==============================] - 0s 49us/step - loss: 0.5117 - accuracy: 0.9593 - val_loss: 0.4545 - val_accuracy: 0.9767\n",
      "Epoch 132/200\n",
      "1400/1400 [==============================] - 0s 41us/step - loss: 0.5075 - accuracy: 0.9579 - val_loss: 0.4559 - val_accuracy: 0.9767\n",
      "Epoch 133/200\n",
      "1400/1400 [==============================] - 0s 66us/step - loss: 0.5342 - accuracy: 0.9407 - val_loss: 0.4643 - val_accuracy: 0.9700\n",
      "Epoch 134/200\n",
      "1400/1400 [==============================] - 0s 68us/step - loss: 0.5362 - accuracy: 0.9414 - val_loss: 0.4580 - val_accuracy: 0.9767\n",
      "Epoch 135/200\n",
      "1400/1400 [==============================] - 0s 65us/step - loss: 0.4981 - accuracy: 0.9529 - val_loss: 0.4607 - val_accuracy: 0.9700\n",
      "Epoch 136/200\n",
      "1400/1400 [==============================] - 0s 87us/step - loss: 0.4989 - accuracy: 0.9493 - val_loss: 0.4393 - val_accuracy: 0.9850\n",
      "Epoch 137/200\n",
      "1400/1400 [==============================] - 0s 65us/step - loss: 0.5029 - accuracy: 0.9514 - val_loss: 0.4489 - val_accuracy: 0.9717\n",
      "Epoch 138/200\n",
      "1400/1400 [==============================] - 0s 44us/step - loss: 0.4828 - accuracy: 0.9586 - val_loss: 0.4495 - val_accuracy: 0.9700\n",
      "Epoch 139/200\n",
      "1400/1400 [==============================] - 0s 80us/step - loss: 0.4964 - accuracy: 0.9493 - val_loss: 0.4322 - val_accuracy: 0.9800\n",
      "Epoch 140/200\n",
      "1400/1400 [==============================] - 0s 40us/step - loss: 0.4950 - accuracy: 0.9507 - val_loss: 0.4357 - val_accuracy: 0.9717\n",
      "Epoch 141/200\n",
      "1400/1400 [==============================] - 0s 34us/step - loss: 0.4982 - accuracy: 0.9514 - val_loss: 0.4325 - val_accuracy: 0.9767\n",
      "Epoch 142/200\n",
      "1400/1400 [==============================] - 0s 36us/step - loss: 0.4952 - accuracy: 0.9521 - val_loss: 0.4226 - val_accuracy: 0.9817\n",
      "Epoch 143/200\n",
      "1400/1400 [==============================] - 0s 61us/step - loss: 0.5055 - accuracy: 0.9429 - val_loss: 0.4339 - val_accuracy: 0.9767\n",
      "Epoch 144/200\n",
      "1400/1400 [==============================] - 0s 34us/step - loss: 0.4875 - accuracy: 0.9486 - val_loss: 0.4236 - val_accuracy: 0.9783\n",
      "Epoch 145/200\n",
      "1400/1400 [==============================] - 0s 56us/step - loss: 0.4860 - accuracy: 0.9436 - val_loss: 0.4518 - val_accuracy: 0.9517\n",
      "Epoch 146/200\n",
      "1400/1400 [==============================] - 0s 54us/step - loss: 0.4960 - accuracy: 0.9379 - val_loss: 0.4224 - val_accuracy: 0.9750\n",
      "Epoch 147/200\n",
      "1400/1400 [==============================] - 0s 33us/step - loss: 0.4950 - accuracy: 0.9464 - val_loss: 0.4435 - val_accuracy: 0.9650\n",
      "Epoch 148/200\n",
      "1400/1400 [==============================] - 0s 41us/step - loss: 0.4810 - accuracy: 0.9471 - val_loss: 0.4199 - val_accuracy: 0.9750\n",
      "Epoch 149/200\n",
      "1400/1400 [==============================] - 0s 34us/step - loss: 0.4782 - accuracy: 0.9500 - val_loss: 0.4154 - val_accuracy: 0.9783\n",
      "Epoch 150/200\n",
      "1400/1400 [==============================] - 0s 50us/step - loss: 0.4814 - accuracy: 0.9529 - val_loss: 0.4164 - val_accuracy: 0.9783\n",
      "Epoch 151/200\n",
      "1400/1400 [==============================] - 0s 45us/step - loss: 0.4895 - accuracy: 0.9464 - val_loss: 0.4121 - val_accuracy: 0.9800\n",
      "Epoch 152/200\n",
      "1400/1400 [==============================] - 0s 94us/step - loss: 0.4790 - accuracy: 0.9493 - val_loss: 0.4100 - val_accuracy: 0.9800\n",
      "Epoch 153/200\n",
      "1400/1400 [==============================] - 0s 34us/step - loss: 0.4670 - accuracy: 0.9493 - val_loss: 0.4101 - val_accuracy: 0.9767\n",
      "Epoch 154/200\n",
      "1400/1400 [==============================] - 0s 51us/step - loss: 0.4667 - accuracy: 0.9507 - val_loss: 0.4058 - val_accuracy: 0.9750\n",
      "Epoch 155/200\n",
      "1400/1400 [==============================] - 0s 38us/step - loss: 0.4662 - accuracy: 0.9500 - val_loss: 0.4078 - val_accuracy: 0.9750\n",
      "Epoch 156/200\n",
      "1400/1400 [==============================] - 0s 55us/step - loss: 0.4684 - accuracy: 0.9479 - val_loss: 0.4017 - val_accuracy: 0.9767\n",
      "Epoch 157/200\n",
      "1400/1400 [==============================] - 0s 55us/step - loss: 0.4749 - accuracy: 0.9443 - val_loss: 0.4242 - val_accuracy: 0.9683\n",
      "Epoch 158/200\n",
      "1400/1400 [==============================] - 0s 36us/step - loss: 0.4592 - accuracy: 0.9457 - val_loss: 0.4080 - val_accuracy: 0.9667\n",
      "Epoch 159/200\n",
      "1400/1400 [==============================] - 0s 48us/step - loss: 0.4569 - accuracy: 0.9493 - val_loss: 0.4041 - val_accuracy: 0.9683\n",
      "Epoch 160/200\n",
      "1400/1400 [==============================] - 0s 66us/step - loss: 0.4465 - accuracy: 0.9529 - val_loss: 0.3952 - val_accuracy: 0.9733\n",
      "Epoch 161/200\n",
      "1400/1400 [==============================] - 0s 38us/step - loss: 0.4480 - accuracy: 0.9507 - val_loss: 0.3850 - val_accuracy: 0.9800\n",
      "Epoch 162/200\n",
      "1400/1400 [==============================] - 0s 39us/step - loss: 0.4521 - accuracy: 0.9550 - val_loss: 0.3956 - val_accuracy: 0.9783\n",
      "Epoch 163/200\n",
      "1400/1400 [==============================] - 0s 57us/step - loss: 0.4503 - accuracy: 0.9514 - val_loss: 0.3814 - val_accuracy: 0.9783\n",
      "Epoch 164/200\n",
      "1400/1400 [==============================] - 0s 75us/step - loss: 0.4580 - accuracy: 0.9457 - val_loss: 0.3891 - val_accuracy: 0.9800\n",
      "Epoch 165/200\n",
      "1400/1400 [==============================] - 0s 47us/step - loss: 0.4378 - accuracy: 0.9579 - val_loss: 0.3846 - val_accuracy: 0.9767\n",
      "Epoch 166/200\n",
      "1400/1400 [==============================] - 0s 50us/step - loss: 0.4384 - accuracy: 0.9543 - val_loss: 0.3774 - val_accuracy: 0.9800\n",
      "Epoch 167/200\n",
      "1400/1400 [==============================] - 0s 52us/step - loss: 0.4575 - accuracy: 0.9436 - val_loss: 0.3857 - val_accuracy: 0.9750\n",
      "Epoch 168/200\n",
      "1400/1400 [==============================] - 0s 42us/step - loss: 0.4367 - accuracy: 0.9529 - val_loss: 0.3798 - val_accuracy: 0.9783\n",
      "Epoch 169/200\n",
      "1400/1400 [==============================] - 0s 64us/step - loss: 0.4328 - accuracy: 0.9550 - val_loss: 0.3742 - val_accuracy: 0.9800\n",
      "Epoch 170/200\n"
     ]
    },
    {
     "name": "stdout",
     "output_type": "stream",
     "text": [
      "1400/1400 [==============================] - 0s 44us/step - loss: 0.4291 - accuracy: 0.9529 - val_loss: 0.3734 - val_accuracy: 0.9817\n",
      "Epoch 171/200\n",
      "1400/1400 [==============================] - 0s 38us/step - loss: 0.4472 - accuracy: 0.9493 - val_loss: 0.3856 - val_accuracy: 0.9700\n",
      "Epoch 172/200\n",
      "1400/1400 [==============================] - 0s 62us/step - loss: 0.4427 - accuracy: 0.9493 - val_loss: 0.3720 - val_accuracy: 0.9800\n",
      "Epoch 173/200\n",
      "1400/1400 [==============================] - 0s 34us/step - loss: 0.4465 - accuracy: 0.9529 - val_loss: 0.3958 - val_accuracy: 0.9683\n",
      "Epoch 174/200\n",
      "1400/1400 [==============================] - 0s 38us/step - loss: 0.4483 - accuracy: 0.9400 - val_loss: 0.3700 - val_accuracy: 0.9817\n",
      "Epoch 175/200\n",
      "1400/1400 [==============================] - 0s 63us/step - loss: 0.4748 - accuracy: 0.9371 - val_loss: 0.3966 - val_accuracy: 0.9667\n",
      "Epoch 176/200\n",
      "1400/1400 [==============================] - 0s 127us/step - loss: 0.4529 - accuracy: 0.9443 - val_loss: 0.3778 - val_accuracy: 0.9750\n",
      "Epoch 177/200\n",
      "1400/1400 [==============================] - 0s 53us/step - loss: 0.4464 - accuracy: 0.9436 - val_loss: 0.3705 - val_accuracy: 0.9750\n",
      "Epoch 178/200\n",
      "1400/1400 [==============================] - 0s 42us/step - loss: 0.4340 - accuracy: 0.9521 - val_loss: 0.3681 - val_accuracy: 0.9767\n",
      "Epoch 179/200\n",
      "1400/1400 [==============================] - 0s 56us/step - loss: 0.4230 - accuracy: 0.9507 - val_loss: 0.3797 - val_accuracy: 0.9750\n",
      "Epoch 180/200\n",
      "1400/1400 [==============================] - 0s 38us/step - loss: 0.4420 - accuracy: 0.9450 - val_loss: 0.3902 - val_accuracy: 0.9683\n",
      "Epoch 181/200\n",
      "1400/1400 [==============================] - 0s 36us/step - loss: 0.4280 - accuracy: 0.9507 - val_loss: 0.3688 - val_accuracy: 0.9767\n",
      "Epoch 182/200\n",
      "1400/1400 [==============================] - 0s 89us/step - loss: 0.4286 - accuracy: 0.9500 - val_loss: 0.3806 - val_accuracy: 0.9733\n",
      "Epoch 183/200\n",
      "1400/1400 [==============================] - 0s 48us/step - loss: 0.4473 - accuracy: 0.9486 - val_loss: 0.3876 - val_accuracy: 0.9650\n",
      "Epoch 184/200\n",
      "1400/1400 [==============================] - 0s 51us/step - loss: 0.4491 - accuracy: 0.9407 - val_loss: 0.3713 - val_accuracy: 0.9750\n",
      "Epoch 185/200\n",
      "1400/1400 [==============================] - 0s 48us/step - loss: 0.4463 - accuracy: 0.9457 - val_loss: 0.3661 - val_accuracy: 0.9817\n",
      "Epoch 186/200\n",
      "1400/1400 [==============================] - 0s 53us/step - loss: 0.4394 - accuracy: 0.9500 - val_loss: 0.3654 - val_accuracy: 0.9767\n",
      "Epoch 187/200\n",
      "1400/1400 [==============================] - 0s 54us/step - loss: 0.4464 - accuracy: 0.9479 - val_loss: 0.3599 - val_accuracy: 0.9767\n",
      "Epoch 188/200\n",
      "1400/1400 [==============================] - 0s 61us/step - loss: 0.4281 - accuracy: 0.9514 - val_loss: 0.3774 - val_accuracy: 0.9683\n",
      "Epoch 189/200\n",
      "1400/1400 [==============================] - 0s 70us/step - loss: 0.4179 - accuracy: 0.9593 - val_loss: 0.3527 - val_accuracy: 0.9800\n",
      "Epoch 190/200\n",
      "1400/1400 [==============================] - 0s 42us/step - loss: 0.4261 - accuracy: 0.9514 - val_loss: 0.3663 - val_accuracy: 0.9750\n",
      "Epoch 191/200\n",
      "1400/1400 [==============================] - 0s 53us/step - loss: 0.4371 - accuracy: 0.9464 - val_loss: 0.3914 - val_accuracy: 0.9617\n",
      "Epoch 192/200\n",
      "1400/1400 [==============================] - 0s 92us/step - loss: 0.4344 - accuracy: 0.9393 - val_loss: 0.3678 - val_accuracy: 0.9767\n",
      "Epoch 193/200\n",
      "1400/1400 [==============================] - 0s 64us/step - loss: 0.4445 - accuracy: 0.9386 - val_loss: 0.3638 - val_accuracy: 0.9800\n",
      "Epoch 194/200\n",
      "1400/1400 [==============================] - 0s 35us/step - loss: 0.4293 - accuracy: 0.9529 - val_loss: 0.3545 - val_accuracy: 0.9767\n",
      "Epoch 195/200\n",
      "1400/1400 [==============================] - 0s 38us/step - loss: 0.4243 - accuracy: 0.9507 - val_loss: 0.3679 - val_accuracy: 0.9750\n",
      "Epoch 196/200\n",
      "1400/1400 [==============================] - 0s 58us/step - loss: 0.4139 - accuracy: 0.9493 - val_loss: 0.3531 - val_accuracy: 0.9783\n",
      "Epoch 197/200\n",
      "1400/1400 [==============================] - 0s 58us/step - loss: 0.4232 - accuracy: 0.9471 - val_loss: 0.3539 - val_accuracy: 0.9733\n",
      "Epoch 198/200\n",
      "1400/1400 [==============================] - 0s 51us/step - loss: 0.4324 - accuracy: 0.9407 - val_loss: 0.3642 - val_accuracy: 0.9767\n",
      "Epoch 199/200\n",
      "1400/1400 [==============================] - 0s 73us/step - loss: 0.4268 - accuracy: 0.9507 - val_loss: 0.3518 - val_accuracy: 0.9800\n",
      "Epoch 200/200\n",
      "1400/1400 [==============================] - 0s 39us/step - loss: 0.4037 - accuracy: 0.9593 - val_loss: 0.3497 - val_accuracy: 0.9800\n"
     ]
    }
   ],
   "source": [
    "# fit model\n",
    "# batch size should always in multiple of 2.\n",
    "history = model_adam.fit(trainX, trainy, validation_data=(testX, testy), epochs=200, verbose=1, callbacks=[es, mc],batch_size=128)"
   ]
  },
  {
   "cell_type": "code",
   "execution_count": 31,
   "metadata": {},
   "outputs": [],
   "source": [
    "# load the saved model\n",
    "#saved_model = load_model('best_model_mlp_reg.h5')\n",
    "saved_model = model_adam"
   ]
  },
  {
   "cell_type": "code",
   "execution_count": 32,
   "metadata": {},
   "outputs": [
    {
     "name": "stdout",
     "output_type": "stream",
     "text": [
      "Train: 0.975, Test: 0.980\n"
     ]
    }
   ],
   "source": [
    "# evaluate the model\n",
    "_, train_acc = saved_model.evaluate(trainX, trainy, verbose=0)\n",
    "_, test_acc = saved_model.evaluate(testX, testy, verbose=0)\n",
    "print('Train: %.3f, Test: %.3f' % (train_acc, test_acc))"
   ]
  },
  {
   "cell_type": "code",
   "execution_count": 33,
   "metadata": {},
   "outputs": [
    {
     "data": {
      "image/png": "[encoded data removed]",
      "text/plain": [
       "<Figure size 432x288 with 1 Axes>"
      ]
     },
     "metadata": {
      "needs_background": "light"
     },
     "output_type": "display_data"
    }
   ],
   "source": [
    "# plot training history\n",
    "pyplot.plot(history.history['loss'], label='train')\n",
    "pyplot.plot(history.history['val_loss'], label='test')\n",
    "pyplot.legend()\n",
    "pyplot.show()"
   ]
  },
  {
   "cell_type": "code",
   "execution_count": 34,
   "metadata": {},
   "outputs": [],
   "source": [
    "# Confusion matrix"
   ]
  },
  {
   "cell_type": "code",
   "execution_count": 35,
   "metadata": {},
   "outputs": [
    {
     "name": "stdout",
     "output_type": "stream",
     "text": [
      "[[341   0   1   1]\n",
      " [  0 339  10   0]\n",
      " [  4  16 326   1]\n",
      " [  0   0   2 359]]\n",
      "0.975\n",
      "[[156   0   1   0]\n",
      " [  0 146   5   0]\n",
      " [  1   4 147   1]\n",
      " [  0   0   0 139]]\n",
      "0.98\n"
     ]
    }
   ],
   "source": [
    "train_predicted=saved_model.predict(trainX)\n",
    "test_predicted=saved_model.predict(testX)\n",
    "\n",
    "#Confusion Matrix for Training\n",
    "from sklearn import metrics\n",
    "confusion = metrics.confusion_matrix(trainy.argmax(axis=1), train_predicted.argmax(axis=1))\n",
    "print(confusion)\n",
    "\n",
    "# Let's check the overall accuracy.\n",
    "print(metrics.accuracy_score(trainy.argmax(axis=1), train_predicted.argmax(axis=1)))\n",
    "\n",
    "#Confusion Matrix for Testing\n",
    "from sklearn import metrics\n",
    "confusion1 = metrics.confusion_matrix(testy.argmax(axis=1), test_predicted.argmax(axis=1))\n",
    "print(confusion1)\n",
    "\n",
    "# Let's check the overall accuracy.\n",
    "print(metrics.accuracy_score(testy.argmax(axis=1), test_predicted.argmax(axis=1)))"
   ]
  },
  {
   "cell_type": "code",
   "execution_count": 36,
   "metadata": {},
   "outputs": [
    {
     "name": "stdout",
     "output_type": "stream",
     "text": [
      "[0.99363057 0.96688742 0.96078431 1.        ]\n",
      "[0.99774266 0.99109131 0.98657718 0.9978308 ]\n",
      "[0.99666667 0.985      0.98       0.99833333]\n"
     ]
    }
   ],
   "source": [
    "FP = confusion1.sum(axis=0) - np.diag(confusion1)  \n",
    "FN = confusion1.sum(axis=1) - np.diag(confusion1)\n",
    "TP = np.diag(confusion1)\n",
    "TN = confusion1.sum() - (FP + FN + TP)\n",
    "\n",
    "FP = FP.astype(float)\n",
    "FN = FN.astype(float)\n",
    "TP = TP.astype(float)\n",
    "TN = TN.astype(float)\n",
    "\n",
    "# Sensitivity, hit rate, recall, or true positive rate\n",
    "TPR = TP/(TP+FN)\n",
    "print(TPR)\n",
    "# Specificity or true negative rate\n",
    "TNR = TN/(TN+FP) \n",
    "print(TNR)\n",
    "# Precision or positive predictive value\n",
    "PPV = TP/(TP+FP)\n",
    "# Negative predictive value\n",
    "NPV = TN/(TN+FN)\n",
    "# Fall out or false positive rate\n",
    "FPR = FP/(FP+TN)\n",
    "# False negative rate\n",
    "FNR = FN/(TP+FN)\n",
    "# False discovery rate\n",
    "FDR = FP/(TP+FP)\n",
    "# Overall accuracy\n",
    "ACC = (TP+TN)/(TP+FP+FN+TN)\n",
    "print(ACC)"
   ]
  },
  {
   "cell_type": "code",
   "execution_count": 37,
   "metadata": {},
   "outputs": [],
   "source": [
    "################################################################################################################################\n",
    "################################################################################################################################\n",
    "################################################################################################################################"
   ]
  },
  {
   "cell_type": "markdown",
   "metadata": {},
   "source": [
    "# Deep Recurrent Network"
   ]
  },
  {
   "cell_type": "markdown",
   "metadata": {},
   "source": [
    "### Long Short Term Memory Network"
   ]
  },
  {
   "cell_type": "code",
   "execution_count": 38,
   "metadata": {},
   "outputs": [],
   "source": [
    "import numpy as np\n",
    "import pandas as pd\n",
    "from keras.models import Sequential\n",
    "from keras.layers import Dense\n",
    "from keras.wrappers.scikit_learn import KerasClassifier\n",
    "from keras.utils import np_utils\n",
    "from sklearn.model_selection import cross_val_score\n",
    "from sklearn.model_selection import KFold\n",
    "from sklearn.preprocessing import LabelEncoder\n",
    "from sklearn.pipeline import Pipeline\n",
    "from keras.callbacks import EarlyStopping\n",
    "from keras.callbacks import ModelCheckpoint\n",
    "from matplotlib import pyplot\n",
    "from keras.models import load_model\n",
    "from sklearn.datasets import make_moons\n",
    "from keras.layers import Dropout\n",
    "from keras.layers import LSTM"
   ]
  },
  {
   "cell_type": "code",
   "execution_count": null,
   "metadata": {},
   "outputs": [],
   "source": []
  },
  {
   "cell_type": "code",
   "execution_count": 39,
   "metadata": {},
   "outputs": [],
   "source": [
    "#split Training and Testing\n",
    "from sklearn.model_selection import train_test_split\n",
    "\n",
    "# We specify this so that the train and test data set always have the same rows, respectively\n",
    "np.random.seed(0)\n",
    "\n",
    "X , y = dataframe1.loc[:, dataframe1.columns != 'Room'] ,dataframe1.loc[:, dataframe1.columns == 'Room']\n",
    "trainX, testX, trainy, testy = train_test_split(X, y, random_state = 0,train_size = 0.7, test_size = 0.3)\n"
   ]
  },
  {
   "cell_type": "code",
   "execution_count": 40,
   "metadata": {},
   "outputs": [],
   "source": [
    "ln=len(trainX.columns)"
   ]
  },
  {
   "cell_type": "code",
   "execution_count": 41,
   "metadata": {},
   "outputs": [],
   "source": [
    "trainX=np.array(trainX)\n",
    "trainy=np.array(trainy)\n",
    "testy=np.array(testy)\n",
    "testX=np.array(testX)\n"
   ]
  },
  {
   "cell_type": "code",
   "execution_count": 42,
   "metadata": {},
   "outputs": [],
   "source": [
    "trainX = trainX.reshape(len(trainX),1,ln)\n",
    "testX = testX.reshape(len(testX),1,ln)\n",
    "trainy = trainy.reshape(len(trainy),1)\n",
    "testy = testy.reshape(len(testy),1)"
   ]
  },
  {
   "cell_type": "code",
   "execution_count": 43,
   "metadata": {},
   "outputs": [
    {
     "data": {
      "text/plain": [
       "(600, 1, 7)"
      ]
     },
     "execution_count": 43,
     "metadata": {},
     "output_type": "execute_result"
    }
   ],
   "source": [
    "testX.shape"
   ]
  },
  {
   "cell_type": "code",
   "execution_count": 44,
   "metadata": {},
   "outputs": [
    {
     "data": {
      "text/plain": [
       "(600, 1)"
      ]
     },
     "execution_count": 44,
     "metadata": {},
     "output_type": "execute_result"
    }
   ],
   "source": [
    "testy.shape"
   ]
  },
  {
   "cell_type": "code",
   "execution_count": 45,
   "metadata": {},
   "outputs": [
    {
     "data": {
      "text/plain": [
       "(1400, 1, 7)"
      ]
     },
     "execution_count": 45,
     "metadata": {},
     "output_type": "execute_result"
    }
   ],
   "source": [
    "trainX.shape"
   ]
  },
  {
   "cell_type": "code",
   "execution_count": 46,
   "metadata": {},
   "outputs": [
    {
     "data": {
      "text/plain": [
       "(1400, 1)"
      ]
     },
     "execution_count": 46,
     "metadata": {},
     "output_type": "execute_result"
    }
   ],
   "source": [
    "trainy.shape"
   ]
  },
  {
   "cell_type": "code",
   "execution_count": 47,
   "metadata": {},
   "outputs": [
    {
     "name": "stderr",
     "output_type": "stream",
     "text": [
      "C:\\Users\\ved deo\\Anaconda3\\envs\\deep\\lib\\site-packages\\sklearn\\preprocessing\\_label.py:235: DataConversionWarning: A column-vector y was passed when a 1d array was expected. Please change the shape of y to (n_samples, ), for example using ravel().\n",
      "  y = column_or_1d(y, warn=True)\n",
      "C:\\Users\\ved deo\\Anaconda3\\envs\\deep\\lib\\site-packages\\sklearn\\preprocessing\\_label.py:268: DataConversionWarning: A column-vector y was passed when a 1d array was expected. Please change the shape of y to (n_samples, ), for example using ravel().\n",
      "  y = column_or_1d(y, warn=True)\n"
     ]
    }
   ],
   "source": [
    "# encode class values as integers\n",
    "encoder = LabelEncoder()\n",
    "encoder.fit(trainy)\n",
    "trainy = encoder.transform(trainy)\n",
    "# convert integers to dummy variables (i.e. one hot encoded)\n",
    "trainy = np_utils.to_categorical(trainy)"
   ]
  },
  {
   "cell_type": "code",
   "execution_count": 48,
   "metadata": {},
   "outputs": [],
   "source": [
    "# encode class values as integers\n",
    "encoder = LabelEncoder()\n",
    "encoder.fit(testy)\n",
    "testy = encoder.transform(testy)\n",
    "# convert integers to dummy variables (i.e. one hot encoded)\n",
    "testy = np_utils.to_categorical(testy)"
   ]
  },
  {
   "cell_type": "code",
   "execution_count": 49,
   "metadata": {},
   "outputs": [],
   "source": [
    "# define model\n",
    "model_lstm = Sequential()\n",
    "model_lstm.add(LSTM(300,activation='relu'))\n",
    "model_lstm.add(Dense(200, activation='relu'))\n",
    "model_lstm.add(Dense(50, activation='relu'))\n",
    "model_lstm.add(Dense(4, activation='softmax'))"
   ]
  },
  {
   "cell_type": "code",
   "execution_count": 50,
   "metadata": {},
   "outputs": [],
   "source": [
    "#compile model with SGD\n",
    "from keras.optimizers import SGD\n",
    "sgd = SGD(lr=0.1, momentum=0.9, decay=0.0, nesterov=False)\n",
    "model_lstm.compile(loss='categorical_crossentropy', optimizer=sgd, metrics=['accuracy'])"
   ]
  },
  {
   "cell_type": "code",
   "execution_count": 51,
   "metadata": {},
   "outputs": [],
   "source": [
    "# simple early stopping\n",
    "es = EarlyStopping(monitor='val_loss', mode='min', verbose=1, patience=15)\n",
    "mc = ModelCheckpoint('best_model_lstm.h5', monitor='val_acc', mode='max', verbose=1, save_best_only=True)\n"
   ]
  },
  {
   "cell_type": "code",
   "execution_count": 52,
   "metadata": {},
   "outputs": [
    {
     "name": "stdout",
     "output_type": "stream",
     "text": [
      "Train on 1400 samples, validate on 600 samples\n",
      "Epoch 1/200\n",
      "1400/1400 [==============================] - 1s 789us/step - loss: nan - accuracy: 0.2464 - val_loss: nan - val_accuracy: 0.2617\n",
      "Epoch 2/200\n",
      " 544/1400 [==========>...................] - ETA: 0s - loss: nan - accuracy: 0.2537"
     ]
    },
    {
     "name": "stderr",
     "output_type": "stream",
     "text": [
      "C:\\Users\\ved deo\\Anaconda3\\envs\\deep\\lib\\site-packages\\keras\\callbacks\\callbacks.py:820: RuntimeWarning: invalid value encountered in less\n",
      "  if self.monitor_op(current - self.min_delta, self.best):\n",
      "C:\\Users\\ved deo\\Anaconda3\\envs\\deep\\lib\\site-packages\\keras\\callbacks\\callbacks.py:707: RuntimeWarning: Can save best model only with val_acc available, skipping.\n",
      "  'skipping.' % (self.monitor), RuntimeWarning)\n"
     ]
    },
    {
     "name": "stdout",
     "output_type": "stream",
     "text": [
      "1400/1400 [==============================] - 0s 347us/step - loss: nan - accuracy: 0.2450 - val_loss: nan - val_accuracy: 0.2617\n",
      "Epoch 3/200\n",
      "1400/1400 [==============================] - 0s 336us/step - loss: nan - accuracy: 0.2450 - val_loss: nan - val_accuracy: 0.2617\n",
      "Epoch 4/200\n",
      "1400/1400 [==============================] - 0s 329us/step - loss: nan - accuracy: 0.2450 - val_loss: nan - val_accuracy: 0.2617\n",
      "Epoch 5/200\n",
      "1400/1400 [==============================] - 0s 313us/step - loss: nan - accuracy: 0.2450 - val_loss: nan - val_accuracy: 0.2617\n",
      "Epoch 6/200\n",
      "1400/1400 [==============================] - 0s 344us/step - loss: nan - accuracy: 0.2450 - val_loss: nan - val_accuracy: 0.2617\n",
      "Epoch 7/200\n",
      "1400/1400 [==============================] - 1s 392us/step - loss: nan - accuracy: 0.2450 - val_loss: nan - val_accuracy: 0.2617\n",
      "Epoch 8/200\n",
      "1400/1400 [==============================] - 0s 347us/step - loss: nan - accuracy: 0.2450 - val_loss: nan - val_accuracy: 0.2617\n",
      "Epoch 9/200\n",
      "1400/1400 [==============================] - 1s 365us/step - loss: nan - accuracy: 0.2450 - val_loss: nan - val_accuracy: 0.2617\n",
      "Epoch 10/200\n",
      "1400/1400 [==============================] - 0s 334us/step - loss: nan - accuracy: 0.2450 - val_loss: nan - val_accuracy: 0.2617\n",
      "Epoch 11/200\n",
      "1400/1400 [==============================] - 0s 341us/step - loss: nan - accuracy: 0.2450 - val_loss: nan - val_accuracy: 0.2617\n",
      "Epoch 12/200\n",
      "1400/1400 [==============================] - 0s 332us/step - loss: nan - accuracy: 0.2450 - val_loss: nan - val_accuracy: 0.2617\n",
      "Epoch 13/200\n",
      "1400/1400 [==============================] - 0s 316us/step - loss: nan - accuracy: 0.2450 - val_loss: nan - val_accuracy: 0.2617\n",
      "Epoch 14/200\n",
      "1400/1400 [==============================] - 0s 319us/step - loss: nan - accuracy: 0.2450 - val_loss: nan - val_accuracy: 0.2617\n",
      "Epoch 15/200\n",
      "1400/1400 [==============================] - 1s 380us/step - loss: nan - accuracy: 0.2450 - val_loss: nan - val_accuracy: 0.2617\n",
      "Epoch 00015: early stopping\n"
     ]
    }
   ],
   "source": [
    "# fit model\n",
    "history = model_lstm.fit(trainX, trainy, validation_data=(testX, testy), epochs=200, verbose=1, callbacks=[es, mc])\n",
    "\n"
   ]
  },
  {
   "cell_type": "code",
   "execution_count": 53,
   "metadata": {},
   "outputs": [],
   "source": [
    "# load the saved model\n",
    "#saved_model = load_model('best_model_lstm.h5')\n",
    "saved_model = model_lstm"
   ]
  },
  {
   "cell_type": "code",
   "execution_count": 54,
   "metadata": {},
   "outputs": [
    {
     "name": "stdout",
     "output_type": "stream",
     "text": [
      "Train: 0.245, Test: 0.262\n"
     ]
    }
   ],
   "source": [
    "# evaluate the model\n",
    "_, train_acc = saved_model.evaluate(trainX, trainy, verbose=0)\n",
    "_, test_acc = saved_model.evaluate(testX, testy, verbose=0)\n",
    "print('Train: %.3f, Test: %.3f' % (train_acc, test_acc))\n"
   ]
  },
  {
   "cell_type": "code",
   "execution_count": 55,
   "metadata": {},
   "outputs": [
    {
     "data": {
      "image/png": "[encoded data removed]",
      "text/plain": [
       "<Figure size 432x288 with 1 Axes>"
      ]
     },
     "metadata": {
      "needs_background": "light"
     },
     "output_type": "display_data"
    }
   ],
   "source": [
    "# plot training history\n",
    "pyplot.plot(history.history['loss'], label='train')\n",
    "pyplot.plot(history.history['val_loss'], label='test')\n",
    "pyplot.legend()\n",
    "pyplot.show()"
   ]
  },
  {
   "cell_type": "code",
   "execution_count": 56,
   "metadata": {},
   "outputs": [
    {
     "name": "stdout",
     "output_type": "stream",
     "text": [
      "[[343   0   0   0]\n",
      " [349   0   0   0]\n",
      " [347   0   0   0]\n",
      " [361   0   0   0]]\n",
      "0.245\n",
      "[[157   0   0   0]\n",
      " [151   0   0   0]\n",
      " [153   0   0   0]\n",
      " [139   0   0   0]]\n",
      "0.26166666666666666\n"
     ]
    }
   ],
   "source": [
    "# Confusion Matrix\n",
    "train_predicted=saved_model.predict(trainX)\n",
    "test_predicted=saved_model.predict(testX)\n",
    "\n",
    "#Confusion Matrix for Training\n",
    "from sklearn import metrics\n",
    "confusion = metrics.confusion_matrix(trainy.argmax(axis=1), train_predicted.argmax(axis=1))\n",
    "print(confusion)\n",
    "\n",
    "# Let's check the overall accuracy.\n",
    "print(metrics.accuracy_score(trainy.argmax(axis=1), train_predicted.argmax(axis=1)))\n",
    "\n",
    "#Confusion Matrix for Testing\n",
    "from sklearn import metrics\n",
    "confusion1 = metrics.confusion_matrix(testy.argmax(axis=1), test_predicted.argmax(axis=1))\n",
    "print(confusion1)\n",
    "\n",
    "# Let's check the overall accuracy.\n",
    "print(metrics.accuracy_score(testy.argmax(axis=1), test_predicted.argmax(axis=1)))"
   ]
  },
  {
   "cell_type": "code",
   "execution_count": 57,
   "metadata": {},
   "outputs": [
    {
     "name": "stdout",
     "output_type": "stream",
     "text": [
      "[1. 0. 0. 0.]\n",
      "[0. 1. 1. 1.]\n",
      "[0.26166667 0.74833333 0.745      0.76833333]\n"
     ]
    },
    {
     "name": "stderr",
     "output_type": "stream",
     "text": [
      "C:\\Users\\ved deo\\AppData\\Roaming\\Python\\Python37\\site-packages\\ipykernel_launcher.py:18: RuntimeWarning: invalid value encountered in true_divide\n",
      "C:\\Users\\ved deo\\AppData\\Roaming\\Python\\Python37\\site-packages\\ipykernel_launcher.py:20: RuntimeWarning: invalid value encountered in true_divide\n",
      "C:\\Users\\ved deo\\AppData\\Roaming\\Python\\Python37\\site-packages\\ipykernel_launcher.py:26: RuntimeWarning: invalid value encountered in true_divide\n"
     ]
    }
   ],
   "source": [
    "FP = confusion1.sum(axis=0) - np.diag(confusion1)  \n",
    "FN = confusion1.sum(axis=1) - np.diag(confusion1)\n",
    "TP = np.diag(confusion1)\n",
    "TN = confusion1.sum() - (FP + FN + TP)\n",
    "\n",
    "FP = FP.astype(float)\n",
    "FN = FN.astype(float)\n",
    "TP = TP.astype(float)\n",
    "TN = TN.astype(float)\n",
    "\n",
    "# Sensitivity, hit rate, recall, or true positive rate\n",
    "TPR = TP/(TP+FN)\n",
    "print(TPR)\n",
    "# Specificity or true negative rate\n",
    "TNR = TN/(TN+FP) \n",
    "print(TNR)\n",
    "# Precision or positive predictive value\n",
    "PPV = TP/(TP+FP)\n",
    "# Negative predictive value\n",
    "NPV = TN/(TN+FN)\n",
    "# Fall out or false positive rate\n",
    "FPR = FP/(FP+TN)\n",
    "# False negative rate\n",
    "FNR = FN/(TP+FN)\n",
    "# False discovery rate\n",
    "FDR = FP/(TP+FP)\n",
    "# Overall accuracy\n",
    "ACC = (TP+TN)/(TP+FP+FN+TN)\n",
    "print(ACC)"
   ]
  },
  {
   "cell_type": "markdown",
   "metadata": {},
   "source": [
    "### With Regularization Parameter + Drop Out + ADAM"
   ]
  },
  {
   "cell_type": "code",
   "execution_count": 95,
   "metadata": {},
   "outputs": [],
   "source": [
    "# define model with Regularization and drop out for stopping Overfitting\n",
    "# try with diff regularisation\n",
    "from keras import regularizers\n",
    "model_lstm_adm = Sequential()\n",
    "model_lstm_adm.add(LSTM(300, activation='relu',kernel_regularizer=regularizers.l1(0.01)))\n",
    "model_lstm_adm.add(Dropout(0.6, noise_shape=None, seed=None))\n",
    "model_lstm_adm.add(Dense(200,activation='relu',kernel_regularizer=regularizers.l1(0.01)))\n",
    "model_lstm_adm.add(Dense(50, activation='relu'))\n",
    "model_lstm_adm.add(Dense(4, activation='softmax'))\n"
   ]
  },
  {
   "cell_type": "code",
   "execution_count": 96,
   "metadata": {},
   "outputs": [],
   "source": [
    "# Compiling Model\n",
    "model_lstm_adm.compile(loss='categorical_crossentropy', optimizer='adam', metrics=['accuracy'])"
   ]
  },
  {
   "cell_type": "code",
   "execution_count": 97,
   "metadata": {},
   "outputs": [],
   "source": [
    "# simple early stopping\n",
    "es = EarlyStopping(monitor='val_loss', mode='min', verbose=1, patience=15)\n",
    "mc = ModelCheckpoint('best_model_lstm_reg.h5', monitor='val_acc', mode='max', verbose=1, save_best_only=True)\n"
   ]
  },
  {
   "cell_type": "code",
   "execution_count": 98,
   "metadata": {},
   "outputs": [
    {
     "name": "stdout",
     "output_type": "stream",
     "text": [
      "WARNING:tensorflow:Large dropout rate: 0.6 (>0.5). In TensorFlow 2.x, dropout() uses dropout rate instead of keep_prob. Please ensure that this is intended.\n",
      "Train on 1400 samples, validate on 600 samples\n",
      "Epoch 1/200\n",
      "1400/1400 [==============================] - 1s 539us/step - loss: 38.4818 - accuracy: 0.2421 - val_loss: 33.9613 - val_accuracy: 0.3967\n",
      "Epoch 2/200\n"
     ]
    },
    {
     "name": "stderr",
     "output_type": "stream",
     "text": [
      "C:\\Users\\ved deo\\Anaconda3\\envs\\deep\\lib\\site-packages\\keras\\callbacks\\callbacks.py:707: RuntimeWarning: Can save best model only with val_acc available, skipping.\n",
      "  'skipping.' % (self.monitor), RuntimeWarning)\n"
     ]
    },
    {
     "name": "stdout",
     "output_type": "stream",
     "text": [
      "1400/1400 [==============================] - 0s 298us/step - loss: 34.9525 - accuracy: 0.2514 - val_loss: 33.4070 - val_accuracy: 0.2617\n",
      "Epoch 3/200\n",
      "1400/1400 [==============================] - 0s 309us/step - loss: 33.4944 - accuracy: 0.2507 - val_loss: 32.1683 - val_accuracy: 0.2617\n",
      "Epoch 4/200\n",
      "1400/1400 [==============================] - 0s 289us/step - loss: 32.0928 - accuracy: 0.2729 - val_loss: 30.8928 - val_accuracy: 0.2617\n",
      "Epoch 5/200\n",
      "1400/1400 [==============================] - 0s 305us/step - loss: 30.9472 - accuracy: 0.2343 - val_loss: 29.8495 - val_accuracy: 0.2633\n",
      "Epoch 6/200\n",
      "1400/1400 [==============================] - 0s 307us/step - loss: 29.8626 - accuracy: 0.2686 - val_loss: 28.8759 - val_accuracy: 0.4883\n",
      "Epoch 7/200\n",
      "1400/1400 [==============================] - 0s 308us/step - loss: 28.8392 - accuracy: 0.2593 - val_loss: 27.9263 - val_accuracy: 0.2667\n",
      "Epoch 8/200\n",
      "1400/1400 [==============================] - 0s 296us/step - loss: 27.8503 - accuracy: 0.2729 - val_loss: 26.9884 - val_accuracy: 0.2583\n",
      "Epoch 9/200\n",
      "1400/1400 [==============================] - 0s 294us/step - loss: 26.8915 - accuracy: 0.2979 - val_loss: 26.0824 - val_accuracy: 0.2533\n",
      "Epoch 10/200\n",
      "1400/1400 [==============================] - 0s 317us/step - loss: 25.9593 - accuracy: 0.2900 - val_loss: 25.1696 - val_accuracy: 0.2467\n",
      "Epoch 11/200\n",
      "1400/1400 [==============================] - 0s 308us/step - loss: 25.0444 - accuracy: 0.3029 - val_loss: 24.2668 - val_accuracy: 0.2917\n",
      "Epoch 12/200\n",
      "1400/1400 [==============================] - 0s 336us/step - loss: 24.1247 - accuracy: 0.3229 - val_loss: 23.3790 - val_accuracy: 0.2667\n",
      "Epoch 13/200\n",
      "1400/1400 [==============================] - 0s 312us/step - loss: 23.2367 - accuracy: 0.3364 - val_loss: 22.4925 - val_accuracy: 0.4033\n",
      "Epoch 14/200\n",
      "1400/1400 [==============================] - 0s 315us/step - loss: 22.3580 - accuracy: 0.3629 - val_loss: 21.6210 - val_accuracy: 0.2950\n",
      "Epoch 15/200\n",
      "1400/1400 [==============================] - 0s 286us/step - loss: 21.4953 - accuracy: 0.3786 - val_loss: 20.7838 - val_accuracy: 0.4550\n",
      "Epoch 16/200\n",
      "1400/1400 [==============================] - 1s 365us/step - loss: 20.6488 - accuracy: 0.4100 - val_loss: 19.8982 - val_accuracy: 0.3800\n",
      "Epoch 17/200\n",
      "1400/1400 [==============================] - 0s 347us/step - loss: 19.7934 - accuracy: 0.4093 - val_loss: 19.1325 - val_accuracy: 0.5683\n",
      "Epoch 18/200\n",
      "1400/1400 [==============================] - 0s 300us/step - loss: 18.9912 - accuracy: 0.4543 - val_loss: 18.2542 - val_accuracy: 0.6083\n",
      "Epoch 19/200\n",
      "1400/1400 [==============================] - 0s 301us/step - loss: 18.1918 - accuracy: 0.4857 - val_loss: 17.4928 - val_accuracy: 0.6650\n",
      "Epoch 20/200\n",
      "1400/1400 [==============================] - 0s 289us/step - loss: 17.4407 - accuracy: 0.4743 - val_loss: 16.9351 - val_accuracy: 0.3267\n",
      "Epoch 21/200\n",
      "1400/1400 [==============================] - 1s 364us/step - loss: 16.8379 - accuracy: 0.3757 - val_loss: 16.1871 - val_accuracy: 0.4333\n",
      "Epoch 22/200\n",
      "1400/1400 [==============================] - 0s 338us/step - loss: 16.0784 - accuracy: 0.4307 - val_loss: 15.2863 - val_accuracy: 0.6433\n",
      "Epoch 23/200\n",
      "1400/1400 [==============================] - 0s 322us/step - loss: 15.2738 - accuracy: 0.5129 - val_loss: 14.6264 - val_accuracy: 0.5367\n",
      "Epoch 24/200\n",
      "1400/1400 [==============================] - 0s 328us/step - loss: 14.5607 - accuracy: 0.5371 - val_loss: 13.9833 - val_accuracy: 0.6633\n",
      "Epoch 25/200\n",
      "1400/1400 [==============================] - 0s 341us/step - loss: 13.9157 - accuracy: 0.5600 - val_loss: 13.2286 - val_accuracy: 0.7000\n",
      "Epoch 26/200\n",
      "1400/1400 [==============================] - 0s 318us/step - loss: 13.1706 - accuracy: 0.6171 - val_loss: 12.5742 - val_accuracy: 0.6450\n",
      "Epoch 27/200\n",
      "1400/1400 [==============================] - 0s 323us/step - loss: 12.5451 - accuracy: 0.6086 - val_loss: 11.8178 - val_accuracy: 0.8433\n",
      "Epoch 28/200\n",
      "1400/1400 [==============================] - 1s 367us/step - loss: 11.8335 - accuracy: 0.6871 - val_loss: 11.2149 - val_accuracy: 0.7617\n",
      "Epoch 29/200\n",
      "1400/1400 [==============================] - 0s 320us/step - loss: 11.1993 - accuracy: 0.6950 - val_loss: 10.4908 - val_accuracy: 0.8667\n",
      "Epoch 30/200\n",
      "1400/1400 [==============================] - 0s 329us/step - loss: 10.5761 - accuracy: 0.7250 - val_loss: 9.8831 - val_accuracy: 0.8700\n",
      "Epoch 31/200\n",
      "1400/1400 [==============================] - 0s 287us/step - loss: 9.9183 - accuracy: 0.7886 - val_loss: 9.2431 - val_accuracy: 0.9233\n",
      "Epoch 32/200\n",
      "1400/1400 [==============================] - 0s 287us/step - loss: 9.3458 - accuracy: 0.8121 - val_loss: 8.7203 - val_accuracy: 0.9350\n",
      "Epoch 33/200\n",
      "1400/1400 [==============================] - 0s 284us/step - loss: 8.7834 - accuracy: 0.8436 - val_loss: 8.1873 - val_accuracy: 0.9367\n",
      "Epoch 34/200\n",
      "1400/1400 [==============================] - 0s 301us/step - loss: 8.2615 - accuracy: 0.8643 - val_loss: 7.7373 - val_accuracy: 0.9367\n",
      "Epoch 35/200\n",
      "1400/1400 [==============================] - 1s 362us/step - loss: 7.7901 - accuracy: 0.8771 - val_loss: 7.2713 - val_accuracy: 0.9283\n",
      "Epoch 36/200\n",
      "1400/1400 [==============================] - 1s 381us/step - loss: 7.2842 - accuracy: 0.9007 - val_loss: 6.7815 - val_accuracy: 0.9567\n",
      "Epoch 37/200\n",
      "1400/1400 [==============================] - 1s 387us/step - loss: 6.8023 - accuracy: 0.9357 - val_loss: 6.3882 - val_accuracy: 0.9517\n",
      "Epoch 38/200\n",
      "1400/1400 [==============================] - 0s 348us/step - loss: 6.4079 - accuracy: 0.9229 - val_loss: 5.9775 - val_accuracy: 0.9617\n",
      "Epoch 39/200\n",
      "1400/1400 [==============================] - 0s 308us/step - loss: 5.9911 - accuracy: 0.9421 - val_loss: 5.5969 - val_accuracy: 0.9617\n",
      "Epoch 40/200\n",
      "1400/1400 [==============================] - 1s 392us/step - loss: 5.6167 - accuracy: 0.9421 - val_loss: 5.2858 - val_accuracy: 0.9500\n",
      "Epoch 41/200\n",
      "1400/1400 [==============================] - 0s 316us/step - loss: 5.2685 - accuracy: 0.9386 - val_loss: 4.9341 - val_accuracy: 0.9567\n",
      "Epoch 42/200\n",
      "1400/1400 [==============================] - 0s 296us/step - loss: 4.9314 - accuracy: 0.9450 - val_loss: 4.6213 - val_accuracy: 0.9500\n",
      "Epoch 43/200\n",
      "1400/1400 [==============================] - 1s 378us/step - loss: 4.6179 - accuracy: 0.9443 - val_loss: 4.3047 - val_accuracy: 0.9617\n",
      "Epoch 44/200\n",
      "1400/1400 [==============================] - 0s 312us/step - loss: 4.3229 - accuracy: 0.9471 - val_loss: 4.0273 - val_accuracy: 0.9617\n",
      "Epoch 45/200\n",
      "1400/1400 [==============================] - 0s 296us/step - loss: 4.0184 - accuracy: 0.9543 - val_loss: 3.7488 - val_accuracy: 0.9633\n",
      "Epoch 46/200\n",
      "1400/1400 [==============================] - 0s 293us/step - loss: 3.7562 - accuracy: 0.9536 - val_loss: 3.5103 - val_accuracy: 0.9633\n",
      "Epoch 47/200\n",
      "1400/1400 [==============================] - 0s 343us/step - loss: 3.5255 - accuracy: 0.9514 - val_loss: 3.2899 - val_accuracy: 0.9667\n",
      "Epoch 48/200\n",
      "1400/1400 [==============================] - 0s 334us/step - loss: 3.3052 - accuracy: 0.9529 - val_loss: 3.0839 - val_accuracy: 0.9650\n",
      "Epoch 49/200\n",
      "1400/1400 [==============================] - 0s 296us/step - loss: 3.0917 - accuracy: 0.9564 - val_loss: 2.8902 - val_accuracy: 0.9650\n",
      "Epoch 50/200\n",
      "1400/1400 [==============================] - 0s 328us/step - loss: 2.8962 - accuracy: 0.9600 - val_loss: 2.7232 - val_accuracy: 0.9650\n",
      "Epoch 51/200\n",
      "1400/1400 [==============================] - 0s 301us/step - loss: 2.7174 - accuracy: 0.9629 - val_loss: 2.5711 - val_accuracy: 0.9650\n",
      "Epoch 52/200\n",
      "1400/1400 [==============================] - 0s 280us/step - loss: 2.5986 - accuracy: 0.9550 - val_loss: 2.4408 - val_accuracy: 0.9733\n",
      "Epoch 53/200\n",
      "1400/1400 [==============================] - 0s 280us/step - loss: 2.4599 - accuracy: 0.9614 - val_loss: 2.3216 - val_accuracy: 0.9683\n",
      "Epoch 54/200\n",
      "1400/1400 [==============================] - 0s 294us/step - loss: 2.3533 - accuracy: 0.9621 - val_loss: 2.2473 - val_accuracy: 0.9650\n",
      "Epoch 55/200\n",
      "1400/1400 [==============================] - 0s 277us/step - loss: 2.2530 - accuracy: 0.9664 - val_loss: 2.1506 - val_accuracy: 0.9750\n",
      "Epoch 56/200\n",
      "1400/1400 [==============================] - 0s 278us/step - loss: 2.1748 - accuracy: 0.9657 - val_loss: 2.0865 - val_accuracy: 0.9667\n",
      "Epoch 57/200\n",
      "1400/1400 [==============================] - 0s 278us/step - loss: 2.1167 - accuracy: 0.9621 - val_loss: 2.0169 - val_accuracy: 0.9667\n",
      "Epoch 58/200\n",
      "1400/1400 [==============================] - 0s 278us/step - loss: 2.0416 - accuracy: 0.9600 - val_loss: 1.9587 - val_accuracy: 0.9617\n",
      "Epoch 59/200\n",
      "1400/1400 [==============================] - 0s 277us/step - loss: 1.9699 - accuracy: 0.9564 - val_loss: 1.8747 - val_accuracy: 0.9667\n",
      "Epoch 60/200\n",
      "1400/1400 [==============================] - 0s 286us/step - loss: 1.8950 - accuracy: 0.9564 - val_loss: 1.7848 - val_accuracy: 0.9717\n",
      "Epoch 61/200\n",
      "1400/1400 [==============================] - 0s 311us/step - loss: 1.8230 - accuracy: 0.9643 - val_loss: 1.7244 - val_accuracy: 0.9767\n",
      "Epoch 62/200\n",
      "1400/1400 [==============================] - 0s 291us/step - loss: 1.7479 - accuracy: 0.9700 - val_loss: 1.6649 - val_accuracy: 0.9750\n",
      "Epoch 63/200\n",
      "1400/1400 [==============================] - 0s 274us/step - loss: 1.6891 - accuracy: 0.9693 - val_loss: 1.6225 - val_accuracy: 0.9767\n",
      "Epoch 64/200\n",
      "1400/1400 [==============================] - 0s 278us/step - loss: 1.6398 - accuracy: 0.9671 - val_loss: 1.5801 - val_accuracy: 0.9700\n",
      "Epoch 65/200\n",
      "1400/1400 [==============================] - 0s 276us/step - loss: 1.6027 - accuracy: 0.9643 - val_loss: 1.5460 - val_accuracy: 0.9667\n",
      "Epoch 66/200\n",
      "1400/1400 [==============================] - 0s 277us/step - loss: 1.5575 - accuracy: 0.9657 - val_loss: 1.5034 - val_accuracy: 0.9667\n",
      "Epoch 67/200\n",
      "1400/1400 [==============================] - 0s 280us/step - loss: 1.5145 - accuracy: 0.9650 - val_loss: 1.4698 - val_accuracy: 0.9683\n",
      "Epoch 68/200\n",
      "1400/1400 [==============================] - 0s 286us/step - loss: 1.4759 - accuracy: 0.9664 - val_loss: 1.4318 - val_accuracy: 0.9617\n",
      "Epoch 69/200\n",
      "1400/1400 [==============================] - 1s 412us/step - loss: 1.4681 - accuracy: 0.9550 - val_loss: 1.4593 - val_accuracy: 0.9483\n",
      "Epoch 70/200\n",
      "1400/1400 [==============================] - 1s 464us/step - loss: 1.4805 - accuracy: 0.9400 - val_loss: 1.3969 - val_accuracy: 0.9567\n",
      "Epoch 71/200\n",
      "1400/1400 [==============================] - 1s 363us/step - loss: 1.4443 - accuracy: 0.9357 - val_loss: 1.4135 - val_accuracy: 0.9400\n",
      "Epoch 72/200\n",
      "1400/1400 [==============================] - 1s 393us/step - loss: 1.4101 - accuracy: 0.9429 - val_loss: 1.4098 - val_accuracy: 0.9367\n",
      "Epoch 73/200\n",
      "1400/1400 [==============================] - 0s 305us/step - loss: 1.4289 - accuracy: 0.9314 - val_loss: 1.2911 - val_accuracy: 0.9700\n",
      "Epoch 74/200\n",
      "1400/1400 [==============================] - 0s 306us/step - loss: 1.3202 - accuracy: 0.9636 - val_loss: 1.2582 - val_accuracy: 0.9700\n",
      "Epoch 75/200\n",
      "1400/1400 [==============================] - 0s 296us/step - loss: 1.2670 - accuracy: 0.9686 - val_loss: 1.2427 - val_accuracy: 0.9667\n",
      "Epoch 76/200\n",
      "1400/1400 [==============================] - 0s 291us/step - loss: 1.2885 - accuracy: 0.9529 - val_loss: 1.1927 - val_accuracy: 0.9717\n",
      "Epoch 77/200\n",
      "1400/1400 [==============================] - 0s 294us/step - loss: 1.2222 - accuracy: 0.9636 - val_loss: 1.1572 - val_accuracy: 0.9767\n",
      "Epoch 78/200\n",
      "1400/1400 [==============================] - 0s 291us/step - loss: 1.1955 - accuracy: 0.9693 - val_loss: 1.1278 - val_accuracy: 0.9767\n",
      "Epoch 79/200\n",
      "1400/1400 [==============================] - 0s 312us/step - loss: 1.1651 - accuracy: 0.9671 - val_loss: 1.1135 - val_accuracy: 0.9733\n",
      "Epoch 80/200\n",
      "1400/1400 [==============================] - 0s 328us/step - loss: 1.1337 - accuracy: 0.9736 - val_loss: 1.0782 - val_accuracy: 0.9817\n",
      "Epoch 81/200\n",
      "1400/1400 [==============================] - 0s 297us/step - loss: 1.1079 - accuracy: 0.9700 - val_loss: 1.0603 - val_accuracy: 0.9767\n",
      "Epoch 82/200\n",
      "1400/1400 [==============================] - 0s 301us/step - loss: 1.0955 - accuracy: 0.9664 - val_loss: 1.0506 - val_accuracy: 0.9733\n",
      "Epoch 83/200\n",
      "1400/1400 [==============================] - 0s 333us/step - loss: 1.0763 - accuracy: 0.9714 - val_loss: 1.0226 - val_accuracy: 0.9767\n",
      "Epoch 84/200\n",
      "1400/1400 [==============================] - 1s 365us/step - loss: 1.0493 - accuracy: 0.9707 - val_loss: 1.0088 - val_accuracy: 0.9767\n",
      "Epoch 85/200\n",
      "1400/1400 [==============================] - 0s 336us/step - loss: 1.0348 - accuracy: 0.9750 - val_loss: 0.9780 - val_accuracy: 0.9817\n",
      "Epoch 86/200\n",
      "1400/1400 [==============================] - 0s 329us/step - loss: 0.9980 - accuracy: 0.9771 - val_loss: 0.9801 - val_accuracy: 0.9717\n",
      "Epoch 87/200\n",
      "1400/1400 [==============================] - 0s 291us/step - loss: 1.0033 - accuracy: 0.9679 - val_loss: 0.9587 - val_accuracy: 0.9783\n",
      "Epoch 88/200\n",
      "1400/1400 [==============================] - 0s 348us/step - loss: 0.9754 - accuracy: 0.9757 - val_loss: 0.9205 - val_accuracy: 0.9800\n",
      "Epoch 89/200\n",
      "1400/1400 [==============================] - 1s 392us/step - loss: 0.9485 - accuracy: 0.9736 - val_loss: 0.9064 - val_accuracy: 0.9817\n",
      "Epoch 90/200\n",
      "1400/1400 [==============================] - 0s 306us/step - loss: 0.9175 - accuracy: 0.9807 - val_loss: 0.8972 - val_accuracy: 0.9800\n",
      "Epoch 91/200\n",
      "1400/1400 [==============================] - 0s 299us/step - loss: 0.9128 - accuracy: 0.9779 - val_loss: 0.8742 - val_accuracy: 0.9800\n",
      "Epoch 92/200\n",
      "1400/1400 [==============================] - 0s 296us/step - loss: 0.8920 - accuracy: 0.9779 - val_loss: 0.8584 - val_accuracy: 0.9817\n",
      "Epoch 93/200\n",
      "1400/1400 [==============================] - 0s 334us/step - loss: 0.8768 - accuracy: 0.9786 - val_loss: 0.8484 - val_accuracy: 0.9817\n",
      "Epoch 94/200\n",
      "1400/1400 [==============================] - 0s 317us/step - loss: 0.8612 - accuracy: 0.9821 - val_loss: 0.8337 - val_accuracy: 0.9817\n",
      "Epoch 95/200\n",
      "1400/1400 [==============================] - 0s 293us/step - loss: 0.8524 - accuracy: 0.9793 - val_loss: 0.8246 - val_accuracy: 0.9817\n",
      "Epoch 96/200\n",
      "1400/1400 [==============================] - 0s 318us/step - loss: 0.8354 - accuracy: 0.9807 - val_loss: 0.8177 - val_accuracy: 0.9817\n",
      "Epoch 97/200\n",
      "1400/1400 [==============================] - 0s 335us/step - loss: 0.8290 - accuracy: 0.9743 - val_loss: 0.8124 - val_accuracy: 0.9783\n",
      "Epoch 98/200\n",
      "1400/1400 [==============================] - 0s 299us/step - loss: 0.8220 - accuracy: 0.9771 - val_loss: 0.7860 - val_accuracy: 0.9833\n",
      "Epoch 99/200\n",
      "1400/1400 [==============================] - 0s 303us/step - loss: 0.8049 - accuracy: 0.9764 - val_loss: 0.7825 - val_accuracy: 0.9817\n",
      "Epoch 100/200\n",
      "1400/1400 [==============================] - 0s 291us/step - loss: 0.8052 - accuracy: 0.9771 - val_loss: 0.7634 - val_accuracy: 0.9817\n",
      "Epoch 101/200\n",
      "1400/1400 [==============================] - 0s 299us/step - loss: 0.7824 - accuracy: 0.9800 - val_loss: 0.7558 - val_accuracy: 0.9833\n",
      "Epoch 102/200\n",
      "1400/1400 [==============================] - 0s 320us/step - loss: 0.7846 - accuracy: 0.9764 - val_loss: 0.7521 - val_accuracy: 0.9833\n",
      "Epoch 103/200\n",
      "1400/1400 [==============================] - 0s 291us/step - loss: 0.7676 - accuracy: 0.9836 - val_loss: 0.7413 - val_accuracy: 0.9817\n",
      "Epoch 104/200\n",
      "1400/1400 [==============================] - 0s 309us/step - loss: 0.7549 - accuracy: 0.9793 - val_loss: 0.7314 - val_accuracy: 0.9833\n",
      "Epoch 105/200\n",
      "1400/1400 [==============================] - 0s 294us/step - loss: 0.7397 - accuracy: 0.9800 - val_loss: 0.7148 - val_accuracy: 0.9817\n",
      "Epoch 106/200\n",
      "1400/1400 [==============================] - 0s 302us/step - loss: 0.7281 - accuracy: 0.9807 - val_loss: 0.7198 - val_accuracy: 0.9817\n",
      "Epoch 107/200\n",
      "1400/1400 [==============================] - 0s 300us/step - loss: 0.7352 - accuracy: 0.9743 - val_loss: 0.7000 - val_accuracy: 0.9833\n",
      "Epoch 108/200\n",
      "1400/1400 [==============================] - 0s 274us/step - loss: 0.7208 - accuracy: 0.9786 - val_loss: 0.6986 - val_accuracy: 0.9833\n",
      "Epoch 109/200\n",
      "1400/1400 [==============================] - 0s 283us/step - loss: 0.7142 - accuracy: 0.9750 - val_loss: 0.6923 - val_accuracy: 0.9800\n",
      "Epoch 110/200\n",
      "1400/1400 [==============================] - 0s 306us/step - loss: 0.7033 - accuracy: 0.9814 - val_loss: 0.6872 - val_accuracy: 0.9833\n",
      "Epoch 111/200\n",
      "1400/1400 [==============================] - 0s 306us/step - loss: 0.7017 - accuracy: 0.9800 - val_loss: 0.6821 - val_accuracy: 0.9817\n",
      "Epoch 112/200\n"
     ]
    },
    {
     "name": "stdout",
     "output_type": "stream",
     "text": [
      "1400/1400 [==============================] - 0s 287us/step - loss: 0.6929 - accuracy: 0.9793 - val_loss: 0.6878 - val_accuracy: 0.9800\n",
      "Epoch 113/200\n",
      "1400/1400 [==============================] - 0s 303us/step - loss: 0.7026 - accuracy: 0.9750 - val_loss: 0.6542 - val_accuracy: 0.9817\n",
      "Epoch 114/200\n",
      "1400/1400 [==============================] - 0s 292us/step - loss: 0.6609 - accuracy: 0.9864 - val_loss: 0.6767 - val_accuracy: 0.9700\n",
      "Epoch 115/200\n",
      "1400/1400 [==============================] - 0s 292us/step - loss: 0.6773 - accuracy: 0.9764 - val_loss: 0.6530 - val_accuracy: 0.9750\n",
      "Epoch 116/200\n",
      "1400/1400 [==============================] - 0s 302us/step - loss: 0.6604 - accuracy: 0.9771 - val_loss: 0.6265 - val_accuracy: 0.9817\n",
      "Epoch 117/200\n",
      "1400/1400 [==============================] - 0s 276us/step - loss: 0.6447 - accuracy: 0.9786 - val_loss: 0.6224 - val_accuracy: 0.9833\n",
      "Epoch 118/200\n",
      "1400/1400 [==============================] - 0s 285us/step - loss: 0.6336 - accuracy: 0.9807 - val_loss: 0.6112 - val_accuracy: 0.9800\n",
      "Epoch 119/200\n",
      "1400/1400 [==============================] - 0s 287us/step - loss: 0.6185 - accuracy: 0.9829 - val_loss: 0.6152 - val_accuracy: 0.9817\n",
      "Epoch 120/200\n",
      "1400/1400 [==============================] - 0s 286us/step - loss: 0.6216 - accuracy: 0.9814 - val_loss: 0.6002 - val_accuracy: 0.9833\n",
      "Epoch 121/200\n",
      "1400/1400 [==============================] - 0s 290us/step - loss: 0.6277 - accuracy: 0.9750 - val_loss: 0.6448 - val_accuracy: 0.9650\n",
      "Epoch 122/200\n",
      "1400/1400 [==============================] - 0s 344us/step - loss: 0.6683 - accuracy: 0.9614 - val_loss: 0.6033 - val_accuracy: 0.9733\n",
      "Epoch 123/200\n",
      "1400/1400 [==============================] - 0s 335us/step - loss: 0.6371 - accuracy: 0.9686 - val_loss: 0.6013 - val_accuracy: 0.9800\n",
      "Epoch 124/200\n",
      "1400/1400 [==============================] - 0s 350us/step - loss: 0.6340 - accuracy: 0.9721 - val_loss: 0.5914 - val_accuracy: 0.9833\n",
      "Epoch 125/200\n",
      "1400/1400 [==============================] - 0s 345us/step - loss: 0.6126 - accuracy: 0.9786 - val_loss: 0.6138 - val_accuracy: 0.9733\n",
      "Epoch 126/200\n",
      "1400/1400 [==============================] - 0s 271us/step - loss: 0.6415 - accuracy: 0.9707 - val_loss: 0.6243 - val_accuracy: 0.9783\n",
      "Epoch 127/200\n",
      "1400/1400 [==============================] - 0s 347us/step - loss: 0.6474 - accuracy: 0.9707 - val_loss: 0.5883 - val_accuracy: 0.9833\n",
      "Epoch 128/200\n",
      "1400/1400 [==============================] - 0s 290us/step - loss: 0.6091 - accuracy: 0.9750 - val_loss: 0.5760 - val_accuracy: 0.9833\n",
      "Epoch 129/200\n",
      "1400/1400 [==============================] - 0s 322us/step - loss: 0.6012 - accuracy: 0.9793 - val_loss: 0.5771 - val_accuracy: 0.9800\n",
      "Epoch 130/200\n",
      "1400/1400 [==============================] - 0s 287us/step - loss: 0.5837 - accuracy: 0.9786 - val_loss: 0.5668 - val_accuracy: 0.9833\n",
      "Epoch 131/200\n",
      "1400/1400 [==============================] - 0s 296us/step - loss: 0.5795 - accuracy: 0.9829 - val_loss: 0.5573 - val_accuracy: 0.9833\n",
      "Epoch 132/200\n",
      "1400/1400 [==============================] - 0s 272us/step - loss: 0.5753 - accuracy: 0.9736 - val_loss: 0.5510 - val_accuracy: 0.9800\n",
      "Epoch 133/200\n",
      "1400/1400 [==============================] - 0s 272us/step - loss: 0.5567 - accuracy: 0.9793 - val_loss: 0.5548 - val_accuracy: 0.9783\n",
      "Epoch 134/200\n",
      "1400/1400 [==============================] - 0s 272us/step - loss: 0.5477 - accuracy: 0.9814 - val_loss: 0.5322 - val_accuracy: 0.9817\n",
      "Epoch 135/200\n",
      "1400/1400 [==============================] - 0s 281us/step - loss: 0.5411 - accuracy: 0.9829 - val_loss: 0.5208 - val_accuracy: 0.9817\n",
      "Epoch 136/200\n",
      "1400/1400 [==============================] - 0s 290us/step - loss: 0.5335 - accuracy: 0.9836 - val_loss: 0.5246 - val_accuracy: 0.9833\n",
      "Epoch 137/200\n",
      "1400/1400 [==============================] - 0s 295us/step - loss: 0.5265 - accuracy: 0.9829 - val_loss: 0.5134 - val_accuracy: 0.9767\n",
      "Epoch 138/200\n",
      "1400/1400 [==============================] - 0s 277us/step - loss: 0.5243 - accuracy: 0.9800 - val_loss: 0.5122 - val_accuracy: 0.9817\n",
      "Epoch 139/200\n",
      "1400/1400 [==============================] - 0s 270us/step - loss: 0.5327 - accuracy: 0.9757 - val_loss: 0.5010 - val_accuracy: 0.9833\n",
      "Epoch 140/200\n",
      "1400/1400 [==============================] - 0s 272us/step - loss: 0.5089 - accuracy: 0.9836 - val_loss: 0.5124 - val_accuracy: 0.9800\n",
      "Epoch 141/200\n",
      "1400/1400 [==============================] - 0s 272us/step - loss: 0.5169 - accuracy: 0.9793 - val_loss: 0.4936 - val_accuracy: 0.9833\n",
      "Epoch 142/200\n",
      "1400/1400 [==============================] - 0s 286us/step - loss: 0.5051 - accuracy: 0.9843 - val_loss: 0.5043 - val_accuracy: 0.9800\n",
      "Epoch 143/200\n",
      "1400/1400 [==============================] - 0s 274us/step - loss: 0.5073 - accuracy: 0.9800 - val_loss: 0.5057 - val_accuracy: 0.9833\n",
      "Epoch 144/200\n",
      "1400/1400 [==============================] - 0s 271us/step - loss: 0.4953 - accuracy: 0.9814 - val_loss: 0.4937 - val_accuracy: 0.9833\n",
      "Epoch 145/200\n",
      "1400/1400 [==============================] - 0s 271us/step - loss: 0.4943 - accuracy: 0.9786 - val_loss: 0.4757 - val_accuracy: 0.9867\n",
      "Epoch 146/200\n",
      "1400/1400 [==============================] - 0s 274us/step - loss: 0.4891 - accuracy: 0.9807 - val_loss: 0.4761 - val_accuracy: 0.9817\n",
      "Epoch 147/200\n",
      "1400/1400 [==============================] - 0s 272us/step - loss: 0.4875 - accuracy: 0.9836 - val_loss: 0.4795 - val_accuracy: 0.9800\n",
      "Epoch 148/200\n",
      "1400/1400 [==============================] - 0s 275us/step - loss: 0.4794 - accuracy: 0.9836 - val_loss: 0.4894 - val_accuracy: 0.9783\n",
      "Epoch 149/200\n",
      "1400/1400 [==============================] - 0s 273us/step - loss: 0.4805 - accuracy: 0.9807 - val_loss: 0.4750 - val_accuracy: 0.9817\n",
      "Epoch 150/200\n",
      "1400/1400 [==============================] - 0s 281us/step - loss: 0.4774 - accuracy: 0.9779 - val_loss: 0.4603 - val_accuracy: 0.9833\n",
      "Epoch 151/200\n",
      "1400/1400 [==============================] - 0s 274us/step - loss: 0.4755 - accuracy: 0.9793 - val_loss: 0.4623 - val_accuracy: 0.9833\n",
      "Epoch 152/200\n",
      "1400/1400 [==============================] - 0s 270us/step - loss: 0.4721 - accuracy: 0.9836 - val_loss: 0.4634 - val_accuracy: 0.9833\n",
      "Epoch 153/200\n",
      "1400/1400 [==============================] - 0s 274us/step - loss: 0.4654 - accuracy: 0.9836 - val_loss: 0.4566 - val_accuracy: 0.9833\n",
      "Epoch 154/200\n",
      "1400/1400 [==============================] - 0s 272us/step - loss: 0.4487 - accuracy: 0.9871 - val_loss: 0.4572 - val_accuracy: 0.9817\n",
      "Epoch 155/200\n",
      "1400/1400 [==============================] - 0s 275us/step - loss: 0.4620 - accuracy: 0.9786 - val_loss: 0.5030 - val_accuracy: 0.9633\n",
      "Epoch 156/200\n",
      "1400/1400 [==============================] - 0s 296us/step - loss: 0.4890 - accuracy: 0.9714 - val_loss: 0.4980 - val_accuracy: 0.9683\n",
      "Epoch 157/200\n",
      "1400/1400 [==============================] - 0s 334us/step - loss: 0.4808 - accuracy: 0.9700 - val_loss: 0.4854 - val_accuracy: 0.9683\n",
      "Epoch 158/200\n",
      "1400/1400 [==============================] - 0s 301us/step - loss: 0.4830 - accuracy: 0.9757 - val_loss: 0.4510 - val_accuracy: 0.9817\n",
      "Epoch 159/200\n",
      "1400/1400 [==============================] - 0s 274us/step - loss: 0.4745 - accuracy: 0.9771 - val_loss: 0.4437 - val_accuracy: 0.9833\n",
      "Epoch 160/200\n",
      "1400/1400 [==============================] - 0s 344us/step - loss: 0.4435 - accuracy: 0.9857 - val_loss: 0.4459 - val_accuracy: 0.9850\n",
      "Epoch 161/200\n",
      "1400/1400 [==============================] - 0s 338us/step - loss: 0.4517 - accuracy: 0.9850 - val_loss: 0.4635 - val_accuracy: 0.9750\n",
      "Epoch 162/200\n",
      "1400/1400 [==============================] - 1s 395us/step - loss: 0.4674 - accuracy: 0.9729 - val_loss: 0.4841 - val_accuracy: 0.9567\n",
      "Epoch 163/200\n",
      "1400/1400 [==============================] - 1s 360us/step - loss: 0.4863 - accuracy: 0.9643 - val_loss: 0.4493 - val_accuracy: 0.9783\n",
      "Epoch 164/200\n",
      "1400/1400 [==============================] - 1s 391us/step - loss: 0.4694 - accuracy: 0.9686 - val_loss: 0.4596 - val_accuracy: 0.9800\n",
      "Epoch 165/200\n",
      "1400/1400 [==============================] - 0s 339us/step - loss: 0.5065 - accuracy: 0.9629 - val_loss: 0.5251 - val_accuracy: 0.9517\n",
      "Epoch 166/200\n",
      "1400/1400 [==============================] - 1s 373us/step - loss: 0.5739 - accuracy: 0.9536 - val_loss: 0.4720 - val_accuracy: 0.9800\n",
      "Epoch 167/200\n"
     ]
    },
    {
     "name": "stdout",
     "output_type": "stream",
     "text": [
      "1400/1400 [==============================] - 0s 312us/step - loss: 0.5139 - accuracy: 0.9693 - val_loss: 0.4732 - val_accuracy: 0.9817\n",
      "Epoch 168/200\n",
      "1400/1400 [==============================] - 0s 313us/step - loss: 0.4936 - accuracy: 0.9786 - val_loss: 0.4805 - val_accuracy: 0.9817\n",
      "Epoch 169/200\n",
      "1400/1400 [==============================] - 0s 296us/step - loss: 0.4976 - accuracy: 0.9764 - val_loss: 0.4622 - val_accuracy: 0.9833\n",
      "Epoch 170/200\n",
      "1400/1400 [==============================] - 0s 281us/step - loss: 0.4754 - accuracy: 0.9786 - val_loss: 0.4526 - val_accuracy: 0.9850\n",
      "Epoch 171/200\n",
      "1400/1400 [==============================] - 0s 288us/step - loss: 0.4649 - accuracy: 0.9807 - val_loss: 0.4447 - val_accuracy: 0.9850\n",
      "Epoch 172/200\n",
      "1400/1400 [==============================] - 1s 383us/step - loss: 0.4544 - accuracy: 0.9807 - val_loss: 0.4363 - val_accuracy: 0.9850\n",
      "Epoch 173/200\n",
      "1400/1400 [==============================] - 1s 465us/step - loss: 0.4428 - accuracy: 0.9857 - val_loss: 0.4256 - val_accuracy: 0.9817\n",
      "Epoch 174/200\n",
      "1400/1400 [==============================] - 1s 445us/step - loss: 0.4339 - accuracy: 0.9800 - val_loss: 0.4157 - val_accuracy: 0.9817\n",
      "Epoch 175/200\n",
      "1400/1400 [==============================] - 1s 455us/step - loss: 0.4259 - accuracy: 0.9829 - val_loss: 0.4042 - val_accuracy: 0.9850\n",
      "Epoch 176/200\n",
      "1400/1400 [==============================] - 1s 385us/step - loss: 0.4056 - accuracy: 0.9871 - val_loss: 0.3978 - val_accuracy: 0.9850\n",
      "Epoch 177/200\n",
      "1400/1400 [==============================] - 0s 313us/step - loss: 0.4061 - accuracy: 0.9814 - val_loss: 0.3942 - val_accuracy: 0.9800\n",
      "Epoch 178/200\n",
      "1400/1400 [==============================] - 0s 301us/step - loss: 0.3996 - accuracy: 0.9821 - val_loss: 0.3871 - val_accuracy: 0.9850\n",
      "Epoch 179/200\n",
      "1400/1400 [==============================] - 0s 290us/step - loss: 0.3854 - accuracy: 0.9871 - val_loss: 0.3831 - val_accuracy: 0.9800\n",
      "Epoch 180/200\n",
      "1400/1400 [==============================] - 0s 288us/step - loss: 0.3804 - accuracy: 0.9857 - val_loss: 0.3750 - val_accuracy: 0.9783\n",
      "Epoch 181/200\n",
      "1400/1400 [==============================] - 0s 348us/step - loss: 0.3728 - accuracy: 0.9864 - val_loss: 0.3684 - val_accuracy: 0.9817\n",
      "Epoch 182/200\n",
      "1400/1400 [==============================] - 1s 367us/step - loss: 0.3679 - accuracy: 0.9879 - val_loss: 0.3685 - val_accuracy: 0.9800\n",
      "Epoch 183/200\n",
      "1400/1400 [==============================] - 0s 343us/step - loss: 0.3689 - accuracy: 0.9843 - val_loss: 0.3761 - val_accuracy: 0.9767\n",
      "Epoch 184/200\n",
      "1400/1400 [==============================] - 0s 291us/step - loss: 0.3714 - accuracy: 0.9850 - val_loss: 0.3620 - val_accuracy: 0.9817\n",
      "Epoch 185/200\n",
      "1400/1400 [==============================] - 1s 389us/step - loss: 0.3641 - accuracy: 0.9850 - val_loss: 0.3586 - val_accuracy: 0.9800\n",
      "Epoch 186/200\n",
      "1400/1400 [==============================] - 0s 318us/step - loss: 0.3649 - accuracy: 0.9871 - val_loss: 0.3686 - val_accuracy: 0.9850\n",
      "Epoch 187/200\n",
      "1400/1400 [==============================] - 0s 333us/step - loss: 0.3695 - accuracy: 0.9836 - val_loss: 0.3968 - val_accuracy: 0.9750\n",
      "Epoch 188/200\n",
      "1400/1400 [==============================] - 0s 330us/step - loss: 0.3757 - accuracy: 0.9821 - val_loss: 0.3881 - val_accuracy: 0.9717\n",
      "Epoch 189/200\n",
      "1400/1400 [==============================] - 0s 313us/step - loss: 0.3875 - accuracy: 0.9750 - val_loss: 0.3741 - val_accuracy: 0.9817\n",
      "Epoch 190/200\n",
      "1400/1400 [==============================] - 0s 306us/step - loss: 0.3934 - accuracy: 0.9757 - val_loss: 0.3825 - val_accuracy: 0.9767\n",
      "Epoch 191/200\n",
      "1400/1400 [==============================] - 0s 321us/step - loss: 0.3881 - accuracy: 0.9843 - val_loss: 0.3932 - val_accuracy: 0.9767\n",
      "Epoch 192/200\n",
      "1400/1400 [==============================] - 1s 413us/step - loss: 0.3897 - accuracy: 0.9786 - val_loss: 0.4010 - val_accuracy: 0.9717\n",
      "Epoch 193/200\n",
      "1400/1400 [==============================] - 1s 424us/step - loss: 0.4004 - accuracy: 0.9779 - val_loss: 0.3802 - val_accuracy: 0.9783\n",
      "Epoch 194/200\n",
      "1400/1400 [==============================] - 0s 349us/step - loss: 0.3947 - accuracy: 0.9771 - val_loss: 0.3669 - val_accuracy: 0.9833\n",
      "Epoch 195/200\n",
      "1400/1400 [==============================] - 0s 331us/step - loss: 0.3794 - accuracy: 0.9807 - val_loss: 0.3751 - val_accuracy: 0.9783\n",
      "Epoch 196/200\n",
      "1400/1400 [==============================] - 0s 346us/step - loss: 0.3731 - accuracy: 0.9850 - val_loss: 0.3710 - val_accuracy: 0.9833\n",
      "Epoch 197/200\n",
      "1400/1400 [==============================] - 0s 294us/step - loss: 0.3774 - accuracy: 0.9821 - val_loss: 0.3691 - val_accuracy: 0.9817\n",
      "Epoch 198/200\n",
      "1400/1400 [==============================] - 0s 295us/step - loss: 0.3716 - accuracy: 0.9807 - val_loss: 0.3782 - val_accuracy: 0.9750\n",
      "Epoch 199/200\n",
      "1400/1400 [==============================] - 0s 284us/step - loss: 0.3642 - accuracy: 0.9807 - val_loss: 0.3562 - val_accuracy: 0.9817\n",
      "Epoch 200/200\n",
      "1400/1400 [==============================] - 0s 338us/step - loss: 0.3554 - accuracy: 0.9843 - val_loss: 0.3665 - val_accuracy: 0.9800\n"
     ]
    }
   ],
   "source": [
    "# fit model\n",
    "history = model_lstm_adm.fit(trainX, trainy, validation_data=(testX, testy), epochs=200, verbose=1, callbacks=[es, mc],batch_size=1024)\n",
    "\n"
   ]
  },
  {
   "cell_type": "code",
   "execution_count": 99,
   "metadata": {},
   "outputs": [],
   "source": [
    "# load the saved model\n",
    "#saved_model = load_model('best_model_lstm_reg.h5')\n",
    "saved_model = model_lstm_adm"
   ]
  },
  {
   "cell_type": "code",
   "execution_count": 100,
   "metadata": {},
   "outputs": [
    {
     "name": "stdout",
     "output_type": "stream",
     "text": [
      "Train: 0.984, Test: 0.980\n"
     ]
    }
   ],
   "source": [
    "# evaluate the model\n",
    "_, train_acc = saved_model.evaluate(trainX, trainy, verbose=0)\n",
    "_, test_acc = saved_model.evaluate(testX, testy, verbose=0)\n",
    "print('Train: %.3f, Test: %.3f' % (train_acc, test_acc))\n",
    "\n"
   ]
  },
  {
   "cell_type": "code",
   "execution_count": 101,
   "metadata": {},
   "outputs": [
    {
     "data": {
      "image/png": "[encoded data removed]",
      "text/plain": [
       "<Figure size 432x288 with 1 Axes>"
      ]
     },
     "metadata": {
      "needs_background": "light"
     },
     "output_type": "display_data"
    }
   ],
   "source": [
    "# plot training history\n",
    "pyplot.plot(history.history['loss'], label='train')\n",
    "pyplot.plot(history.history['val_loss'], label='test')\n",
    "pyplot.legend()\n",
    "pyplot.show()"
   ]
  },
  {
   "cell_type": "code",
   "execution_count": 102,
   "metadata": {},
   "outputs": [
    {
     "name": "stdout",
     "output_type": "stream",
     "text": [
      "[[343   0   0   0]\n",
      " [  0 343   6   0]\n",
      " [  0  14 332   1]\n",
      " [  1   0   1 359]]\n",
      "0.9835714285714285\n",
      "[[156   0   1   0]\n",
      " [  0 149   2   0]\n",
      " [  1   6 145   1]\n",
      " [  1   0   0 138]]\n",
      "0.98\n"
     ]
    }
   ],
   "source": [
    "#confusion Matrix\n",
    "train_predicted=saved_model.predict(trainX)\n",
    "test_predicted=saved_model.predict(testX)\n",
    "\n",
    "#Confusion Matrix for Training\n",
    "from sklearn import metrics\n",
    "confusion = metrics.confusion_matrix(trainy.argmax(axis=1), train_predicted.argmax(axis=1))\n",
    "print(confusion)\n",
    "\n",
    "# Let's check the overall accuracy.\n",
    "print(metrics.accuracy_score(trainy.argmax(axis=1), train_predicted.argmax(axis=1)))\n",
    "\n",
    "#Confusion Matrix for Testing\n",
    "from sklearn import metrics\n",
    "confusion1 = metrics.confusion_matrix(testy.argmax(axis=1), test_predicted.argmax(axis=1))\n",
    "print(confusion1)\n",
    "\n",
    "# Let's check the overall accuracy.\n",
    "print(metrics.accuracy_score(testy.argmax(axis=1), test_predicted.argmax(axis=1)))"
   ]
  },
  {
   "cell_type": "code",
   "execution_count": 103,
   "metadata": {},
   "outputs": [
    {
     "name": "stdout",
     "output_type": "stream",
     "text": [
      "[0.99363057 0.98675497 0.94771242 0.99280576]\n",
      "[0.99548533 0.98663697 0.99328859 0.9978308 ]\n",
      "[0.995      0.98666667 0.98166667 0.99666667]\n"
     ]
    }
   ],
   "source": [
    "FP = confusion1.sum(axis=0) - np.diag(confusion1)  \n",
    "FN = confusion1.sum(axis=1) - np.diag(confusion1)\n",
    "TP = np.diag(confusion1)\n",
    "TN = confusion1.sum() - (FP + FN + TP)\n",
    "\n",
    "FP = FP.astype(float)\n",
    "FN = FN.astype(float)\n",
    "TP = TP.astype(float)\n",
    "TN = TN.astype(float)\n",
    "\n",
    "# Sensitivity, hit rate, recall, or true positive rate\n",
    "TPR = TP/(TP+FN)\n",
    "print(TPR)\n",
    "# Specificity or true negative rate\n",
    "TNR = TN/(TN+FP) \n",
    "print(TNR)\n",
    "# Precision or positive predictive value\n",
    "PPV = TP/(TP+FP)\n",
    "# Negative predictive value\n",
    "NPV = TN/(TN+FN)\n",
    "# Fall out or false positive rate\n",
    "FPR = FP/(FP+TN)\n",
    "# False negative rate\n",
    "FNR = FN/(TP+FN)\n",
    "# False discovery rate\n",
    "FDR = FP/(TP+FP)\n",
    "# Overall accuracy\n",
    "ACC = (TP+TN)/(TP+FP+FN+TN)\n",
    "print(ACC)"
   ]
  },
  {
   "cell_type": "code",
   "execution_count": 67,
   "metadata": {},
   "outputs": [],
   "source": [
    "#################################################################################################################################\n",
    "#################################################################################################################################\n",
    "#################################################################################################################################"
   ]
  },
  {
   "cell_type": "markdown",
   "metadata": {},
   "source": [
    "# Convolutional Neural Network"
   ]
  },
  {
   "cell_type": "code",
   "execution_count": 68,
   "metadata": {},
   "outputs": [],
   "source": [
    "import numpy as np\n",
    "import pandas as pd\n",
    "from keras.models import Sequential\n",
    "from keras.layers import Dense\n",
    "from keras.wrappers.scikit_learn import KerasClassifier\n",
    "from keras.utils import np_utils\n",
    "from sklearn.model_selection import cross_val_score\n",
    "from sklearn.model_selection import KFold\n",
    "from sklearn.preprocessing import LabelEncoder\n",
    "from sklearn.pipeline import Pipeline\n",
    "from keras.callbacks import EarlyStopping\n",
    "from keras.callbacks import ModelCheckpoint\n",
    "from matplotlib import pyplot\n",
    "from keras.models import load_model\n",
    "from sklearn.datasets import make_moons\n",
    "from keras.layers import Dropout\n",
    "from keras.layers import LSTM\n",
    "from keras.layers import Flatten\n",
    "from keras.layers.convolutional import Conv1D\n",
    "from keras.layers.convolutional import MaxPooling1D"
   ]
  },
  {
   "cell_type": "code",
   "execution_count": 69,
   "metadata": {},
   "outputs": [],
   "source": [
    "#split Training and Testing\n",
    "from sklearn.model_selection import train_test_split\n",
    "\n",
    "# We specify this so that the train and test data set always have the same rows, respectively\n",
    "np.random.seed(0)\n",
    "\n",
    "X , y = dataframe1.loc[:, dataframe1.columns != 'Room'] ,dataframe1.loc[:, dataframe1.columns == 'Room']\n",
    "trainX, testX, trainy, testy = train_test_split(X, y, random_state = 0,train_size = 0.7, test_size = 0.3)\n"
   ]
  },
  {
   "cell_type": "code",
   "execution_count": 70,
   "metadata": {},
   "outputs": [],
   "source": [
    "ln=len(trainX.columns)"
   ]
  },
  {
   "cell_type": "code",
   "execution_count": 71,
   "metadata": {},
   "outputs": [],
   "source": [
    "trainX=np.array(trainX)\n",
    "trainy=np.array(trainy)\n",
    "testy=np.array(testy)\n",
    "testX=np.array(testX)\n"
   ]
  },
  {
   "cell_type": "code",
   "execution_count": 72,
   "metadata": {},
   "outputs": [
    {
     "name": "stdout",
     "output_type": "stream",
     "text": [
      "(1400, 7)\n"
     ]
    }
   ],
   "source": [
    "print(trainX.shape)"
   ]
  },
  {
   "cell_type": "code",
   "execution_count": 73,
   "metadata": {},
   "outputs": [
    {
     "name": "stdout",
     "output_type": "stream",
     "text": [
      "(600, 7)\n"
     ]
    }
   ],
   "source": [
    "print(testX.shape)"
   ]
  },
  {
   "cell_type": "code",
   "execution_count": 74,
   "metadata": {},
   "outputs": [
    {
     "name": "stdout",
     "output_type": "stream",
     "text": [
      "(1400, 7, 1)\n",
      "(1400, 1)\n"
     ]
    }
   ],
   "source": [
    "trainX = trainX.reshape(len(trainX),ln,1)\n",
    "testX = testX.reshape(len(testX),ln,1)\n",
    "trainy = trainy.reshape(len(trainy),1)\n",
    "testy = testy.reshape(len(testy),1)\n",
    "print(trainX.shape)\n",
    "print(trainy.shape)"
   ]
  },
  {
   "cell_type": "code",
   "execution_count": 75,
   "metadata": {},
   "outputs": [
    {
     "name": "stderr",
     "output_type": "stream",
     "text": [
      "C:\\Users\\ved deo\\Anaconda3\\envs\\deep\\lib\\site-packages\\sklearn\\preprocessing\\_label.py:235: DataConversionWarning: A column-vector y was passed when a 1d array was expected. Please change the shape of y to (n_samples, ), for example using ravel().\n",
      "  y = column_or_1d(y, warn=True)\n",
      "C:\\Users\\ved deo\\Anaconda3\\envs\\deep\\lib\\site-packages\\sklearn\\preprocessing\\_label.py:268: DataConversionWarning: A column-vector y was passed when a 1d array was expected. Please change the shape of y to (n_samples, ), for example using ravel().\n",
      "  y = column_or_1d(y, warn=True)\n"
     ]
    }
   ],
   "source": [
    "# encode class values as integers\n",
    "encoder = LabelEncoder()\n",
    "encoder.fit(trainy)\n",
    "trainy = encoder.transform(trainy)\n",
    "# convert integers to dummy variables (i.e. one hot encoded)\n",
    "trainy = np_utils.to_categorical(trainy)"
   ]
  },
  {
   "cell_type": "code",
   "execution_count": 76,
   "metadata": {},
   "outputs": [],
   "source": [
    "# encode class values as integers\n",
    "encoder = LabelEncoder()\n",
    "encoder.fit(testy)\n",
    "testy = encoder.transform(testy)\n",
    "# convert integers to dummy variables (i.e. one hot encoded)\n",
    "testy = np_utils.to_categorical(testy)"
   ]
  },
  {
   "cell_type": "code",
   "execution_count": 77,
   "metadata": {},
   "outputs": [],
   "source": [
    "# define model\n",
    "model_cnn=Sequential()\n",
    "model_cnn.add(Conv1D(filters=32, kernel_size=3, padding='same', activation='relu'))\n",
    "model_cnn.add(MaxPooling1D(pool_size=2))\n",
    "model_cnn.add(Flatten())\n",
    "model_cnn.add(Dense(250, activation='relu'))\n",
    "model_cnn.add(Dense(4, activation='softmax'))"
   ]
  },
  {
   "cell_type": "code",
   "execution_count": 78,
   "metadata": {},
   "outputs": [],
   "source": [
    "#compile model with SGD\n",
    "from keras.optimizers import SGD\n",
    "sgd = SGD(lr=0.1, momentum=0.9, decay=0.0, nesterov=False)\n",
    "model_cnn.compile(loss='categorical_crossentropy', optimizer=sgd, metrics=['accuracy'])"
   ]
  },
  {
   "cell_type": "code",
   "execution_count": 79,
   "metadata": {},
   "outputs": [],
   "source": [
    "# simple early stopping\n",
    "es = EarlyStopping(monitor='val_loss', mode='min', verbose=1, patience=15)\n",
    "mc = ModelCheckpoint('best_model_cnn.h5', monitor='val_acc', mode='max', verbose=1, save_best_only=True)\n"
   ]
  },
  {
   "cell_type": "code",
   "execution_count": 80,
   "metadata": {},
   "outputs": [
    {
     "name": "stdout",
     "output_type": "stream",
     "text": [
      "Train on 1400 samples, validate on 600 samples\n",
      "Epoch 1/200\n",
      "1400/1400 [==============================] - 0s 293us/step - loss: 223.2135 - accuracy: 0.2450 - val_loss: 1.3977 - val_accuracy: 0.2317\n",
      "Epoch 2/200\n",
      " 800/1400 [================>.............] - ETA: 0s - loss: 1.3908 - accuracy: 0.2375"
     ]
    },
    {
     "name": "stderr",
     "output_type": "stream",
     "text": [
      "C:\\Users\\ved deo\\Anaconda3\\envs\\deep\\lib\\site-packages\\keras\\callbacks\\callbacks.py:707: RuntimeWarning: Can save best model only with val_acc available, skipping.\n",
      "  'skipping.' % (self.monitor), RuntimeWarning)\n"
     ]
    },
    {
     "name": "stdout",
     "output_type": "stream",
     "text": [
      "1400/1400 [==============================] - 0s 137us/step - loss: 1.3895 - accuracy: 0.2464 - val_loss: 1.3971 - val_accuracy: 0.2517\n",
      "Epoch 3/200\n",
      "1400/1400 [==============================] - 0s 98us/step - loss: 1.3970 - accuracy: 0.2614 - val_loss: 1.4038 - val_accuracy: 0.2317\n",
      "Epoch 4/200\n",
      "1400/1400 [==============================] - 0s 120us/step - loss: 1.3878 - accuracy: 0.2771 - val_loss: 1.3895 - val_accuracy: 0.2617\n",
      "Epoch 5/200\n",
      "1400/1400 [==============================] - 0s 214us/step - loss: 1.3924 - accuracy: 0.2357 - val_loss: 1.3968 - val_accuracy: 0.2317\n",
      "Epoch 6/200\n",
      "1400/1400 [==============================] - 0s 239us/step - loss: 1.3912 - accuracy: 0.2464 - val_loss: 1.3926 - val_accuracy: 0.2550\n",
      "Epoch 7/200\n",
      "1400/1400 [==============================] - 0s 156us/step - loss: 1.3937 - accuracy: 0.2393 - val_loss: 1.3932 - val_accuracy: 0.2550\n",
      "Epoch 8/200\n",
      "1400/1400 [==============================] - 0s 82us/step - loss: 1.3919 - accuracy: 0.2493 - val_loss: 1.3862 - val_accuracy: 0.2550\n",
      "Epoch 9/200\n",
      "1400/1400 [==============================] - 0s 76us/step - loss: 1.3906 - accuracy: 0.2621 - val_loss: 1.3940 - val_accuracy: 0.2317\n",
      "Epoch 10/200\n",
      "1400/1400 [==============================] - 0s 68us/step - loss: 1.3914 - accuracy: 0.2493 - val_loss: 1.3858 - val_accuracy: 0.2617\n",
      "Epoch 11/200\n",
      "1400/1400 [==============================] - 0s 72us/step - loss: 1.3879 - accuracy: 0.2514 - val_loss: 1.3945 - val_accuracy: 0.2317\n",
      "Epoch 12/200\n",
      "1400/1400 [==============================] - 0s 100us/step - loss: 1.3897 - accuracy: 0.2464 - val_loss: 1.3973 - val_accuracy: 0.2617\n",
      "Epoch 13/200\n",
      "1400/1400 [==============================] - 0s 76us/step - loss: 1.3933 - accuracy: 0.2486 - val_loss: 1.3961 - val_accuracy: 0.2617\n",
      "Epoch 14/200\n",
      "1400/1400 [==============================] - 0s 86us/step - loss: 1.3923 - accuracy: 0.2329 - val_loss: 1.3920 - val_accuracy: 0.2617\n",
      "Epoch 15/200\n",
      "1400/1400 [==============================] - 0s 80us/step - loss: 1.3964 - accuracy: 0.2364 - val_loss: 1.3891 - val_accuracy: 0.2517\n",
      "Epoch 16/200\n",
      "1400/1400 [==============================] - 0s 95us/step - loss: 1.3939 - accuracy: 0.2486 - val_loss: 1.3938 - val_accuracy: 0.2517\n",
      "Epoch 17/200\n",
      "1400/1400 [==============================] - 0s 68us/step - loss: 1.3934 - accuracy: 0.2457 - val_loss: 1.3876 - val_accuracy: 0.2517\n",
      "Epoch 18/200\n",
      "1400/1400 [==============================] - 0s 85us/step - loss: 1.3937 - accuracy: 0.2421 - val_loss: 1.3965 - val_accuracy: 0.2317\n",
      "Epoch 19/200\n",
      "1400/1400 [==============================] - 0s 84us/step - loss: 1.3931 - accuracy: 0.2414 - val_loss: 1.3908 - val_accuracy: 0.2550\n",
      "Epoch 20/200\n",
      "1400/1400 [==============================] - 0s 80us/step - loss: 1.3995 - accuracy: 0.2450 - val_loss: 1.3861 - val_accuracy: 0.2550\n",
      "Epoch 21/200\n",
      "1400/1400 [==============================] - 0s 79us/step - loss: 1.3912 - accuracy: 0.2507 - val_loss: 1.3874 - val_accuracy: 0.2617\n",
      "Epoch 22/200\n",
      "1400/1400 [==============================] - 0s 83us/step - loss: 1.3937 - accuracy: 0.2393 - val_loss: 1.3989 - val_accuracy: 0.2317\n",
      "Epoch 23/200\n",
      "1400/1400 [==============================] - 0s 66us/step - loss: 1.3909 - accuracy: 0.2564 - val_loss: 1.3992 - val_accuracy: 0.2317\n",
      "Epoch 24/200\n",
      "1400/1400 [==============================] - 0s 67us/step - loss: 1.3915 - accuracy: 0.2593 - val_loss: 1.3970 - val_accuracy: 0.2317\n",
      "Epoch 25/200\n",
      "1400/1400 [==============================] - 0s 66us/step - loss: 1.3908 - accuracy: 0.2479 - val_loss: 1.3886 - val_accuracy: 0.2517\n",
      "Epoch 00025: early stopping\n"
     ]
    }
   ],
   "source": [
    "# fit model\n",
    "history = model_cnn.fit(trainX, trainy, validation_data=(testX, testy), epochs=200, verbose=1, callbacks=[es, mc])\n",
    "\n"
   ]
  },
  {
   "cell_type": "code",
   "execution_count": 81,
   "metadata": {},
   "outputs": [],
   "source": [
    "# load the saved model\n",
    "#saved_model = load_model('best_model_cnn.h5')\n",
    "saved_model = model_cnn"
   ]
  },
  {
   "cell_type": "code",
   "execution_count": 82,
   "metadata": {},
   "outputs": [
    {
     "name": "stdout",
     "output_type": "stream",
     "text": [
      "Train: 0.249, Test: 0.252\n"
     ]
    }
   ],
   "source": [
    "# evaluate the model\n",
    "_, train_acc = saved_model.evaluate(trainX, trainy, verbose=0)\n",
    "_, test_acc = saved_model.evaluate(testX, testy, verbose=0)\n",
    "print('Train: %.3f, Test: %.3f' % (train_acc, test_acc))\n"
   ]
  },
  {
   "cell_type": "code",
   "execution_count": 83,
   "metadata": {},
   "outputs": [
    {
     "data": {
      "image/png": "[encoded data removed]",
      "text/plain": [
       "<Figure size 432x288 with 1 Axes>"
      ]
     },
     "metadata": {
      "needs_background": "light"
     },
     "output_type": "display_data"
    }
   ],
   "source": [
    "# plot training history\n",
    "pyplot.plot(history.history['loss'], label='train')\n",
    "pyplot.plot(history.history['val_loss'], label='test')\n",
    "pyplot.legend()\n",
    "pyplot.show()"
   ]
  },
  {
   "cell_type": "code",
   "execution_count": 84,
   "metadata": {},
   "outputs": [
    {
     "name": "stdout",
     "output_type": "stream",
     "text": [
      "[[  0 343   0   0]\n",
      " [  0 349   0   0]\n",
      " [  0 347   0   0]\n",
      " [  0 361   0   0]]\n",
      "0.24928571428571428\n",
      "[[  0 157   0   0]\n",
      " [  0 151   0   0]\n",
      " [  0 153   0   0]\n",
      " [  0 139   0   0]]\n",
      "0.25166666666666665\n"
     ]
    }
   ],
   "source": [
    "#Confusion Matrix\n",
    "train_predicted=saved_model.predict(trainX)\n",
    "test_predicted=saved_model.predict(testX)\n",
    "\n",
    "#Confusion Matrix for Training\n",
    "from sklearn import metrics\n",
    "confusion = metrics.confusion_matrix(trainy.argmax(axis=1), train_predicted.argmax(axis=1))\n",
    "print(confusion)\n",
    "\n",
    "# Let's check the overall accuracy.\n",
    "print(metrics.accuracy_score(trainy.argmax(axis=1), train_predicted.argmax(axis=1)))\n",
    "\n",
    "#Confusion Matrix for Testing\n",
    "from sklearn import metrics\n",
    "confusion1 = metrics.confusion_matrix(testy.argmax(axis=1), test_predicted.argmax(axis=1))\n",
    "print(confusion1)\n",
    "\n",
    "# Let's check the overall accuracy.\n",
    "print(metrics.accuracy_score(testy.argmax(axis=1), test_predicted.argmax(axis=1)))"
   ]
  },
  {
   "cell_type": "code",
   "execution_count": 85,
   "metadata": {},
   "outputs": [
    {
     "name": "stdout",
     "output_type": "stream",
     "text": [
      "[0. 1. 0. 0.]\n",
      "[1. 0. 1. 1.]\n",
      "[0.73833333 0.25166667 0.745      0.76833333]\n"
     ]
    },
    {
     "name": "stderr",
     "output_type": "stream",
     "text": [
      "C:\\Users\\ved deo\\AppData\\Roaming\\Python\\Python37\\site-packages\\ipykernel_launcher.py:18: RuntimeWarning: invalid value encountered in true_divide\n",
      "C:\\Users\\ved deo\\AppData\\Roaming\\Python\\Python37\\site-packages\\ipykernel_launcher.py:20: RuntimeWarning: invalid value encountered in true_divide\n",
      "C:\\Users\\ved deo\\AppData\\Roaming\\Python\\Python37\\site-packages\\ipykernel_launcher.py:26: RuntimeWarning: invalid value encountered in true_divide\n"
     ]
    }
   ],
   "source": [
    "FP = confusion1.sum(axis=0) - np.diag(confusion1)  \n",
    "FN = confusion1.sum(axis=1) - np.diag(confusion1)\n",
    "TP = np.diag(confusion1)\n",
    "TN = confusion1.sum() - (FP + FN + TP)\n",
    "\n",
    "FP = FP.astype(float)\n",
    "FN = FN.astype(float)\n",
    "TP = TP.astype(float)\n",
    "TN = TN.astype(float)\n",
    "\n",
    "# Sensitivity, hit rate, recall, or true positive rate\n",
    "TPR = TP/(TP+FN)\n",
    "print(TPR)\n",
    "# Specificity or true negative rate\n",
    "TNR = TN/(TN+FP) \n",
    "print(TNR)\n",
    "# Precision or positive predictive value\n",
    "PPV = TP/(TP+FP)\n",
    "# Negative predictive value\n",
    "NPV = TN/(TN+FN)\n",
    "# Fall out or false positive rate\n",
    "FPR = FP/(FP+TN)\n",
    "# False negative rate\n",
    "FNR = FN/(TP+FN)\n",
    "# False discovery rate\n",
    "FDR = FP/(TP+FP)\n",
    "# Overall accuracy\n",
    "ACC = (TP+TN)/(TP+FP+FN+TN)\n",
    "print(ACC)"
   ]
  },
  {
   "cell_type": "markdown",
   "metadata": {},
   "source": [
    "## With Regularization Parameter + Drop Out + ADAM"
   ]
  },
  {
   "cell_type": "code",
   "execution_count": 86,
   "metadata": {},
   "outputs": [],
   "source": [
    "# define model\n",
    "model_cnn_adm=Sequential()\n",
    "model_cnn_adm.add(Conv1D(filters=32, kernel_size=3, padding='same', activation='relu',kernel_regularizer=regularizers.l1(0.05)))\n",
    "model_cnn_adm.add(MaxPooling1D(pool_size=2))\n",
    "model_cnn_adm.add(Flatten())\n",
    "model_cnn_adm.add(Dropout(0.6, noise_shape=None, seed=None))\n",
    "model_cnn_adm.add(Dense(250, activation='relu'))\n",
    "model_cnn_adm.add(Dense(4, activation='softmax'))"
   ]
  },
  {
   "cell_type": "code",
   "execution_count": 87,
   "metadata": {},
   "outputs": [],
   "source": [
    "# Compiling Model\n",
    "model_cnn_adm.compile(loss='categorical_crossentropy', optimizer='adam', metrics=['accuracy'])"
   ]
  },
  {
   "cell_type": "code",
   "execution_count": 88,
   "metadata": {},
   "outputs": [],
   "source": [
    "# simple early stopping\n",
    "es = EarlyStopping(monitor='val_loss', mode='min', verbose=1, patience=15)\n",
    "mc = ModelCheckpoint('best_model_cnn_reg.h5', monitor='val_acc', mode='max', verbose=1, save_best_only=True)\n"
   ]
  },
  {
   "cell_type": "code",
   "execution_count": 89,
   "metadata": {},
   "outputs": [
    {
     "name": "stdout",
     "output_type": "stream",
     "text": [
      "WARNING:tensorflow:Large dropout rate: 0.6 (>0.5). In TensorFlow 2.x, dropout() uses dropout rate instead of keep_prob. Please ensure that this is intended.\n",
      "Train on 1400 samples, validate on 600 samples\n",
      "Epoch 1/200\n",
      "1400/1400 [==============================] - 0s 190us/step - loss: 18.6344 - accuracy: 0.2436 - val_loss: 8.0984 - val_accuracy: 0.2667\n",
      "Epoch 2/200\n",
      "1400/1400 [==============================] - 0s 11us/step - loss: 10.3391 - accuracy: 0.2764 - val_loss: 5.1312 - val_accuracy: 0.2517\n",
      "Epoch 3/200\n",
      "1400/1400 [==============================] - 0s 12us/step - loss: 7.4939 - accuracy: 0.2571 - val_loss: 4.6295 - val_accuracy: 0.2450\n",
      "Epoch 4/200\n",
      "1400/1400 [==============================] - 0s 11us/step - loss: 7.0890 - accuracy: 0.2743 - val_loss: 5.4903 - val_accuracy: 0.2317\n",
      "Epoch 5/200\n",
      "1400/1400 [==============================] - 0s 11us/step - loss: 7.3386 - accuracy: 0.2707 - val_loss: 4.6145 - val_accuracy: 0.2333\n",
      "Epoch 6/200\n",
      "1400/1400 [==============================] - 0s 12us/step - loss: 6.3124 - accuracy: 0.3071 - val_loss: 3.2699 - val_accuracy: 0.2967\n",
      "Epoch 7/200\n",
      "1400/1400 [==============================] - 0s 11us/step - loss: 5.0890 - accuracy: 0.3529 - val_loss: 2.3267 - val_accuracy: 0.4800\n",
      "Epoch 8/200\n",
      "1400/1400 [==============================] - 0s 11us/step - loss: 3.7739 - accuracy: 0.3743 - val_loss: 1.9761 - val_accuracy: 0.5800\n",
      "Epoch 9/200\n",
      "1400/1400 [==============================] - 0s 12us/step - loss: 3.3965 - accuracy: 0.4057 - val_loss: 2.0111 - val_accuracy: 0.7300\n",
      "Epoch 10/200\n",
      "1024/1400 [====================>.........] - ETA: 0s - loss: 3.4621 - accuracy: 0.4355"
     ]
    },
    {
     "name": "stderr",
     "output_type": "stream",
     "text": [
      "C:\\Users\\ved deo\\Anaconda3\\envs\\deep\\lib\\site-packages\\keras\\callbacks\\callbacks.py:707: RuntimeWarning: Can save best model only with val_acc available, skipping.\n",
      "  'skipping.' % (self.monitor), RuntimeWarning)\n"
     ]
    },
    {
     "name": "stdout",
     "output_type": "stream",
     "text": [
      "1400/1400 [==============================] - 0s 24us/step - loss: 3.4540 - accuracy: 0.4257 - val_loss: 2.0071 - val_accuracy: 0.7100\n",
      "Epoch 11/200\n",
      "1400/1400 [==============================] - 0s 33us/step - loss: 3.3742 - accuracy: 0.4421 - val_loss: 1.6897 - val_accuracy: 0.7383\n",
      "Epoch 12/200\n",
      "1400/1400 [==============================] - 0s 14us/step - loss: 2.6629 - accuracy: 0.4664 - val_loss: 1.3618 - val_accuracy: 0.7433\n",
      "Epoch 13/200\n",
      "1400/1400 [==============================] - 0s 13us/step - loss: 2.3090 - accuracy: 0.5114 - val_loss: 1.3399 - val_accuracy: 0.6433\n",
      "Epoch 14/200\n",
      "1400/1400 [==============================] - 0s 18us/step - loss: 2.3036 - accuracy: 0.5021 - val_loss: 1.4855 - val_accuracy: 0.4950\n",
      "Epoch 15/200\n",
      "1400/1400 [==============================] - 0s 17us/step - loss: 2.2576 - accuracy: 0.5207 - val_loss: 1.5625 - val_accuracy: 0.5050\n",
      "Epoch 16/200\n",
      "1400/1400 [==============================] - 0s 16us/step - loss: 2.1263 - accuracy: 0.5393 - val_loss: 1.5377 - val_accuracy: 0.5683\n",
      "Epoch 17/200\n",
      "1400/1400 [==============================] - 0s 25us/step - loss: 1.8655 - accuracy: 0.5807 - val_loss: 1.3948 - val_accuracy: 0.7050\n",
      "Epoch 18/200\n",
      "1400/1400 [==============================] - 0s 21us/step - loss: 1.7909 - accuracy: 0.5929 - val_loss: 1.2653 - val_accuracy: 0.7433\n",
      "Epoch 19/200\n",
      "1400/1400 [==============================] - 0s 16us/step - loss: 1.7005 - accuracy: 0.6150 - val_loss: 1.1849 - val_accuracy: 0.7433\n",
      "Epoch 20/200\n",
      "1400/1400 [==============================] - 0s 17us/step - loss: 1.6431 - accuracy: 0.6186 - val_loss: 1.0982 - val_accuracy: 0.7433\n",
      "Epoch 21/200\n",
      "1400/1400 [==============================] - 0s 32us/step - loss: 1.6349 - accuracy: 0.6043 - val_loss: 1.0492 - val_accuracy: 0.7500\n",
      "Epoch 22/200\n",
      "1400/1400 [==============================] - 0s 16us/step - loss: 1.4547 - accuracy: 0.6500 - val_loss: 1.0805 - val_accuracy: 0.7450\n",
      "Epoch 23/200\n",
      "1400/1400 [==============================] - 0s 12us/step - loss: 1.4486 - accuracy: 0.6607 - val_loss: 1.1602 - val_accuracy: 0.7167\n",
      "Epoch 24/200\n",
      "1400/1400 [==============================] - 0s 11us/step - loss: 1.3711 - accuracy: 0.6764 - val_loss: 1.1959 - val_accuracy: 0.7083\n",
      "Epoch 25/200\n",
      "1400/1400 [==============================] - 0s 15us/step - loss: 1.4209 - accuracy: 0.6507 - val_loss: 1.1264 - val_accuracy: 0.7267\n",
      "Epoch 26/200\n",
      "1400/1400 [==============================] - 0s 21us/step - loss: 1.3315 - accuracy: 0.6886 - val_loss: 1.0165 - val_accuracy: 0.7500\n",
      "Epoch 27/200\n",
      "1400/1400 [==============================] - 0s 18us/step - loss: 1.2973 - accuracy: 0.6971 - val_loss: 0.9519 - val_accuracy: 0.7783\n",
      "Epoch 28/200\n",
      "1400/1400 [==============================] - 0s 27us/step - loss: 1.2373 - accuracy: 0.7093 - val_loss: 0.9523 - val_accuracy: 0.7767\n",
      "Epoch 29/200\n",
      "1400/1400 [==============================] - 0s 13us/step - loss: 1.2532 - accuracy: 0.7193 - val_loss: 0.9933 - val_accuracy: 0.7500\n",
      "Epoch 30/200\n",
      "1400/1400 [==============================] - 0s 12us/step - loss: 1.1691 - accuracy: 0.7343 - val_loss: 1.0458 - val_accuracy: 0.7400\n",
      "Epoch 31/200\n",
      "1400/1400 [==============================] - 0s 31us/step - loss: 1.1961 - accuracy: 0.7193 - val_loss: 1.0888 - val_accuracy: 0.7333\n",
      "Epoch 32/200\n",
      "1400/1400 [==============================] - 0s 15us/step - loss: 1.1320 - accuracy: 0.7443 - val_loss: 1.0801 - val_accuracy: 0.7233\n",
      "Epoch 33/200\n",
      "1400/1400 [==============================] - 0s 12us/step - loss: 1.1363 - accuracy: 0.7386 - val_loss: 1.0244 - val_accuracy: 0.7367\n",
      "Epoch 34/200\n",
      "1400/1400 [==============================] - 0s 13us/step - loss: 1.0784 - accuracy: 0.7571 - val_loss: 0.9604 - val_accuracy: 0.7683\n",
      "Epoch 35/200\n",
      "1400/1400 [==============================] - 0s 24us/step - loss: 1.0864 - accuracy: 0.7593 - val_loss: 0.9443 - val_accuracy: 0.7783\n",
      "Epoch 36/200\n",
      "1400/1400 [==============================] - 0s 12us/step - loss: 1.0719 - accuracy: 0.7571 - val_loss: 0.9631 - val_accuracy: 0.7550\n",
      "Epoch 37/200\n",
      "1400/1400 [==============================] - 0s 14us/step - loss: 1.0653 - accuracy: 0.7714 - val_loss: 0.9828 - val_accuracy: 0.7500\n",
      "Epoch 38/200\n",
      "1400/1400 [==============================] - 0s 16us/step - loss: 1.0607 - accuracy: 0.7593 - val_loss: 0.9975 - val_accuracy: 0.7433\n",
      "Epoch 39/200\n",
      "1400/1400 [==============================] - 0s 30us/step - loss: 1.0373 - accuracy: 0.7736 - val_loss: 1.0031 - val_accuracy: 0.7417\n",
      "Epoch 40/200\n",
      "1400/1400 [==============================] - 0s 43us/step - loss: 1.0131 - accuracy: 0.7814 - val_loss: 1.0050 - val_accuracy: 0.7417\n",
      "Epoch 41/200\n",
      "1400/1400 [==============================] - 0s 16us/step - loss: 0.9968 - accuracy: 0.7807 - val_loss: 0.9870 - val_accuracy: 0.7433\n",
      "Epoch 42/200\n",
      "1400/1400 [==============================] - 0s 28us/step - loss: 1.0357 - accuracy: 0.7593 - val_loss: 0.9676 - val_accuracy: 0.7467\n",
      "Epoch 43/200\n",
      "1400/1400 [==============================] - 0s 21us/step - loss: 0.9912 - accuracy: 0.7921 - val_loss: 0.9455 - val_accuracy: 0.7583\n",
      "Epoch 44/200\n",
      "1400/1400 [==============================] - 0s 16us/step - loss: 1.0105 - accuracy: 0.7700 - val_loss: 0.9231 - val_accuracy: 0.7783\n",
      "Epoch 45/200\n",
      "1400/1400 [==============================] - 0s 24us/step - loss: 0.9965 - accuracy: 0.7786 - val_loss: 0.9302 - val_accuracy: 0.7667\n",
      "Epoch 46/200\n",
      "1400/1400 [==============================] - 0s 19us/step - loss: 0.9494 - accuracy: 0.8093 - val_loss: 0.9652 - val_accuracy: 0.7483\n",
      "Epoch 47/200\n",
      "1400/1400 [==============================] - 0s 47us/step - loss: 0.9561 - accuracy: 0.7886 - val_loss: 0.9860 - val_accuracy: 0.7417\n",
      "Epoch 48/200\n",
      "1400/1400 [==============================] - 0s 14us/step - loss: 0.9100 - accuracy: 0.8086 - val_loss: 0.9696 - val_accuracy: 0.7467\n",
      "Epoch 49/200\n",
      "1400/1400 [==============================] - 0s 17us/step - loss: 0.9212 - accuracy: 0.8164 - val_loss: 0.9445 - val_accuracy: 0.7600\n",
      "Epoch 50/200\n",
      "1400/1400 [==============================] - 0s 45us/step - loss: 0.9085 - accuracy: 0.8150 - val_loss: 0.9335 - val_accuracy: 0.7617\n",
      "Epoch 51/200\n",
      "1400/1400 [==============================] - 0s 16us/step - loss: 0.8787 - accuracy: 0.8171 - val_loss: 0.9233 - val_accuracy: 0.7700\n",
      "Epoch 52/200\n",
      "1400/1400 [==============================] - 0s 21us/step - loss: 0.8965 - accuracy: 0.8157 - val_loss: 0.9145 - val_accuracy: 0.7767\n",
      "Epoch 53/200\n",
      "1400/1400 [==============================] - 0s 16us/step - loss: 0.9017 - accuracy: 0.8121 - val_loss: 0.9156 - val_accuracy: 0.7767\n",
      "Epoch 54/200\n",
      "1400/1400 [==============================] - 0s 14us/step - loss: 0.8676 - accuracy: 0.8264 - val_loss: 0.9007 - val_accuracy: 0.7883\n",
      "Epoch 55/200\n",
      "1400/1400 [==============================] - 0s 16us/step - loss: 0.8918 - accuracy: 0.8114 - val_loss: 0.8783 - val_accuracy: 0.8000\n",
      "Epoch 56/200\n",
      "1400/1400 [==============================] - 0s 38us/step - loss: 0.8730 - accuracy: 0.8207 - val_loss: 0.8579 - val_accuracy: 0.8217\n",
      "Epoch 57/200\n",
      "1400/1400 [==============================] - 0s 16us/step - loss: 0.8917 - accuracy: 0.8164 - val_loss: 0.8701 - val_accuracy: 0.8133\n",
      "Epoch 58/200\n",
      "1400/1400 [==============================] - 0s 19us/step - loss: 0.8656 - accuracy: 0.8257 - val_loss: 0.8942 - val_accuracy: 0.7883\n",
      "Epoch 59/200\n",
      "1400/1400 [==============================] - 0s 27us/step - loss: 0.8441 - accuracy: 0.8393 - val_loss: 0.8992 - val_accuracy: 0.7817\n",
      "Epoch 60/200\n",
      "1400/1400 [==============================] - 0s 12us/step - loss: 0.8375 - accuracy: 0.8357 - val_loss: 0.8969 - val_accuracy: 0.7867\n",
      "Epoch 61/200\n",
      "1400/1400 [==============================] - 0s 13us/step - loss: 0.8361 - accuracy: 0.8271 - val_loss: 0.8950 - val_accuracy: 0.7917\n",
      "Epoch 62/200\n",
      "1400/1400 [==============================] - 0s 16us/step - loss: 0.8484 - accuracy: 0.8271 - val_loss: 0.8965 - val_accuracy: 0.7883\n",
      "Epoch 63/200\n",
      "1400/1400 [==============================] - 0s 15us/step - loss: 0.8410 - accuracy: 0.8321 - val_loss: 0.8850 - val_accuracy: 0.7933\n",
      "Epoch 64/200\n",
      "1400/1400 [==============================] - 0s 24us/step - loss: 0.8234 - accuracy: 0.8343 - val_loss: 0.8722 - val_accuracy: 0.8050\n",
      "Epoch 65/200\n",
      "1400/1400 [==============================] - 0s 18us/step - loss: 0.8161 - accuracy: 0.8357 - val_loss: 0.8642 - val_accuracy: 0.8133\n"
     ]
    },
    {
     "name": "stdout",
     "output_type": "stream",
     "text": [
      "Epoch 66/200\n",
      "1400/1400 [==============================] - 0s 21us/step - loss: 0.7886 - accuracy: 0.8600 - val_loss: 0.8696 - val_accuracy: 0.8067\n",
      "Epoch 67/200\n",
      "1400/1400 [==============================] - 0s 11us/step - loss: 0.8163 - accuracy: 0.8436 - val_loss: 0.8794 - val_accuracy: 0.8050\n",
      "Epoch 68/200\n",
      "1400/1400 [==============================] - 0s 11us/step - loss: 0.8163 - accuracy: 0.8329 - val_loss: 0.8847 - val_accuracy: 0.8017\n",
      "Epoch 69/200\n",
      "1400/1400 [==============================] - 0s 17us/step - loss: 0.7984 - accuracy: 0.8500 - val_loss: 0.8819 - val_accuracy: 0.8017\n",
      "Epoch 70/200\n",
      "1400/1400 [==============================] - 0s 11us/step - loss: 0.8120 - accuracy: 0.8429 - val_loss: 0.8594 - val_accuracy: 0.8183\n",
      "Epoch 71/200\n",
      "1400/1400 [==============================] - 0s 12us/step - loss: 0.7892 - accuracy: 0.8436 - val_loss: 0.8323 - val_accuracy: 0.8283\n",
      "Epoch 72/200\n",
      "1400/1400 [==============================] - 0s 20us/step - loss: 0.7663 - accuracy: 0.8564 - val_loss: 0.8183 - val_accuracy: 0.8267\n",
      "Epoch 73/200\n",
      "1400/1400 [==============================] - 0s 29us/step - loss: 0.7532 - accuracy: 0.8621 - val_loss: 0.8078 - val_accuracy: 0.8350\n",
      "Epoch 74/200\n",
      "1400/1400 [==============================] - 0s 52us/step - loss: 0.7550 - accuracy: 0.8586 - val_loss: 0.8057 - val_accuracy: 0.8333\n",
      "Epoch 75/200\n",
      "1400/1400 [==============================] - 0s 14us/step - loss: 0.7468 - accuracy: 0.8664 - val_loss: 0.8240 - val_accuracy: 0.8150\n",
      "Epoch 76/200\n",
      "1400/1400 [==============================] - 0s 20us/step - loss: 0.8069 - accuracy: 0.8479 - val_loss: 0.8539 - val_accuracy: 0.7883\n",
      "Epoch 77/200\n",
      "1400/1400 [==============================] - 0s 38us/step - loss: 0.7704 - accuracy: 0.8436 - val_loss: 0.8680 - val_accuracy: 0.7783\n",
      "Epoch 78/200\n",
      "1400/1400 [==============================] - 0s 16us/step - loss: 0.7364 - accuracy: 0.8607 - val_loss: 0.8587 - val_accuracy: 0.7917\n",
      "Epoch 79/200\n",
      "1400/1400 [==============================] - 0s 12us/step - loss: 0.7836 - accuracy: 0.8464 - val_loss: 0.8414 - val_accuracy: 0.8100\n",
      "Epoch 80/200\n",
      "1400/1400 [==============================] - 0s 14us/step - loss: 0.7583 - accuracy: 0.8614 - val_loss: 0.8190 - val_accuracy: 0.8233\n",
      "Epoch 81/200\n",
      "1400/1400 [==============================] - 0s 14us/step - loss: 0.7555 - accuracy: 0.8579 - val_loss: 0.8083 - val_accuracy: 0.8283\n",
      "Epoch 82/200\n",
      "1400/1400 [==============================] - 0s 14us/step - loss: 0.7501 - accuracy: 0.8729 - val_loss: 0.8025 - val_accuracy: 0.8333\n",
      "Epoch 83/200\n",
      "1400/1400 [==============================] - 0s 11us/step - loss: 0.7473 - accuracy: 0.8529 - val_loss: 0.8084 - val_accuracy: 0.8267\n",
      "Epoch 84/200\n",
      "1400/1400 [==============================] - 0s 24us/step - loss: 0.7241 - accuracy: 0.8629 - val_loss: 0.8181 - val_accuracy: 0.8133\n",
      "Epoch 85/200\n",
      "1400/1400 [==============================] - 0s 13us/step - loss: 0.7506 - accuracy: 0.8571 - val_loss: 0.8051 - val_accuracy: 0.8200\n",
      "Epoch 86/200\n",
      "1400/1400 [==============================] - 0s 11us/step - loss: 0.7260 - accuracy: 0.8643 - val_loss: 0.7941 - val_accuracy: 0.8233\n",
      "Epoch 87/200\n",
      "1400/1400 [==============================] - 0s 22us/step - loss: 0.7391 - accuracy: 0.8607 - val_loss: 0.8128 - val_accuracy: 0.8100\n",
      "Epoch 88/200\n",
      "1400/1400 [==============================] - 0s 43us/step - loss: 0.6927 - accuracy: 0.8729 - val_loss: 0.8236 - val_accuracy: 0.8050\n",
      "Epoch 89/200\n",
      "1400/1400 [==============================] - 0s 14us/step - loss: 0.7203 - accuracy: 0.8671 - val_loss: 0.7993 - val_accuracy: 0.8333\n",
      "Epoch 90/200\n",
      "1400/1400 [==============================] - 0s 14us/step - loss: 0.7233 - accuracy: 0.8721 - val_loss: 0.7719 - val_accuracy: 0.8500\n",
      "Epoch 91/200\n",
      "1400/1400 [==============================] - 0s 16us/step - loss: 0.6809 - accuracy: 0.8814 - val_loss: 0.7620 - val_accuracy: 0.8533\n",
      "Epoch 92/200\n",
      "1400/1400 [==============================] - 0s 37us/step - loss: 0.7061 - accuracy: 0.8729 - val_loss: 0.7602 - val_accuracy: 0.8450\n",
      "Epoch 93/200\n",
      "1400/1400 [==============================] - 0s 14us/step - loss: 0.7212 - accuracy: 0.8729 - val_loss: 0.7623 - val_accuracy: 0.8467\n",
      "Epoch 94/200\n",
      "1400/1400 [==============================] - 0s 15us/step - loss: 0.7006 - accuracy: 0.8629 - val_loss: 0.7769 - val_accuracy: 0.8400\n",
      "Epoch 95/200\n",
      "1400/1400 [==============================] - 0s 40us/step - loss: 0.7020 - accuracy: 0.8707 - val_loss: 0.7854 - val_accuracy: 0.8333\n",
      "Epoch 96/200\n",
      "1400/1400 [==============================] - 0s 24us/step - loss: 0.6998 - accuracy: 0.8771 - val_loss: 0.7913 - val_accuracy: 0.8267\n",
      "Epoch 97/200\n",
      "1400/1400 [==============================] - 0s 15us/step - loss: 0.6914 - accuracy: 0.8857 - val_loss: 0.7805 - val_accuracy: 0.8283\n",
      "Epoch 98/200\n",
      "1400/1400 [==============================] - 0s 12us/step - loss: 0.7064 - accuracy: 0.8686 - val_loss: 0.7541 - val_accuracy: 0.8417\n",
      "Epoch 99/200\n",
      "1400/1400 [==============================] - 0s 11us/step - loss: 0.6765 - accuracy: 0.8771 - val_loss: 0.7295 - val_accuracy: 0.8633\n",
      "Epoch 100/200\n",
      "1400/1400 [==============================] - 0s 21us/step - loss: 0.7054 - accuracy: 0.8693 - val_loss: 0.7279 - val_accuracy: 0.8617\n",
      "Epoch 101/200\n",
      "1400/1400 [==============================] - 0s 11us/step - loss: 0.6869 - accuracy: 0.8843 - val_loss: 0.7306 - val_accuracy: 0.8567\n",
      "Epoch 102/200\n",
      "1400/1400 [==============================] - 0s 10us/step - loss: 0.6953 - accuracy: 0.8714 - val_loss: 0.7553 - val_accuracy: 0.8483\n",
      "Epoch 103/200\n",
      "1400/1400 [==============================] - 0s 9us/step - loss: 0.6837 - accuracy: 0.8793 - val_loss: 0.7661 - val_accuracy: 0.8433\n",
      "Epoch 104/200\n",
      "1400/1400 [==============================] - 0s 11us/step - loss: 0.6935 - accuracy: 0.8729 - val_loss: 0.7678 - val_accuracy: 0.8450\n",
      "Epoch 105/200\n",
      "1400/1400 [==============================] - 0s 14us/step - loss: 0.6938 - accuracy: 0.8771 - val_loss: 0.7609 - val_accuracy: 0.8450\n",
      "Epoch 106/200\n",
      "1400/1400 [==============================] - 0s 11us/step - loss: 0.6684 - accuracy: 0.8800 - val_loss: 0.7492 - val_accuracy: 0.8467\n",
      "Epoch 107/200\n",
      "1400/1400 [==============================] - 0s 16us/step - loss: 0.6422 - accuracy: 0.8921 - val_loss: 0.7081 - val_accuracy: 0.8667\n",
      "Epoch 108/200\n",
      "1400/1400 [==============================] - 0s 12us/step - loss: 0.6702 - accuracy: 0.8793 - val_loss: 0.7034 - val_accuracy: 0.8717\n",
      "Epoch 109/200\n",
      "1400/1400 [==============================] - 0s 16us/step - loss: 0.6714 - accuracy: 0.8800 - val_loss: 0.7387 - val_accuracy: 0.8517\n",
      "Epoch 110/200\n",
      "1400/1400 [==============================] - 0s 14us/step - loss: 0.6505 - accuracy: 0.8871 - val_loss: 0.7398 - val_accuracy: 0.8517\n",
      "Epoch 111/200\n",
      "1400/1400 [==============================] - 0s 12us/step - loss: 0.6500 - accuracy: 0.8957 - val_loss: 0.7251 - val_accuracy: 0.8583\n",
      "Epoch 112/200\n",
      "1400/1400 [==============================] - 0s 11us/step - loss: 0.6613 - accuracy: 0.8900 - val_loss: 0.7024 - val_accuracy: 0.8683\n",
      "Epoch 113/200\n",
      "1400/1400 [==============================] - 0s 12us/step - loss: 0.6493 - accuracy: 0.8893 - val_loss: 0.6650 - val_accuracy: 0.8900\n",
      "Epoch 114/200\n",
      "1400/1400 [==============================] - 0s 22us/step - loss: 0.6514 - accuracy: 0.8836 - val_loss: 0.6903 - val_accuracy: 0.8783\n",
      "Epoch 115/200\n",
      "1400/1400 [==============================] - 0s 39us/step - loss: 0.6391 - accuracy: 0.8821 - val_loss: 0.7424 - val_accuracy: 0.8467\n",
      "Epoch 116/200\n",
      "1400/1400 [==============================] - 0s 24us/step - loss: 0.6481 - accuracy: 0.8936 - val_loss: 0.7332 - val_accuracy: 0.8533\n",
      "Epoch 117/200\n",
      "1400/1400 [==============================] - 0s 43us/step - loss: 0.6423 - accuracy: 0.8957 - val_loss: 0.6994 - val_accuracy: 0.8783\n",
      "Epoch 118/200\n",
      "1400/1400 [==============================] - 0s 23us/step - loss: 0.6365 - accuracy: 0.8993 - val_loss: 0.6846 - val_accuracy: 0.8833\n",
      "Epoch 119/200\n",
      "1400/1400 [==============================] - 0s 24us/step - loss: 0.6480 - accuracy: 0.8921 - val_loss: 0.7020 - val_accuracy: 0.8700\n",
      "Epoch 120/200\n",
      "1400/1400 [==============================] - 0s 21us/step - loss: 0.6246 - accuracy: 0.9057 - val_loss: 0.7273 - val_accuracy: 0.8517\n",
      "Epoch 121/200\n",
      "1400/1400 [==============================] - 0s 23us/step - loss: 0.6262 - accuracy: 0.8986 - val_loss: 0.7352 - val_accuracy: 0.8467\n",
      "Epoch 122/200\n",
      "1400/1400 [==============================] - 0s 24us/step - loss: 0.6252 - accuracy: 0.9029 - val_loss: 0.7081 - val_accuracy: 0.8650\n",
      "Epoch 123/200\n",
      "1400/1400 [==============================] - 0s 44us/step - loss: 0.6355 - accuracy: 0.8914 - val_loss: 0.6790 - val_accuracy: 0.8817\n",
      "Epoch 124/200\n",
      "1400/1400 [==============================] - 0s 73us/step - loss: 0.6200 - accuracy: 0.8979 - val_loss: 0.6642 - val_accuracy: 0.8933\n",
      "Epoch 125/200\n",
      "1400/1400 [==============================] - 0s 61us/step - loss: 0.6272 - accuracy: 0.8971 - val_loss: 0.6843 - val_accuracy: 0.8767\n",
      "Epoch 126/200\n",
      "1400/1400 [==============================] - 0s 20us/step - loss: 0.6211 - accuracy: 0.8943 - val_loss: 0.7152 - val_accuracy: 0.8633\n",
      "Epoch 127/200\n",
      "1400/1400 [==============================] - 0s 69us/step - loss: 0.6299 - accuracy: 0.8971 - val_loss: 0.7091 - val_accuracy: 0.8650\n",
      "Epoch 128/200\n",
      "1400/1400 [==============================] - 0s 21us/step - loss: 0.6247 - accuracy: 0.8893 - val_loss: 0.6726 - val_accuracy: 0.8817\n",
      "Epoch 129/200\n",
      "1400/1400 [==============================] - 0s 26us/step - loss: 0.6177 - accuracy: 0.9007 - val_loss: 0.6393 - val_accuracy: 0.8967\n",
      "Epoch 130/200\n",
      "1400/1400 [==============================] - 0s 14us/step - loss: 0.6351 - accuracy: 0.8857 - val_loss: 0.6341 - val_accuracy: 0.9033\n",
      "Epoch 131/200\n",
      "1400/1400 [==============================] - 0s 11us/step - loss: 0.6385 - accuracy: 0.8871 - val_loss: 0.6722 - val_accuracy: 0.8917\n",
      "Epoch 132/200\n",
      "1400/1400 [==============================] - 0s 11us/step - loss: 0.6437 - accuracy: 0.8814 - val_loss: 0.7295 - val_accuracy: 0.8567\n",
      "Epoch 133/200\n",
      "1400/1400 [==============================] - 0s 18us/step - loss: 0.6351 - accuracy: 0.8950 - val_loss: 0.7157 - val_accuracy: 0.8617\n",
      "Epoch 134/200\n",
      "1400/1400 [==============================] - 0s 11us/step - loss: 0.6086 - accuracy: 0.9057 - val_loss: 0.6755 - val_accuracy: 0.8833\n",
      "Epoch 135/200\n",
      "1400/1400 [==============================] - 0s 13us/step - loss: 0.6133 - accuracy: 0.9050 - val_loss: 0.6545 - val_accuracy: 0.8933\n",
      "Epoch 136/200\n",
      "1400/1400 [==============================] - 0s 15us/step - loss: 0.6016 - accuracy: 0.9036 - val_loss: 0.6488 - val_accuracy: 0.8933\n",
      "Epoch 137/200\n",
      "1400/1400 [==============================] - 0s 24us/step - loss: 0.6263 - accuracy: 0.8907 - val_loss: 0.6563 - val_accuracy: 0.8883\n",
      "Epoch 138/200\n",
      "1400/1400 [==============================] - 0s 23us/step - loss: 0.6202 - accuracy: 0.8929 - val_loss: 0.6626 - val_accuracy: 0.8833\n",
      "Epoch 139/200\n",
      "1400/1400 [==============================] - 0s 24us/step - loss: 0.6113 - accuracy: 0.9093 - val_loss: 0.6634 - val_accuracy: 0.8850\n",
      "Epoch 140/200\n",
      "1400/1400 [==============================] - 0s 11us/step - loss: 0.5927 - accuracy: 0.9171 - val_loss: 0.6792 - val_accuracy: 0.8800\n",
      "Epoch 141/200\n",
      "1400/1400 [==============================] - 0s 10us/step - loss: 0.6019 - accuracy: 0.9071 - val_loss: 0.6851 - val_accuracy: 0.8783\n",
      "Epoch 142/200\n",
      "1400/1400 [==============================] - 0s 10us/step - loss: 0.6119 - accuracy: 0.8986 - val_loss: 0.6757 - val_accuracy: 0.8833\n",
      "Epoch 143/200\n",
      "1400/1400 [==============================] - 0s 11us/step - loss: 0.5844 - accuracy: 0.9057 - val_loss: 0.6572 - val_accuracy: 0.8950\n",
      "Epoch 144/200\n",
      "1400/1400 [==============================] - 0s 20us/step - loss: 0.6068 - accuracy: 0.8964 - val_loss: 0.6251 - val_accuracy: 0.9017\n",
      "Epoch 145/200\n",
      "1400/1400 [==============================] - 0s 10us/step - loss: 0.5995 - accuracy: 0.8957 - val_loss: 0.6347 - val_accuracy: 0.9033\n",
      "Epoch 146/200\n",
      "1400/1400 [==============================] - 0s 11us/step - loss: 0.6025 - accuracy: 0.9093 - val_loss: 0.6342 - val_accuracy: 0.9033\n",
      "Epoch 147/200\n",
      "1400/1400 [==============================] - 0s 11us/step - loss: 0.5963 - accuracy: 0.9064 - val_loss: 0.6414 - val_accuracy: 0.8983\n",
      "Epoch 148/200\n",
      "1400/1400 [==============================] - 0s 11us/step - loss: 0.6262 - accuracy: 0.8936 - val_loss: 0.6555 - val_accuracy: 0.8867\n",
      "Epoch 149/200\n",
      "1400/1400 [==============================] - 0s 11us/step - loss: 0.6045 - accuracy: 0.9021 - val_loss: 0.6688 - val_accuracy: 0.8817\n",
      "Epoch 150/200\n",
      "1400/1400 [==============================] - 0s 11us/step - loss: 0.6073 - accuracy: 0.9000 - val_loss: 0.6410 - val_accuracy: 0.8917\n",
      "Epoch 151/200\n",
      "1400/1400 [==============================] - 0s 11us/step - loss: 0.5924 - accuracy: 0.9036 - val_loss: 0.6059 - val_accuracy: 0.9083\n",
      "Epoch 152/200\n",
      "1400/1400 [==============================] - 0s 11us/step - loss: 0.5868 - accuracy: 0.9071 - val_loss: 0.6136 - val_accuracy: 0.9050\n",
      "Epoch 153/200\n",
      "1400/1400 [==============================] - 0s 11us/step - loss: 0.5910 - accuracy: 0.9014 - val_loss: 0.6458 - val_accuracy: 0.8950\n",
      "Epoch 154/200\n",
      "1400/1400 [==============================] - 0s 11us/step - loss: 0.5886 - accuracy: 0.9093 - val_loss: 0.6726 - val_accuracy: 0.8783\n",
      "Epoch 155/200\n",
      "1400/1400 [==============================] - 0s 31us/step - loss: 0.5852 - accuracy: 0.9150 - val_loss: 0.6747 - val_accuracy: 0.8733\n",
      "Epoch 156/200\n",
      "1400/1400 [==============================] - 0s 11us/step - loss: 0.5996 - accuracy: 0.8986 - val_loss: 0.6757 - val_accuracy: 0.8733\n",
      "Epoch 157/200\n",
      "1400/1400 [==============================] - 0s 10us/step - loss: 0.5972 - accuracy: 0.9057 - val_loss: 0.6711 - val_accuracy: 0.8767\n",
      "Epoch 158/200\n",
      "1400/1400 [==============================] - 0s 11us/step - loss: 0.5984 - accuracy: 0.9100 - val_loss: 0.6495 - val_accuracy: 0.8933\n",
      "Epoch 159/200\n",
      "1400/1400 [==============================] - 0s 11us/step - loss: 0.6069 - accuracy: 0.9057 - val_loss: 0.6411 - val_accuracy: 0.8933\n",
      "Epoch 160/200\n",
      "1400/1400 [==============================] - 0s 17us/step - loss: 0.5934 - accuracy: 0.9057 - val_loss: 0.6428 - val_accuracy: 0.8950\n",
      "Epoch 161/200\n",
      "1400/1400 [==============================] - 0s 11us/step - loss: 0.5877 - accuracy: 0.9036 - val_loss: 0.6494 - val_accuracy: 0.8867\n",
      "Epoch 162/200\n",
      "1400/1400 [==============================] - ETA: 0s - loss: 0.5916 - accuracy: 0.91 - 0s 11us/step - loss: 0.5929 - accuracy: 0.9086 - val_loss: 0.6592 - val_accuracy: 0.8883\n",
      "Epoch 163/200\n",
      "1400/1400 [==============================] - 0s 11us/step - loss: 0.5886 - accuracy: 0.9014 - val_loss: 0.6624 - val_accuracy: 0.8783\n",
      "Epoch 164/200\n",
      "1400/1400 [==============================] - 0s 11us/step - loss: 0.5898 - accuracy: 0.9100 - val_loss: 0.6340 - val_accuracy: 0.8950\n",
      "Epoch 165/200\n",
      "1400/1400 [==============================] - 0s 11us/step - loss: 0.5846 - accuracy: 0.9093 - val_loss: 0.6126 - val_accuracy: 0.9000\n",
      "Epoch 166/200\n",
      "1400/1400 [==============================] - 0s 11us/step - loss: 0.5819 - accuracy: 0.9029 - val_loss: 0.6211 - val_accuracy: 0.8967\n",
      "Epoch 00166: early stopping\n"
     ]
    }
   ],
   "source": [
    "# fit model\n",
    "history = model_cnn_adm.fit(trainX, trainy, validation_data=(testX, testy), epochs=200, verbose=1, callbacks=[es, mc],batch_size=1024)\n",
    "\n"
   ]
  },
  {
   "cell_type": "code",
   "execution_count": 90,
   "metadata": {},
   "outputs": [],
   "source": [
    "# load the saved model\n",
    "#saved_model = load_model('best_model_cnn_reg.h5')\n",
    "saved_model = model_cnn_adm"
   ]
  },
  {
   "cell_type": "code",
   "execution_count": 91,
   "metadata": {},
   "outputs": [
    {
     "name": "stdout",
     "output_type": "stream",
     "text": [
      "Train: 0.898, Test: 0.897\n"
     ]
    }
   ],
   "source": [
    "# evaluate the model\n",
    "_, train_acc = saved_model.evaluate(trainX, trainy, verbose=0)\n",
    "_, test_acc = saved_model.evaluate(testX, testy, verbose=0)\n",
    "print('Train: %.3f, Test: %.3f' % (train_acc, test_acc))\n"
   ]
  },
  {
   "cell_type": "code",
   "execution_count": 92,
   "metadata": {},
   "outputs": [
    {
     "data": {
      "image/png": "[encoded data removed]",
      "text/plain": [
       "<Figure size 432x288 with 1 Axes>"
      ]
     },
     "metadata": {
      "needs_background": "light"
     },
     "output_type": "display_data"
    }
   ],
   "source": [
    "# plot training history\n",
    "pyplot.plot(history.history['loss'], label='train')\n",
    "pyplot.plot(history.history['val_loss'], label='test')\n",
    "pyplot.legend()\n",
    "pyplot.show()"
   ]
  },
  {
   "cell_type": "code",
   "execution_count": 93,
   "metadata": {},
   "outputs": [
    {
     "name": "stdout",
     "output_type": "stream",
     "text": [
      "[[306   0   4  33]\n",
      " [  0 344   5   0]\n",
      " [  4  59 246  38]\n",
      " [  0   0   0 361]]\n",
      "0.8978571428571429\n",
      "[[140   0   0  17]\n",
      " [  0 151   0   0]\n",
      " [  2  24 108  19]\n",
      " [  0   0   0 139]]\n",
      "0.8966666666666666\n"
     ]
    }
   ],
   "source": [
    "#Confusion Matrix\n",
    "train_predicted=saved_model.predict(trainX)\n",
    "test_predicted=saved_model.predict(testX)\n",
    "\n",
    "#Confusion Matrix for Training\n",
    "from sklearn import metrics\n",
    "confusion = metrics.confusion_matrix(trainy.argmax(axis=1), train_predicted.argmax(axis=1))\n",
    "print(confusion)\n",
    "\n",
    "# Let's check the overall accuracy.\n",
    "print(metrics.accuracy_score(trainy.argmax(axis=1), train_predicted.argmax(axis=1)))\n",
    "\n",
    "#Confusion Matrix for Testing\n",
    "from sklearn import metrics\n",
    "confusion1 = metrics.confusion_matrix(testy.argmax(axis=1), test_predicted.argmax(axis=1))\n",
    "print(confusion1)\n",
    "\n",
    "# Let's check the overall accuracy.\n",
    "print(metrics.accuracy_score(testy.argmax(axis=1), test_predicted.argmax(axis=1)))"
   ]
  },
  {
   "cell_type": "code",
   "execution_count": 94,
   "metadata": {},
   "outputs": [
    {
     "name": "stdout",
     "output_type": "stream",
     "text": [
      "[0.89171975 1.         0.70588235 1.        ]\n",
      "[0.99548533 0.94654788 1.         0.92190889]\n",
      "[0.96833333 0.96       0.925      0.94      ]\n"
     ]
    }
   ],
   "source": [
    "FP = confusion1.sum(axis=0) - np.diag(confusion1)  \n",
    "FN = confusion1.sum(axis=1) - np.diag(confusion1)\n",
    "TP = np.diag(confusion1)\n",
    "TN = confusion1.sum() - (FP + FN + TP)\n",
    "\n",
    "FP = FP.astype(float)\n",
    "FN = FN.astype(float)\n",
    "TP = TP.astype(float)\n",
    "TN = TN.astype(float)\n",
    "\n",
    "# Sensitivity, hit rate, recall, or true positive rate\n",
    "TPR = TP/(TP+FN)\n",
    "print(TPR)\n",
    "# Specificity or true negative rate\n",
    "TNR = TN/(TN+FP) \n",
    "print(TNR)\n",
    "# Precision or positive predictive value\n",
    "PPV = TP/(TP+FP)\n",
    "# Negative predictive value\n",
    "NPV = TN/(TN+FN)\n",
    "# Fall out or false positive rate\n",
    "FPR = FP/(FP+TN)\n",
    "# False negative rate\n",
    "FNR = FN/(TP+FN)\n",
    "# False discovery rate\n",
    "FDR = FP/(TP+FP)\n",
    "# Overall accuracy\n",
    "ACC = (TP+TN)/(TP+FP+FN+TN)\n",
    "print(ACC)"
   ]
  },
  {
   "cell_type": "code",
   "execution_count": null,
   "metadata": {},
   "outputs": [],
   "source": []
  }
 ],
 "metadata": {
  "kernelspec": {
   "display_name": "deep",
   "language": "python",
   "name": "deep"
  },
  "language_info": {
   "codemirror_mode": {
    "name": "ipython",
    "version": 3
   },
   "file_extension": ".py",
   "mimetype": "text/x-python",
   "name": "python",
   "nbconvert_exporter": "python",
   "pygments_lexer": "ipython3",
   "version": "3.7.5"
  }
 },
 "nbformat": 4,
 "nbformat_minor": 2
}
